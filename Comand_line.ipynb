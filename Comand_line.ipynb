{
  "cells": [
    {
      "cell_type": "markdown",
      "metadata": {
        "id": "9NcipjNak668"
      },
      "source": [
        "Este challenge está basado en los ejercicios del curso \"Practical Data Science\" que puedes encontrar aqui: https://www.practicaldatascience.org/html/index.html."
      ]
    },
    {
      "cell_type": "markdown",
      "metadata": {
        "id": "noAnKXaYlGhA"
      },
      "source": [
        "### Navegando directorios.\n",
        "\n",
        "1. Utilice el comando pwd para preguntarle a su sesión de línea de comandos dónde cree que se encuentra actualmente. ¿Cuál es su directorio de trabajo actual?\n",
        "\n",
        "2. Descarga el archivo [NYC_311calls_2018.zip](https://github.com/nickeubank/MIDS_Data/blob/master/NYC_311_ServiceRequests/NYC_311calls_2018.zip?raw=true\n",
        ") desde la línea de comandos. Usando cualquier estrategia de obtención de datos, cambie su directorio de trabajo a la carpeta donde guardó NYC_311calls_2018.zip. Luego ejecute el comando para descomprimir el archivo:\n",
        "```\n",
        "unzip NYC_311calls_2018.zip\n",
        "```"
      ]
    },
    {
      "cell_type": "code",
      "execution_count": null,
      "metadata": {
        "id": "Y_YA4HxSmZ7y"
      },
      "outputs": [],
      "source": [
        "!pwd"
      ]
    },
    {
      "cell_type": "markdown",
      "metadata": {
        "id": "LapLyacGmaN8"
      },
      "source": [
        "### Explorando archivos\n",
        "\n",
        "1. Haga lo que sugiere README.md. Léalo primero con el comando cat README.md, luego con el comando less README.md (presione q para salir y salir cuando haya terminado). ¿Funciona lo mismo con **CE-20170824.pdf**? ¿Por qué?\n",
        "\n",
        "2. **CE-20170824.pdf** es solo un documento que alguien escribió usando estos datos. Dado que el nombre **CE-20170824.pdf** no nos dice nada sobre este documento, cambiemos el nombre con el comando `mv`. Si \"mueves\" algo de su ubicación actual a su ubicación actual pero con un nombre diferente, efectivamente, ¡lo renombraste!. Así que intente cambiar el nombre de **CE-20170824.pdf** a algo más descriptivo.\n",
        "\n",
        "3. Una de las ventajas de la línea de comandos es que puede utilizar comodines (el símbolo *) para identificar cualquier archivo con un patrón determinado. Por ejemplo, si quisiera enumerar todos los archivos CSV en `raw_data` de Febrero, escribiría `ls 311calls_2018_2 _ *.csv`, ya que todos los archivos de febrero (mes 2) tendrían el mismo prefijo (311calls_2018_2_) y sufijo (.csv ). Ahora, usando el comando `mv` y el símbolo *, mueva todos los archivos del jueves y viernes a una nueva carpeta llamada `thursdays_and_fridays` en el mismo directorio raíz.\n"
      ]
    },
    {
      "cell_type": "code",
      "execution_count": null,
      "metadata": {
        "id": "QKUC_gYYpJkG"
      },
      "outputs": [],
      "source": []
    },
    {
      "cell_type": "markdown",
      "metadata": {
        "id": "z-urVaBupfo0"
      },
      "source": [
        "### Verificando archivos\n",
        "\n",
        "Al trabajar con datos, es importante verificar siempre sus suposiciones. Por ejemplo, creemos que tenemos datos de todos los jueves y viernes en el directorio thursdays_and_fridays. ¿Pero estamos seguros?\n",
        "\n",
        "Para comprobarlo, busquemos rápidamente en Google \"cuántos jueves hubo en 2018\" y \"cuántos viernes hubo en 2018\" (hay 52 semanas en un año, por lo que probablemente sean 52 de cada uno, pero es importante asegurarse de que 365 no sea uniforme dividido por 52).\n",
        "\n",
        "Luego, contemos la cantidad de archivos que tenemos en el directorio thursdays_and_fridays.\n",
        "\n",
        "Sugerencia: para hacer esto, necesitamos un comando para enumerar los nombres de todos los archivos en thursdays_and_fridays (ls), un segundo comando para contar el número de archivos reportados (wc) y alguna forma de pasar datos de uno a otro. .\n",
        "\n",
        "Segunda pista: probablemente quieras usar la marca 1 para ls. La bandera 1 le dice a ls que se asegure de que solo imprima un nombre de archivo por línea.\n",
        "\n",
        "Si tiene problemas para interpretar la salida que obtiene, es posible que deba consultar la documentación de wc."
      ]
    },
    {
      "cell_type": "code",
      "execution_count": null,
      "metadata": {
        "id": "2Ub0zI2Gp6px"
      },
      "outputs": [],
      "source": []
    },
    {
      "cell_type": "markdown",
      "metadata": {
        "id": "CJcoAO77p7kI"
      },
      "source": [
        "### Combinando archivos\n",
        "\n",
        "Tener todos estos archivos individuales no es muy eficaz. En su lugar, nos gustaría fusionar todos estos archivos en un solo archivo CSV grande que podemos importar a Python y analizar.\n",
        "\n",
        "Como recordará, el comando cat se usa a menudo para imprimir el contenido de un archivo en la pantalla. Pero cat en realidad significa concatenar: si le da al comando varios archivos, los unirá uno tras otro.\n",
        "\n",
        "Utilice cat para fusionar todos los archivos de thursdays_and_fridays en un solo CSV llamado thursdays_and_fridays.csv guardado en el disco."
      ]
    },
    {
      "cell_type": "code",
      "execution_count": null,
      "metadata": {
        "id": "z1GkU_JyqFJH"
      },
      "outputs": [],
      "source": []
    },
    {
      "cell_type": "markdown",
      "metadata": {
        "id": "jS9iAsCRqFay"
      },
      "source": [
        "### Visualizando los resultados\n",
        "\n",
        "¡Excelente! Ahora tenemos un solo archivo CSV con todos nuestros datos para los jueves y viernes. Pero hay un problema: ¡ninguna de las columnas está etiquetada !.\n",
        "\n",
        "Eche un vistazo a las primeras líneas de nuestro archivo CSV combinado usando less o head.\n"
      ]
    },
    {
      "cell_type": "code",
      "execution_count": null,
      "metadata": {
        "id": "PHh6bQz6qZLT"
      },
      "outputs": [],
      "source": []
    },
    {
      "cell_type": "markdown",
      "metadata": {
        "id": "SwovVsJyqZf8"
      },
      "source": [
        "### Editando\n",
        "\n",
        "En NYC311_calls_2018 hay un archivo llamado NYC311_column_names.txt. Tiene todos los nombres de columna de nuestros CSV.\n",
        "\n",
        "Podemos agregar estos nombres de columna concatenando el archivo de nombre de columna en la parte superior de nuestro CSV, pero solo si está formateado correctamente, lo cual no es así; cuando se exportaron los nombres de columna, incluyeron corchetes al principio y al final de la nombres de columna.\n",
        "\n",
        "Remueve los corchetes sin editar directamente el archivo y concatena el encabezado con tu csv en un nuevo archivo thursdays_and_fridays_w_columnnames.csv.\n",
        "\n",
        "Una vez que haya terminado de crear este archivo, limpiemos eliminando la carpeta raw data y todo su contenido."
      ]
    },
    {
      "cell_type": "code",
      "execution_count": null,
      "metadata": {
        "id": "WXSz0m1Gq0pt"
      },
      "outputs": [],
      "source": []
    },
    {
      "cell_type": "markdown",
      "metadata": {
        "id": "WlXcHKPnrJfp"
      },
      "source": [
        "### Un pipeline más complejo\n",
        "\n",
        "Tomado de https://www.datascienceatthecommandline.com/\n",
        "\n",
        "Crea un pipeline que descargue el libro Alice’s Adventures in Wonderland by Lewis Carroll de project Guttenberg (https://www.gutenberg.org/files/11/11-0.txt) y extraiga las palabras más comunes, sin incluir las contenidos en la lista de stopwords descargadas en clase. Como referencia, los pasos originales, sin eliminar las sotpwords, son:\n",
        "\n",
        "1. Downloading an ebook. (curl)\n",
        "2. Converting the entire text to lowercase. (tr)\n",
        "3. Extracting all the words. (grep)\n",
        "4. Sort these words in alphabetical order. (sort)\n",
        "5. Remove all the duplicates and count how often each word appears in the list. (uniq)\n",
        "6. Sort this list of unique words by their count in descending order. (sort)\n",
        "7. Keep only the top 10 lines (i.e., words). (head)\n",
        "\n"
      ]
    },
    {
      "cell_type": "code",
      "execution_count": null,
      "metadata": {
        "id": "_SkVDMXErM1r"
      },
      "outputs": [],
      "source": []
    }
  ],
  "metadata": {
    "colab": {
      "collapsed_sections": [],
      "name": "Challenge.ipynb",
      "provenance": []
    },
    "kernelspec": {
      "display_name": "Python 3.10.4 64-bit",
      "language": "python",
      "name": "python3"
    },
    "language_info": {
      "name": "python",
      "version": "3.10.4"
    },
    "vscode": {
      "interpreter": {
        "hash": "6483d42e64b705807ee7ab627fc5c3df04fe935c6b01693ce46ae2d688d3de35"
      }
    }
  },
  "nbformat": 4,
  "nbformat_minor": 0
}
