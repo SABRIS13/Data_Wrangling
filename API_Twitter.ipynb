{
  "cells": [
    {
      "cell_type": "markdown",
      "metadata": {
        "id": "7AbAFYczNcQX"
      },
      "source": [
        "# ¿Qué Recuerdas de la API de Twitter? 😏"
      ]
    },
    {
      "cell_type": "markdown",
      "metadata": {
        "id": "JlSvMwj_ZCIe"
      },
      "source": [
        "¡Pongamos a prueba nuestras habilidades para consumir esta API en 4 de sus Endpoints!"
      ]
    },
    {
      "cell_type": "code",
      "execution_count": null,
      "metadata": {
        "id": "DACxp511pHFK"
      },
      "outputs": [],
      "source": [
        "#!pip install tweepy"
      ]
    },
    {
      "cell_type": "code",
      "execution_count": 1,
      "metadata": {
        "id": "4fe5WCePpHFL"
      },
      "outputs": [],
      "source": [
        "import pandas as pd\n",
        "import matplotlib.pyplot as plt\n",
        "import itertools\n",
        "import collections\n",
        "\n",
        "import tweepy as tw\n",
        "import nltk\n",
        "from nltk.corpus import stopwords\n",
        "import re"
      ]
    },
    {
      "cell_type": "code",
      "source": [
        "# Si quieres obtener tus propios accesos, puedes hacerlo aquí: https://developer.twitter.com/\n",
        "\n",
        "ACCESS_TOKEN = '168255741-3Djz0KcUiv61bazL1oWukLlWfoZLxi8MvBgGz2iC'\n",
        "%store ACCESS_TOKEN\n",
        "ACCESS_TOKEN_SECRET = 'xLGldW9k8i8iJpjSKqIpp4wNpqFDeGLGnOEPDnwGjtIAo'\n",
        "%store ACCESS_TOKEN_SECRET\n",
        "API_KEY = 'SGFZTl0JXlTcHZBSMQvCuk3ud'\n",
        "%store API_KEY\n",
        "API_SECRET = 'IlRjxECBiahfXHMqF8hIl3dQpZC0gfGz7qobWyUi8QuustDrr2'\n",
        "%store API_SECRET"
      ],
      "metadata": {
        "colab": {
          "base_uri": "https://localhost:8080/"
        },
        "id": "de6ZhZiPMA9I",
        "outputId": "2548ead1-fd59-4558-fb2f-f39d56009b33"
      },
      "execution_count": 8,
      "outputs": [
        {
          "output_type": "stream",
          "name": "stdout",
          "text": [
            "Stored 'ACCESS_TOKEN' (str)\n",
            "Stored 'ACCESS_TOKEN_SECRET' (str)\n",
            "Stored 'API_KEY' (str)\n",
            "Stored 'API_SECRET' (str)\n"
          ]
        }
      ]
    },
    {
      "cell_type": "code",
      "execution_count": 9,
      "metadata": {
        "colab": {
          "base_uri": "https://localhost:8080/"
        },
        "id": "IjEfS9Qwv6rk",
        "outputId": "462d28ee-1e6b-4482-eaad-13813a8c40b5"
      },
      "outputs": [
        {
          "output_type": "execute_result",
          "data": {
            "text/plain": [
              "<tweepy.api.API at 0x7fc0be591410>"
            ]
          },
          "metadata": {},
          "execution_count": 9
        }
      ],
      "source": [
        "auth = tw.OAuthHandler(API_KEY, API_SECRET)\n",
        "auth.set_access_token(ACCESS_TOKEN, ACCESS_TOKEN_SECRET)\n",
        "api = tw.API(auth)\n",
        "api"
      ]
    },
    {
      "cell_type": "markdown",
      "metadata": {
        "id": "ZKCcXei5ZnJP"
      },
      "source": [
        "## Tweets de un timeline\n",
        "\n",
        "- Obtén la timeline de un usuario especifico de Twitter, mostrando solo los primeros 10 tweets\n",
        "- Añade los tweets a una lista y conviértelos en un DataFrame"
      ]
    },
    {
      "cell_type": "code",
      "execution_count": null,
      "metadata": {
        "id": "Z7L06zUWZmOR"
      },
      "outputs": [],
      "source": [
        "#documentacion del endpoint https://developer.twitter.com/en/docs/twitter-api/v1/tweets/timelines/api-reference/get-statuses-user_timeline\n",
        "me_tweets = api.user_timeline(screen_name=\"@Marzuckerberg\", count=10)\n",
        "tweets = []\n",
        "for tweet in me_tweets:\n",
        "    print(tweet._json)\n",
        "    tweets.append(tweet._json)\n",
        "tweets\n",
        "pd.DataFrame(tweets)"
      ]
    },
    {
      "cell_type": "markdown",
      "metadata": {
        "id": "7WLzoCiF94Mw"
      },
      "source": [
        "## Tweets del home \n",
        "\n",
        "- Obtén de la timeline del home de Twitter, solo los primeros 10 tweets\n",
        "- Añade los tweets a una lista y conviértelos en un DataFrame"
      ]
    },
    {
      "cell_type": "code",
      "execution_count": null,
      "metadata": {
        "id": "eWQUHZyN94qe"
      },
      "outputs": [],
      "source": [
        "#documentacion del endpoint https://developer.twitter.com/en/docs/twitter-api/v1/tweets/timelines/api-reference/get-statuses-home_timeline\n",
        "#home_timeline"
      ]
    },
    {
      "cell_type": "code",
      "execution_count": null,
      "metadata": {
        "id": "e-l1MOxA-Vqa"
      },
      "outputs": [],
      "source": [
        "public_tweets = api.home_timeline(count=10)\n",
        "tweets_p = []\n",
        "for tweet in public_tweets:\n",
        "    print(tweet._json)\n",
        "    tweets_p.append(tweet._json)\n",
        "tweets_p\n",
        "pd.DataFrame(tweets_p)"
      ]
    },
    {
      "cell_type": "markdown",
      "metadata": {
        "id": "cuoRxf3U-14g"
      },
      "source": [
        "## Mentions del timeline \n",
        "\n",
        "- Obtén las 20 menciones mas recientes.\n",
        "- Añade los tweets a una lista y conviértelos en un DataFrame"
      ]
    },
    {
      "cell_type": "code",
      "execution_count": null,
      "metadata": {
        "id": "V01YxoLE-29z"
      },
      "outputs": [],
      "source": [
        "#documentacion del endpoint https://developer.twitter.com/en/docs/twitter-api/v1/tweets/timelines/api-reference/get-statuses-mentions_timeline\n",
        "#mentions_timeline"
      ]
    },
    {
      "cell_type": "code",
      "execution_count": null,
      "metadata": {
        "id": "AE5RAEP2_uHX"
      },
      "outputs": [],
      "source": [
        "mentions_tweets = api.mentions_timeline(count=20)\n",
        "tweets_m = []\n",
        "for tweet in mentions_tweets:\n",
        "    print(tweet._json)\n",
        "    tweets_m.append(tweet._json)\n",
        "tweets_m\n",
        "pd.DataFrame(tweets_m)"
      ]
    },
    {
      "cell_type": "markdown",
      "metadata": {
        "id": "geQZ_z6_DF5A"
      },
      "source": [
        "## Count recent 👀\n",
        "\n",
        "- Obtén el numero de tweets recientes de los ultimos 7 dias\n"
      ]
    },
    {
      "cell_type": "code",
      "execution_count": null,
      "metadata": {
        "id": "AL6_eHmUDRWa"
      },
      "outputs": [],
      "source": [
        "#documentacion del endpoint https://developer.twitter.com/en/docs/twitter-api/tweets/counts/api-reference/get-tweets-counts-recent\n",
        "#recent"
      ]
    },
    {
      "cell_type": "code",
      "execution_count": null,
      "metadata": {
        "id": "VAJ4bTy-Hf0A"
      },
      "outputs": [],
      "source": [
        "recent_tweets =  tw.Cursor(api.search,\n",
        "                   lang=\"en\",\n",
        "                   start_time='2022-05-05').items(500)\n",
        "\n",
        "tweets_r = []\n",
        "for tweet in recent_tweets:\n",
        "    print(tweet._json)\n",
        "    tweets_r.append(tweet._json)\n",
        "tweets_r\n",
        "pd.DataFrame(tweets_r)"
      ]
    }
  ],
  "metadata": {
    "colab": {
      "collapsed_sections": [],
      "name": "API_Twitter.ipynb",
      "provenance": []
    },
    "kernelspec": {
      "display_name": "Python 3",
      "name": "python3"
    },
    "language_info": {
      "name": "python"
    }
  },
  "nbformat": 4,
  "nbformat_minor": 0
}