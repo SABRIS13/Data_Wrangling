{
  "nbformat": 4,
  "nbformat_minor": 0,
  "metadata": {
    "colab": {
      "name": "Command Line Challenge.ipynb",
      "provenance": [],
      "collapsed_sections": []
    },
    "kernelspec": {
      "name": "python3",
      "display_name": "Python 3"
    },
    "language_info": {
      "name": "python"
    }
  },
  "cells": [
    {
      "cell_type": "markdown",
      "metadata": {
        "id": "9NcipjNak668"
      },
      "source": [
        "Este challenge está basado en los ejercicios del curso \"Practical Data Science\" que puedes encontrar aqui: https://www.practicaldatascience.org/html/index.html."
      ]
    },
    {
      "cell_type": "markdown",
      "metadata": {
        "id": "noAnKXaYlGhA"
      },
      "source": [
        "### Navegando directorios.\n",
        "\n",
        "1. Utilice el comando pwd para preguntarle a su sesión de línea de comandos dónde cree que se encuentra actualmente. ¿Cuál es su directorio de trabajo actual?\n",
        "\n",
        "2. Descarga el archivo [NYC_311calls_2018.zip](https://github.com/nickeubank/MIDS_Data/blob/master/NYC_311_ServiceRequests/NYC_311calls_2018.zip?raw=true\n",
        ") desde la línea de comandos. Usando cualquier estrategia de obtención de datos, cambie su directorio de trabajo a la carpeta donde guardó NYC_311calls_2018.zip. Luego ejecute el comando para descomprimir el archivo:\n",
        "```\n",
        "unzip NYC_311calls_2018.zip\n",
        "```"
      ]
    },
    {
      "cell_type": "code",
      "metadata": {
        "id": "Y_YA4HxSmZ7y",
        "colab": {
          "base_uri": "https://localhost:8080/"
        },
        "outputId": "3fd9e41e-b324-4d4d-f0b4-21085299a1a3"
      },
      "source": [
        "!pwd  #Directorio actual"
      ],
      "execution_count": 1,
      "outputs": [
        {
          "output_type": "stream",
          "name": "stdout",
          "text": [
            "/content\n"
          ]
        }
      ]
    },
    {
      "cell_type": "code",
      "source": [
        "#Descargar archivo zip\n",
        "!wget \"https://github.com/nickeubank/MIDS_Data/blob/master/NYC_311_ServiceRequests/NYC_311calls_2018.zip?raw=true\"-o NYC_311calls_2018.zip"
      ],
      "metadata": {
        "id": "38g114uLKGFq"
      },
      "execution_count": null,
      "outputs": []
    },
    {
      "cell_type": "code",
      "source": [
        "#Listado de los archivos\n",
        "!ls "
      ],
      "metadata": {
        "colab": {
          "base_uri": "https://localhost:8080/"
        },
        "id": "83_NysLSKKJj",
        "outputId": "ef676055-b125-414d-d1d0-9e43602adf0d"
      },
      "execution_count": 3,
      "outputs": [
        {
          "output_type": "stream",
          "name": "stdout",
          "text": [
            "'NYC_311calls_2018.zip?raw=true-o'   sample_data\n"
          ]
        }
      ]
    },
    {
      "cell_type": "code",
      "source": [
        "#Descomprimir archivo\n",
        "!unzip NYC_311calls_2018.zip?raw=true-o "
      ],
      "metadata": {
        "id": "Ec2rP_puKM34"
      },
      "execution_count": null,
      "outputs": []
    },
    {
      "cell_type": "code",
      "source": [
        "!ls"
      ],
      "metadata": {
        "colab": {
          "base_uri": "https://localhost:8080/"
        },
        "id": "jWUF8ItZKSqH",
        "outputId": "00368a6e-9eeb-4f64-dba0-a558f2318406"
      },
      "execution_count": 6,
      "outputs": [
        {
          "output_type": "stream",
          "name": "stdout",
          "text": [
            " __MACOSX   NYC_311calls_2018  'NYC_311calls_2018.zip?raw=true-o'   sample_data\n"
          ]
        }
      ]
    },
    {
      "cell_type": "code",
      "source": [
        "#Cambiando de directorio a NYC_311calls_2018\n",
        "%cd NYC_311calls_2018/  "
      ],
      "metadata": {
        "colab": {
          "base_uri": "https://localhost:8080/"
        },
        "id": "1PcyidG_KbBM",
        "outputId": "b4f176ee-4c8b-469d-b279-e7cc1c2c18d1"
      },
      "execution_count": 9,
      "outputs": [
        {
          "output_type": "stream",
          "name": "stdout",
          "text": [
            "/content/NYC_311calls_2018\n"
          ]
        }
      ]
    },
    {
      "cell_type": "markdown",
      "metadata": {
        "id": "LapLyacGmaN8"
      },
      "source": [
        "### Explorando archivos\n",
        "\n",
        "1. Haga lo que sugiere README.md. Léalo primero con el comando cat README.md, luego con el comando less README.md (presione q para salir y salir cuando haya terminado). ¿Funciona lo mismo con **CE-20170824.pdf**? ¿Por qué?\n",
        "\n",
        "2. **CE-20170824.pdf** es solo un documento que alguien escribió usando estos datos. Dado que el nombre **CE-20170824.pdf** no nos dice nada sobre este documento, cambiemos el nombre con el comando `mv`. Si \"mueves\" algo de su ubicación actual a su ubicación actual pero con un nombre diferente, efectivamente, ¡lo renombraste!. Así que intente cambiar el nombre de **CE-20170824.pdf** a algo más descriptivo.\n",
        "\n",
        "3. Una de las ventajas de la línea de comandos es que puede utilizar comodines (el símbolo *) para identificar cualquier archivo con un patrón determinado. Por ejemplo, si quisiera enumerar todos los archivos CSV en `raw_data` de Febrero, escribiría `ls 311calls_2018_2 _ *.csv`, ya que todos los archivos de febrero (mes 2) tendrían el mismo prefijo (311calls_2018_2_) y sufijo (.csv ). Ahora, usando el comando `mv` y el símbolo *, mueva todos los archivos del jueves y viernes a una nueva carpeta llamada `thursdays_and_fridays` en el mismo directorio raíz.\n"
      ]
    },
    {
      "cell_type": "code",
      "metadata": {
        "id": "QKUC_gYYpJkG",
        "colab": {
          "base_uri": "https://localhost:8080/"
        },
        "outputId": "68d31a96-403a-44a6-addf-34c4e17b851c"
      },
      "source": [
        "!cat README.md"
      ],
      "execution_count": 10,
      "outputs": [
        {
          "output_type": "stream",
          "name": "stdout",
          "text": [
            "# NYC 311 Call Records\n",
            "\n",
            "## Background\n",
            "\n",
            "Since March 2003 New York City has operated a single 24-hour phone number for government information and non-emergency services. The number, 3-1-1, is toll-free from any phone in the city. The services provided by 3-1-1 have gradually expanded since its start, including information on hundreds of City services, agencies, and events. New Yorkers call 3-1-1 for recycling schedules, complaints about garbage pick-up, street parking rules, noise complaints, landlord disputes and information about health insurance, information relating to recreation centers, public pools, golf courses and other facilities, or to schedule inspections by the Department of Buildings. 3-1-1 is also used by city agencies to direct resources and improve management. Outside of New York City, 3-1-1 can be accessed by calling (212) NEW-YORK (212-639-9675). There is also a mobile App to access the 311 information services on iOS, Android and Windows Phone.\n",
            "\n",
            "Between 2003 and 2006 3-1-1 received more than 30 million calls. Services are provided in over 170 languages, and calls are taken at a call center in Downtown, Manhattan. On December 20, 2005, the first day of the 2005 New York City transit strike, 3-1-1 received over 240,000 phone calls, setting a new daily record for the city.\n",
            "\n",
            "## Data\n",
            "\n",
            "This folder includes all 311 calls placed during 2018. There is 1 CSV file per day. Column names can be found in NYC311_column_names.txt. Descriptions of variables can be found in 311_SR_Data_Dictionary_2018.xlsx.\n"
          ]
        }
      ]
    },
    {
      "cell_type": "code",
      "source": [
        "!less README.md"
      ],
      "metadata": {
        "colab": {
          "base_uri": "https://localhost:8080/"
        },
        "id": "_m_7PhmTKk0Q",
        "outputId": "0403eadc-ad67-4da3-c52d-68f125197730"
      },
      "execution_count": 11,
      "outputs": [
        {
          "output_type": "stream",
          "name": "stdout",
          "text": [
            "\u001b7\u001b[?47h\u001b[?1h\u001b=\r# NYC 311 Call Records\r\n",
            "\r\n",
            "## Background\r\n",
            "\r\n",
            "Since March 2003 New York City has operated a single 24-hour phone number for go \bvernment information and non-emergency services. The number, 3-1-1, is toll-free \b from any phone in the city. The services provided by 3-1-1 have gradually expan \bded since its start, including information on hundreds of City services, agencie \bs, and events. New Yorkers call 3-1-1 for recycling schedules, complaints about  \bgarbage pick-up, street parking rules, noise complaints, landlord disputes and i \bnformation about health insurance, information relating to recreation centers, p \bublic pools, golf courses and other facilities, or to schedule inspections by th \be Department of Buildings. 3-1-1 is also used by city agencies to direct resourc \bes and improve management. Outside of New York City, 3-1-1 can be accessed by ca \blling (212) NEW-YORK (212-639-9675). There is also a mobile App to access the 31 \b1 information services on iOS, Android and Windows Phone.\r\n",
            "\r\n",
            "Between 2003 and 2006 3-1-1 received more than 30 million calls. Services are pr \bovided in over 170 languages, and calls are taken at a call center in Downtown,  \bManhattan. On December 20, 2005, the first day of the 2005 New York City transit \b strike, 3-1-1 received over 240,000 phone calls, setting a new daily record for \b the city.\r\n",
            "\n",
            "\u001b[K\u001b[?1l\u001b>\u001b[2J\u001b[?47l\u001b8"
          ]
        }
      ]
    },
    {
      "cell_type": "code",
      "source": [
        "#No se puede leer correctamente el archivo pdf, a diferencia del archivo de texto\n",
        "!cat CE-20170824.pdf  "
      ],
      "metadata": {
        "id": "IPlpWkRjKodh"
      },
      "execution_count": null,
      "outputs": []
    },
    {
      "cell_type": "code",
      "source": [
        "#Cambiar nombre a archivo pdf\n",
        "!mv CE-20170824.pdf Elections_art.pdf"
      ],
      "metadata": {
        "id": "ltslEhusKu01"
      },
      "execution_count": 13,
      "outputs": []
    },
    {
      "cell_type": "code",
      "source": [
        "#Cambiar directorio \"raw data\" para leer archivos csv\n",
        "%cd raw\\ data"
      ],
      "metadata": {
        "colab": {
          "base_uri": "https://localhost:8080/"
        },
        "id": "dbEEWc-oKwsW",
        "outputId": "d420f90a-a790-48a0-dfa5-d80bbfafba35"
      },
      "execution_count": 14,
      "outputs": [
        {
          "output_type": "stream",
          "name": "stdout",
          "text": [
            "/content/NYC_311calls_2018/raw data\n"
          ]
        }
      ]
    },
    {
      "cell_type": "code",
      "source": [
        "!ls 311calls_2018_2 _ *.csv"
      ],
      "metadata": {
        "id": "p4WIXPsnKzgg"
      },
      "execution_count": null,
      "outputs": []
    },
    {
      "cell_type": "code",
      "source": [
        "#Crear carpeta para mover archivos csv\n",
        "!mkdir thursdays_and_fridays "
      ],
      "metadata": {
        "id": "fTvFcbLvK112"
      },
      "execution_count": 16,
      "outputs": []
    },
    {
      "cell_type": "code",
      "source": [
        "#Mover csv de Fridays a carpeta\n",
        "!mv *Friday.csv thursdays_and_fridays/. "
      ],
      "metadata": {
        "id": "Fl5NOyVhK4UG"
      },
      "execution_count": 17,
      "outputs": []
    },
    {
      "cell_type": "code",
      "source": [
        "#Mover csv Thursday a carpeta\n",
        "!mv *Thursday.csv thursdays_and_fridays/. "
      ],
      "metadata": {
        "id": "E0r7MK7xK6kx"
      },
      "execution_count": 18,
      "outputs": []
    },
    {
      "cell_type": "markdown",
      "metadata": {
        "id": "z-urVaBupfo0"
      },
      "source": [
        "### Verificando archivos\n",
        "\n",
        "Al trabajar con datos, es importante verificar siempre sus suposiciones. Por ejemplo, creemos que tenemos datos de todos los jueves y viernes en el directorio thursdays_and_fridays. ¿Pero estamos seguros?\n",
        "\n",
        "Para comprobarlo, busquemos rápidamente en Google \"cuántos jueves hubo en 2018\" y \"cuántos viernes hubo en 2018\" (hay 52 semanas en un año, por lo que probablemente sean 52 de cada uno, pero es importante asegurarse de que 365 no sea uniforme dividido por 52).\n",
        "\n",
        "Luego, contemos la cantidad de archivos que tenemos en el directorio thursdays_and_fridays.\n",
        "\n",
        "Sugerencia: para hacer esto, necesitamos un comando para enumerar los nombres de todos los archivos en thursdays_and_fridays (ls), un segundo comando para contar el número de archivos reportados (wc) y alguna forma de pasar datos de uno a otro. .\n",
        "\n",
        "Segunda pista: probablemente quieras usar la marca 1 para ls. La bandera 1 le dice a ls que se asegure de que solo imprima un nombre de archivo por línea.\n",
        "\n",
        "Si tiene problemas para interpretar la salida que obtiene, es posible que deba consultar la documentación de wc."
      ]
    },
    {
      "cell_type": "code",
      "metadata": {
        "id": "2Ub0zI2Gp6px",
        "colab": {
          "base_uri": "https://localhost:8080/"
        },
        "outputId": "34dc78eb-8275-4b4a-dd5c-40bb67477317"
      },
      "source": [
        "!ls -1 thursdays_and_fridays/ | wc  #Deben de ser en total 104 archicos (52 Fridays y 52 Thursday)"
      ],
      "execution_count": 19,
      "outputs": [
        {
          "output_type": "stream",
          "name": "stdout",
          "text": [
            "    104     104    3218\n"
          ]
        }
      ]
    },
    {
      "cell_type": "markdown",
      "metadata": {
        "id": "CJcoAO77p7kI"
      },
      "source": [
        "### Combinando archivos\n",
        "\n",
        "Tener todos estos archivos individuales no es muy eficaz. En su lugar, nos gustaría fusionar todos estos archivos en un solo archivo CSV grande que podemos importar a Python y analizar.\n",
        "\n",
        "Como recordará, el comando cat se usa a menudo para imprimir el contenido de un archivo en la pantalla. Pero cat en realidad significa concatenar: si le da al comando varios archivos, los unirá uno tras otro.\n",
        "\n",
        "Utilice cat para fusionar todos los archivos de thursdays_and_fridays en un solo CSV llamado thursdays_and_fridays.csv guardado en el disco."
      ]
    },
    {
      "cell_type": "code",
      "source": [
        "!pwd"
      ],
      "metadata": {
        "colab": {
          "base_uri": "https://localhost:8080/"
        },
        "id": "2pRpmekALvyc",
        "outputId": "6a77a0d5-311e-4c46-d107-65defadedaa3"
      },
      "execution_count": 21,
      "outputs": [
        {
          "output_type": "stream",
          "name": "stdout",
          "text": [
            "/content/NYC_311calls_2018/raw data\n"
          ]
        }
      ]
    },
    {
      "cell_type": "code",
      "source": [
        "#Mover directorio a la carpeta con los csv a juntar\n",
        "%cd thursdays_and_fridays/   "
      ],
      "metadata": {
        "colab": {
          "base_uri": "https://localhost:8080/"
        },
        "id": "OZNeFvI1LyHf",
        "outputId": "24b9b3db-6ec1-4be5-8f3c-b12941a89a51"
      },
      "execution_count": 23,
      "outputs": [
        {
          "output_type": "stream",
          "name": "stdout",
          "text": [
            "/content/NYC_311calls_2018/raw data/thursdays_and_fridays\n"
          ]
        }
      ]
    },
    {
      "cell_type": "code",
      "source": [
        "#Fusión de todos los archicos a un único documento csv\n",
        "!cat *.csv > thursdays_and_fridays.csv"
      ],
      "metadata": {
        "id": "yvIvS-o6L-hp"
      },
      "execution_count": 24,
      "outputs": []
    },
    {
      "cell_type": "markdown",
      "metadata": {
        "id": "jS9iAsCRqFay"
      },
      "source": [
        "### Visualizando los resultados\n",
        "\n",
        "¡Excelente! Ahora tenemos un solo archivo CSV con todos nuestros datos para los jueves y viernes. Pero hay un problema: ¡ninguna de las columnas está etiquetada !.\n",
        "\n",
        "Eche un vistazo a las primeras líneas de nuestro archivo CSV combinado usando less o head.\n"
      ]
    },
    {
      "cell_type": "code",
      "metadata": {
        "id": "PHh6bQz6qZLT",
        "colab": {
          "base_uri": "https://localhost:8080/"
        },
        "outputId": "074c96fb-12e2-4ec0-890a-fee497a5aadb"
      },
      "source": [
        "!head -n 5 thursdays_and_fridays.csv"
      ],
      "execution_count": 25,
      "outputs": [
        {
          "output_type": "stream",
          "name": "stdout",
          "text": [
            "2133653,40522706,2018-10-11 00:00:00,10/11/2018 12:00:00 AM,DOHMH,Department of Health and Mental Hygiene,Rodent,Condition Attracting Rodents,1-2 Family Dwelling,10303.0,52 HARBOR ROAD,HARBOR ROAD,RICHMOND TERRACE,NYCTA SUBWAY,,,ADDRESS,STATEN ISLAND,,,Closed,11/10/2018 09:56:28 PM,10/11/2018 10:03:06 PM,01 STATEN ISLAND,STATEN ISLAND,939777.0,170945.0,Unspecified,STATEN ISLAND,,,,,,,,40.63576947131681,-74.1602354526735,\"(40.63576947131681, -74.1602354526735)\"\n",
            "2133654,40522488,2018-10-11 00:00:00,10/11/2018 12:00:00 AM,DOHMH,Department of Health and Mental Hygiene,Rodent,Condition Attracting Rodents,3+ Family Apt. Building,11691.0,242 BEACH   13 STREET,BEACH   13 STREET,HEYSON ROAD,NEW HAVEN AVENUE,,,ADDRESS,Far Rockaway,,,Closed,11/10/2018 08:03:41 AM,10/11/2018 08:06:08 AM,14 QUEENS,QUEENS,1054480.0,156737.0,Unspecified,QUEENS,,,,,,,,40.5966048458945,-73.74711072770809,\"(40.596604845894504, -73.74711072770809)\"\n",
            "2133655,40522353,2018-10-11 00:00:00,10/11/2018 12:00:00 AM,DOHMH,Department of Health and Mental Hygiene,Rodent,Rat Sighting,3+ Family Apt. Building,10037.0,60 WEST  142 STREET,WEST  142 STREET,CHISUM PLACE,LENOX AVENUE,,,ADDRESS,NEW YORK,,,Closed,11/10/2018 07:13:07 PM,10/11/2018 07:16:14 PM,10 MANHATTAN,MANHATTAN,1001843.0,237298.0,Unspecified,MANHATTAN,,,,,,,,40.81798635263026,-73.93643919542686,\"(40.81798635263026, -73.93643919542686)\"\n",
            "2133656,40521712,2018-10-11 00:00:00,10/11/2018 12:00:00 AM,DOHMH,Department of Health and Mental Hygiene,Rodent,Rat Sighting,Other (Explain Below),10025.0,2578 BROADWAY,BROADWAY,WEST 97 STREET,WEST 98 STREET,,,ADDRESS,NEW YORK,,,Closed,11/10/2018 11:22:42 PM,10/11/2018 11:28:29 PM,07 MANHATTAN,MANHATTAN,992230.0,229085.0,Unspecified,MANHATTAN,,,,,,,,40.79545785031601,-73.97117924529955,\"(40.79545785031601, -73.97117924529954)\"\n",
            "2133657,40521507,2018-10-11 00:00:00,10/11/2018 12:00:00 AM,DOHMH,Department of Health and Mental Hygiene,Rodent,Signs of Rodents,3+ Family Apt. Building,11226.0,49 EAST   19 STREET,EAST   19 STREET,TENNIS COURT,ALBEMARLE ROAD,,,ADDRESS,BROOKLYN,,,Closed,11/10/2018 02:27:50 PM,10/11/2018 02:32:26 PM,14 BROOKLYN,BROOKLYN,994827.0,175473.0,Unspecified,BROOKLYN,,,,,,,,40.64830318910063,-73.96188411235836,\"(40.64830318910063, -73.96188411235836)\"\n"
          ]
        }
      ]
    },
    {
      "cell_type": "markdown",
      "metadata": {
        "id": "SwovVsJyqZf8"
      },
      "source": [
        "### Editando\n",
        "\n",
        "En NYC311_calls_2018 hay un archivo llamado NYC311_column_names.txt. Tiene todos los nombres de columna de nuestros CSV.\n",
        "\n",
        "Podemos agregar estos nombres de columna concatenando el archivo de nombre de columna en la parte superior de nuestro CSV, pero solo si está formateado correctamente, lo cual no es así; cuando se exportaron los nombres de columna, incluyeron corchetes al principio y al final de la nombres de columna.\n",
        "\n",
        "Remueve los corchetes sin editar directamente el archivo y concatena el encabezado con tu csv en un nuevo archivo thursdays_and_fridays_w_columnnames.csv.\n",
        "\n",
        "Una vez que haya terminado de crear este archivo, limpiemos eliminando la carpeta raw data y todo su contenido."
      ]
    },
    {
      "cell_type": "code",
      "metadata": {
        "id": "WXSz0m1Gq0pt",
        "colab": {
          "base_uri": "https://localhost:8080/"
        },
        "outputId": "ed3c80ba-0385-49ed-8321-f0e06933d3a1"
      },
      "source": [
        "#Cambiar directorio para abrir archivo \"NYC311_column_names.txt\"\n",
        "%cd .. \n",
        "%cd .."
      ],
      "execution_count": 32,
      "outputs": [
        {
          "output_type": "stream",
          "name": "stdout",
          "text": [
            "/content/NYC_311calls_2018/raw data\n",
            "/content/NYC_311calls_2018\n"
          ]
        }
      ]
    },
    {
      "cell_type": "code",
      "source": [
        "!cat NYC311_column_names.txt #Lectura de archivo"
      ],
      "metadata": {
        "colab": {
          "base_uri": "https://localhost:8080/"
        },
        "id": "HVk1wFvzMh5N",
        "outputId": "8d26a91b-28b1-4098-bf6a-0beefbe7014f"
      },
      "execution_count": 33,
      "outputs": [
        {
          "output_type": "stream",
          "name": "stdout",
          "text": [
            "[\"Unique Key\", \"Created Date\", \"Closed Date\", \"Agency\", \"Agency Name\", \"Complaint Type\", \"Descriptor\", \"Location Type\", \"Incident Zip\", \"Incident Address\", \"Street Name\", \"Cross Street 1\", \"Cross Street 2\", \"Intersection Street 1\", \"Intersection Street 2\", \"Address Type\", \"City\", \"Landmark\", \"Facility Type\", \"Status\", \"Due Date\", \"Resolution Action Updated Date\", \"Community Board\", \"Borough\", \"X Coordinate (State Plane)\", \"Y Coordinate (State Plane)\", \"Park Facility Name\", \"Park Borough\", \"Vehicle Type\", \"Taxi Company Borough\", \"Taxi Pick Up Location\", \"Bridge Highway Name\", \"Bridge Highway Direction\", \"Road Ramp\", \"Bridge Highway Segment\", \"Latitude\", \"Longitude\", \"Location\"]"
          ]
        }
      ]
    },
    {
      "cell_type": "code",
      "source": [
        "!sed -e 's/\\[//g' -e 's/\\]//g' NYC311_column_names.txt >names.txt  #Quitar corchetes y guardar cambios en archivo names.txt"
      ],
      "metadata": {
        "id": "3oLkgiEoMmMB"
      },
      "execution_count": 34,
      "outputs": []
    },
    {
      "cell_type": "code",
      "source": [
        "!cat names.txt #Comprobación de cambios, lectura de nuevo txt"
      ],
      "metadata": {
        "colab": {
          "base_uri": "https://localhost:8080/"
        },
        "id": "0YlKFo6EMo13",
        "outputId": "9137115b-8b01-4712-e398-892444245863"
      },
      "execution_count": 35,
      "outputs": [
        {
          "output_type": "stream",
          "name": "stdout",
          "text": [
            "\"Unique Key\", \"Created Date\", \"Closed Date\", \"Agency\", \"Agency Name\", \"Complaint Type\", \"Descriptor\", \"Location Type\", \"Incident Zip\", \"Incident Address\", \"Street Name\", \"Cross Street 1\", \"Cross Street 2\", \"Intersection Street 1\", \"Intersection Street 2\", \"Address Type\", \"City\", \"Landmark\", \"Facility Type\", \"Status\", \"Due Date\", \"Resolution Action Updated Date\", \"Community Board\", \"Borough\", \"X Coordinate (State Plane)\", \"Y Coordinate (State Plane)\", \"Park Facility Name\", \"Park Borough\", \"Vehicle Type\", \"Taxi Company Borough\", \"Taxi Pick Up Location\", \"Bridge Highway Name\", \"Bridge Highway Direction\", \"Road Ramp\", \"Bridge Highway Segment\", \"Latitude\", \"Longitude\", \"Location\""
          ]
        }
      ]
    },
    {
      "cell_type": "code",
      "source": [
        "!ls"
      ],
      "metadata": {
        "colab": {
          "base_uri": "https://localhost:8080/"
        },
        "id": "iLESy0zbNCYl",
        "outputId": "e60b7e94-62da-4dc6-f7a7-4c9926f74233"
      },
      "execution_count": 39,
      "outputs": [
        {
          "output_type": "stream",
          "name": "stdout",
          "text": [
            " 311_SR_Data_Dictionary_2018.xlsx   just_the_letter_a.txt     README.md\n",
            " Elections_art.pdf\t\t    NYC311_column_names.txt\n",
            " just_the_letter_a.docx\t\t   'raw data'\n"
          ]
        }
      ]
    },
    {
      "cell_type": "code",
      "source": [
        "#Mover archivo a la carpeta raw data\n",
        "!mv names.txt raw\\ data/. "
      ],
      "metadata": {
        "id": "1UAN4-YtMv0A"
      },
      "execution_count": null,
      "outputs": []
    },
    {
      "cell_type": "code",
      "source": [
        "%cd raw\\ data"
      ],
      "metadata": {
        "colab": {
          "base_uri": "https://localhost:8080/"
        },
        "id": "PxKUik0LNK7k",
        "outputId": "07112e2b-957c-42a0-e73c-32159a24676f"
      },
      "execution_count": 40,
      "outputs": [
        {
          "output_type": "stream",
          "name": "stdout",
          "text": [
            "/content/NYC_311calls_2018/raw data\n"
          ]
        }
      ]
    },
    {
      "cell_type": "code",
      "source": [
        "#Mover names a capeta de archivos\n",
        "!mv names.txt thursdays_and_fridays/."
      ],
      "metadata": {
        "id": "yaNUBMiHNNtc"
      },
      "execution_count": 41,
      "outputs": []
    },
    {
      "cell_type": "code",
      "source": [
        "%cd thursdays_and_fridays/"
      ],
      "metadata": {
        "colab": {
          "base_uri": "https://localhost:8080/"
        },
        "id": "cei8xPtgNVWY",
        "outputId": "3dbdef04-8026-450e-a31a-51b75afd8167"
      },
      "execution_count": 42,
      "outputs": [
        {
          "output_type": "stream",
          "name": "stdout",
          "text": [
            "/content/NYC_311calls_2018/raw data/thursdays_and_fridays\n"
          ]
        }
      ]
    },
    {
      "cell_type": "code",
      "source": [
        "#Agregar achivos names al documento final (Solo se agrega nombre de columnas)\n",
        "!cat names.txt > thursdays_and_fridays_w_columnnames.csv "
      ],
      "metadata": {
        "id": "Zgxix8hMNeXH"
      },
      "execution_count": 43,
      "outputs": []
    },
    {
      "cell_type": "code",
      "source": [
        "#Comprobación de texto\n",
        "!cat thursdays_and_fridays_w_columnnames.csv"
      ],
      "metadata": {
        "colab": {
          "base_uri": "https://localhost:8080/"
        },
        "id": "Qrzwm8hONs8p",
        "outputId": "decc8dd6-577b-4552-e5c3-896ab23d0e52"
      },
      "execution_count": 44,
      "outputs": [
        {
          "output_type": "stream",
          "name": "stdout",
          "text": [
            "\"Unique Key\", \"Created Date\", \"Closed Date\", \"Agency\", \"Agency Name\", \"Complaint Type\", \"Descriptor\", \"Location Type\", \"Incident Zip\", \"Incident Address\", \"Street Name\", \"Cross Street 1\", \"Cross Street 2\", \"Intersection Street 1\", \"Intersection Street 2\", \"Address Type\", \"City\", \"Landmark\", \"Facility Type\", \"Status\", \"Due Date\", \"Resolution Action Updated Date\", \"Community Board\", \"Borough\", \"X Coordinate (State Plane)\", \"Y Coordinate (State Plane)\", \"Park Facility Name\", \"Park Borough\", \"Vehicle Type\", \"Taxi Company Borough\", \"Taxi Pick Up Location\", \"Bridge Highway Name\", \"Bridge Highway Direction\", \"Road Ramp\", \"Bridge Highway Segment\", \"Latitude\", \"Longitude\", \"Location\""
          ]
        }
      ]
    },
    {
      "cell_type": "code",
      "source": [
        "#Para evitar que se junten los documentos en la misma linea se agregará el siguiente espacio al documento final\n",
        "!echo \"  \">>thursdays_and_fridays_w_columnnames.csv  "
      ],
      "metadata": {
        "id": "OOOPb1SFNyY2"
      },
      "execution_count": 45,
      "outputs": []
    },
    {
      "cell_type": "code",
      "source": [
        "#Agregar el csv completo al documento final con el nombre de las columnas\n",
        "!cat thursdays_and_fridays.csv >> thursdays_and_fridays_w_columnnames.csv "
      ],
      "metadata": {
        "id": "ZhK48s4hOCz0"
      },
      "execution_count": 46,
      "outputs": []
    },
    {
      "cell_type": "code",
      "source": [
        "#Lectura comprobatoria de los cambios\n",
        "!head thursdays_and_fridays_w_columnnames.csv"
      ],
      "metadata": {
        "colab": {
          "base_uri": "https://localhost:8080/"
        },
        "id": "zf8vjPw2OQRz",
        "outputId": "bf212635-ea98-43fb-983d-84fc63daa9d3"
      },
      "execution_count": 47,
      "outputs": [
        {
          "output_type": "stream",
          "name": "stdout",
          "text": [
            "\"Unique Key\", \"Created Date\", \"Closed Date\", \"Agency\", \"Agency Name\", \"Complaint Type\", \"Descriptor\", \"Location Type\", \"Incident Zip\", \"Incident Address\", \"Street Name\", \"Cross Street 1\", \"Cross Street 2\", \"Intersection Street 1\", \"Intersection Street 2\", \"Address Type\", \"City\", \"Landmark\", \"Facility Type\", \"Status\", \"Due Date\", \"Resolution Action Updated Date\", \"Community Board\", \"Borough\", \"X Coordinate (State Plane)\", \"Y Coordinate (State Plane)\", \"Park Facility Name\", \"Park Borough\", \"Vehicle Type\", \"Taxi Company Borough\", \"Taxi Pick Up Location\", \"Bridge Highway Name\", \"Bridge Highway Direction\", \"Road Ramp\", \"Bridge Highway Segment\", \"Latitude\", \"Longitude\", \"Location\"  \n",
            "2133653,40522706,2018-10-11 00:00:00,10/11/2018 12:00:00 AM,DOHMH,Department of Health and Mental Hygiene,Rodent,Condition Attracting Rodents,1-2 Family Dwelling,10303.0,52 HARBOR ROAD,HARBOR ROAD,RICHMOND TERRACE,NYCTA SUBWAY,,,ADDRESS,STATEN ISLAND,,,Closed,11/10/2018 09:56:28 PM,10/11/2018 10:03:06 PM,01 STATEN ISLAND,STATEN ISLAND,939777.0,170945.0,Unspecified,STATEN ISLAND,,,,,,,,40.63576947131681,-74.1602354526735,\"(40.63576947131681, -74.1602354526735)\"\n",
            "2133654,40522488,2018-10-11 00:00:00,10/11/2018 12:00:00 AM,DOHMH,Department of Health and Mental Hygiene,Rodent,Condition Attracting Rodents,3+ Family Apt. Building,11691.0,242 BEACH   13 STREET,BEACH   13 STREET,HEYSON ROAD,NEW HAVEN AVENUE,,,ADDRESS,Far Rockaway,,,Closed,11/10/2018 08:03:41 AM,10/11/2018 08:06:08 AM,14 QUEENS,QUEENS,1054480.0,156737.0,Unspecified,QUEENS,,,,,,,,40.5966048458945,-73.74711072770809,\"(40.596604845894504, -73.74711072770809)\"\n",
            "2133655,40522353,2018-10-11 00:00:00,10/11/2018 12:00:00 AM,DOHMH,Department of Health and Mental Hygiene,Rodent,Rat Sighting,3+ Family Apt. Building,10037.0,60 WEST  142 STREET,WEST  142 STREET,CHISUM PLACE,LENOX AVENUE,,,ADDRESS,NEW YORK,,,Closed,11/10/2018 07:13:07 PM,10/11/2018 07:16:14 PM,10 MANHATTAN,MANHATTAN,1001843.0,237298.0,Unspecified,MANHATTAN,,,,,,,,40.81798635263026,-73.93643919542686,\"(40.81798635263026, -73.93643919542686)\"\n",
            "2133656,40521712,2018-10-11 00:00:00,10/11/2018 12:00:00 AM,DOHMH,Department of Health and Mental Hygiene,Rodent,Rat Sighting,Other (Explain Below),10025.0,2578 BROADWAY,BROADWAY,WEST 97 STREET,WEST 98 STREET,,,ADDRESS,NEW YORK,,,Closed,11/10/2018 11:22:42 PM,10/11/2018 11:28:29 PM,07 MANHATTAN,MANHATTAN,992230.0,229085.0,Unspecified,MANHATTAN,,,,,,,,40.79545785031601,-73.97117924529955,\"(40.79545785031601, -73.97117924529954)\"\n",
            "2133657,40521507,2018-10-11 00:00:00,10/11/2018 12:00:00 AM,DOHMH,Department of Health and Mental Hygiene,Rodent,Signs of Rodents,3+ Family Apt. Building,11226.0,49 EAST   19 STREET,EAST   19 STREET,TENNIS COURT,ALBEMARLE ROAD,,,ADDRESS,BROOKLYN,,,Closed,11/10/2018 02:27:50 PM,10/11/2018 02:32:26 PM,14 BROOKLYN,BROOKLYN,994827.0,175473.0,Unspecified,BROOKLYN,,,,,,,,40.64830318910063,-73.96188411235836,\"(40.64830318910063, -73.96188411235836)\"\n",
            "2133658,40520934,2018-10-11 00:00:00,10/11/2018 12:00:00 AM,DOHMH,Department of Health and Mental Hygiene,Rodent,Rat Sighting,3+ Family Apt. Building,10461.0,1560 PELHAM PARKWAY SOUTH,PELHAM PARKWAY SOUTH,EASTCHESTER ROAD,BEND,,,ADDRESS,BRONX,,,Closed,11/10/2018 04:10:28 PM,10/11/2018 04:16:57 PM,11 BRONX,BRONX,1028178.0,251446.0,Unspecified,BRONX,,,,,,,,40.85672674385295,-73.8412023734185,\"(40.85672674385295, -73.8412023734185)\"\n",
            "2133659,40520770,2018-10-11 00:00:00,10/11/2018 12:00:00 AM,DOHMH,Department of Health and Mental Hygiene,Rodent,Rat Sighting,1-2 Family Dwelling,11361.0,38-17 203 STREET,203 STREET,38 AVENUE,39 AVENUE,,,ADDRESS,Bayside,,,Closed,11/10/2018 03:18:26 PM,10/11/2018 03:22:57 PM,11 QUEENS,QUEENS,1044406.0,217385.0,Unspecified,QUEENS,,,,,,,,40.763143386484096,-73.78284437383275,\"(40.763143386484096, -73.78284437383275)\"\n",
            "2133660,40520679,2018-10-11 00:00:00,10/11/2018 12:00:00 AM,DOHMH,Department of Health and Mental Hygiene,Rodent,Condition Attracting Rodents,3+ Family Apt. Building,10458.0,2378 HOFFMAN STREET,HOFFMAN STREET,EAST 184 STREET,EAST 187 STREET,,,ADDRESS,BRONX,,,Closed,11/10/2018 10:27:31 AM,10/11/2018 10:34:21 AM,06 BRONX,BRONX,1014978.0,250967.0,Unspecified,BRONX,,,,,,,,40.855467843530064,-73.88892187793894,\"(40.855467843530064, -73.88892187793893)\"\n",
            "2133661,40519809,2018-10-11 00:00:00,10/11/2018 12:00:00 AM,DOHMH,Department of Health and Mental Hygiene,Rodent,Rat Sighting,1-2 Family Dwelling,10024.0,341 WEST 84 STREET,WEST 84 STREET,,,,,LATLONG,NEW YORK,,,Closed,11/10/2018 03:16:11 PM,10/11/2018 03:22:57 PM,Unspecified MANHATTAN,MANHATTAN,989752.0,226499.0,Unspecified,MANHATTAN,,,,,,,,40.78836186790882,-73.98013096614456,\"(40.78836186790882, -73.98013096614457)\"\n"
          ]
        }
      ]
    },
    {
      "cell_type": "code",
      "source": [
        "!pwd"
      ],
      "metadata": {
        "colab": {
          "base_uri": "https://localhost:8080/"
        },
        "id": "m1UM8LhGO_Bv",
        "outputId": "3ebcf148-b80c-4cdc-918d-add5a529f19c"
      },
      "execution_count": 53,
      "outputs": [
        {
          "output_type": "stream",
          "name": "stdout",
          "text": [
            "/content/NYC_311calls_2018/raw data/thursdays_and_fridays\n"
          ]
        }
      ]
    },
    {
      "cell_type": "code",
      "source": [
        "#Cambiar de directorio a raw data\n",
        "!mv thursdays_and_fridays_w_columnnames.csv ../."
      ],
      "metadata": {
        "id": "vmgrZcKLScz5"
      },
      "execution_count": 76,
      "outputs": []
    },
    {
      "cell_type": "code",
      "source": [
        "%cd .."
      ],
      "metadata": {
        "colab": {
          "base_uri": "https://localhost:8080/"
        },
        "id": "iJ5zyBpSTVX2",
        "outputId": "8a3a52db-c5b7-433c-d3cf-f5425d8ee57a"
      },
      "execution_count": 77,
      "outputs": [
        {
          "output_type": "stream",
          "name": "stdout",
          "text": [
            "/content/NYC_311calls_2018/raw data\n"
          ]
        }
      ]
    },
    {
      "cell_type": "code",
      "source": [
        "#Mover archivo a carpeta principal\n",
        "!mv thursdays_and_fridays_w_columnnames.csv ../."
      ],
      "metadata": {
        "id": "ZnOTWTViTaO2"
      },
      "execution_count": 79,
      "outputs": []
    },
    {
      "cell_type": "code",
      "source": [
        "%cd .."
      ],
      "metadata": {
        "colab": {
          "base_uri": "https://localhost:8080/"
        },
        "id": "jXppbY7pTf7h",
        "outputId": "baf8521c-49fb-4a91-d152-566d05961f43"
      },
      "execution_count": 80,
      "outputs": [
        {
          "output_type": "stream",
          "name": "stdout",
          "text": [
            "/content/NYC_311calls_2018\n"
          ]
        }
      ]
    },
    {
      "cell_type": "code",
      "source": [
        "#Comprobación que el archivo está en la carpeta de NYC_311calls_2018\n",
        "!ls"
      ],
      "metadata": {
        "colab": {
          "base_uri": "https://localhost:8080/"
        },
        "id": "cGA83DfGThhO",
        "outputId": "7deebfa2-3c9a-4878-dcf4-2b8cb3f95f89"
      },
      "execution_count": 81,
      "outputs": [
        {
          "output_type": "stream",
          "name": "stdout",
          "text": [
            " 311_SR_Data_Dictionary_2018.xlsx   NYC311_column_names.txt\n",
            " Elections_art.pdf\t\t   'raw data'\n",
            " just_the_letter_a.docx\t\t    README.md\n",
            " just_the_letter_a.txt\t\t    thursdays_and_fridays_w_columnnames.csv\n"
          ]
        }
      ]
    },
    {
      "cell_type": "code",
      "source": [
        "#Eliminar carpeta raw data\n",
        "!rm -r raw\\ data"
      ],
      "metadata": {
        "id": "o2Kgns5OTi6f"
      },
      "execution_count": 82,
      "outputs": []
    },
    {
      "cell_type": "code",
      "source": [
        "#Comprobación\n",
        "!ls"
      ],
      "metadata": {
        "colab": {
          "base_uri": "https://localhost:8080/"
        },
        "id": "svoTltkoT0am",
        "outputId": "9636472d-2932-4215-887d-7fe6abc86db6"
      },
      "execution_count": 83,
      "outputs": [
        {
          "output_type": "stream",
          "name": "stdout",
          "text": [
            "311_SR_Data_Dictionary_2018.xlsx  NYC311_column_names.txt\n",
            "Elections_art.pdf\t\t  README.md\n",
            "just_the_letter_a.docx\t\t  thursdays_and_fridays_w_columnnames.csv\n",
            "just_the_letter_a.txt\n"
          ]
        }
      ]
    },
    {
      "cell_type": "markdown",
      "metadata": {
        "id": "WlXcHKPnrJfp"
      },
      "source": [
        "### Un pipeline más complejo\n",
        "\n",
        "Tomado de https://www.datascienceatthecommandline.com/\n",
        "\n",
        "Crea un pipeline que descargue el libro Alice’s Adventures in Wonderland by Lewis Carroll de project Guttenberg (https://www.gutenberg.org/files/11/11-0.txt) y extraiga las palabras más comunes, sin incluir las contenidos en la lista de stopwords descargadas en clase. Como referencia, los pasos originales, sin eliminar las sotpwords, son:\n",
        "\n",
        "1. Downloading an ebook. (curl)\n",
        "2. Converting the entire text to lowercase. (tr)\n",
        "3. Extracting all the words. (grep)\n",
        "4. Sort these words in alphabetical order. (sort)\n",
        "5. Remove all the duplicates and count how often each word appears in the list. (uniq)\n",
        "6. Sort this list of unique words by their count in descending order. (sort)\n",
        "7. Keep only the top 10 lines (i.e., words). (head)\n",
        "\n"
      ]
    },
    {
      "cell_type": "code",
      "source": [
        "!curl -sL \"https://raw.githubusercontent.com/stopwords-iso/stopwords-en/master/stopwords-en.txt\" |sort | tee stopwords| head -10"
      ],
      "metadata": {
        "colab": {
          "base_uri": "https://localhost:8080/"
        },
        "id": "MaG6vL6SSDo9",
        "outputId": "a000b3ec-6096-4cb8-e601-1b723a6fe167"
      },
      "execution_count": 84,
      "outputs": [
        {
          "output_type": "stream",
          "name": "stdout",
          "text": [
            "10\n",
            "39\n",
            "a\n",
            "able\n",
            "ableabout\n",
            "about\n",
            "above\n",
            "abroad\n",
            "abst\n",
            "accordance\n"
          ]
        }
      ]
    },
    {
      "cell_type": "code",
      "metadata": {
        "id": "_SkVDMXErM1r"
      },
      "source": [
        "!curl -sL \"https://www.gutenberg.org/files/11/11-0.txt\" |tr '[:upper:]' '[:lower:]' |grep -oE \"[a-z\\']{2,}\"|uniq -c |sort -nr |head -n 10|sort|uniq -c |sort -nr |head -n 10"
      ],
      "execution_count": 85,
      "outputs": []
    }
  ]
}