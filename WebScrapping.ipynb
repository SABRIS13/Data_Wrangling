{
  "nbformat": 4,
  "nbformat_minor": 0,
  "metadata": {
    "colab": {
      "name": "Copia de Challenge.ipynb",
      "provenance": [],
      "collapsed_sections": []
    },
    "kernelspec": {
      "name": "python3",
      "display_name": "Python 3"
    },
    "language_info": {
      "name": "python"
    }
  },
  "cells": [
    {
      "cell_type": "markdown",
      "source": [
        "# Base de datos IMDB\n",
        "\n",
        "**Eres parte del equipo de Datos** 🤓 de una StartUp en su primera etapa de inversión que se dedica a la venta de articulos colección de las peliculas 🎬 y series de TV 📺 que aparecen en los **ranking top** 🏆 de U.S.A.  \n",
        "\n",
        "Por ahora **la API** 🤖 que utilizan para extraer los datos de las peliculas top de IMDb **continua caída** por [las fallas de AWS](https://www.theguardian.com/technology/2021/dec/07/amazon-web-services-outage-hits-sites-and-apps-such-as-imdb-and-tinder) 😓 del 7 de Diciembre del 2021, por lo que **se requiere que se establezca una alternativa**.\n",
        "\n",
        "**Tú como lider** del equipo de interns **has definido el plan de obtener** la lista de las peliculas target **a partir del Scrapping** 🦾 de las paginas de los top del sitio web **de IMDb** 🎬."
      ],
      "metadata": {
        "id": "KkYyzzgcP1cB"
      }
    },
    {
      "cell_type": "markdown",
      "source": [
        "# Web Scrapping con BeautifulSoup y Python"
      ],
      "metadata": {
        "id": "QqjIVLKhm4uv"
      }
    },
    {
      "cell_type": "markdown",
      "source": [
        "# Instrucciones"
      ],
      "metadata": {
        "id": "-GxhMup3z3jT"
      }
    },
    {
      "cell_type": "markdown",
      "source": [
        "Deberás compartirle al equipo de producción las listas de peliculas y shows de las siguientes categorías generando un archivo CSV:\n",
        "\n",
        "- [Top 10 Most Popular Movies](https://www.imdb.com/chart/moviemeter/?ref_=nv_mv_mpm)\n",
        "- [Top 10 de peliculas del 2021 al 2018](https://www.imdb.com/chart/top?sort=us,desc&mode=simple&page=1)\n",
        "- [Top 10 de TV Shows](https://www.imdb.com/chart/toptv/?sort=us,desc&mode=simple&page=1)"
      ],
      "metadata": {
        "id": "bjjbV779z9oh"
      }
    },
    {
      "cell_type": "markdown",
      "source": [
        "Bibliotecas"
      ],
      "metadata": {
        "id": "l-q7DkOSnCJd"
      }
    },
    {
      "cell_type": "code",
      "execution_count": 111,
      "metadata": {
        "id": "ueS_f-pw312q"
      },
      "outputs": [],
      "source": [
        "#Bibliotecas a emplear\n",
        "#!pip install beautifulsoup4\n",
        "import pandas as pd\n",
        "from bs4 import BeautifulSoup\n",
        "import requests\n",
        "import seaborn as sns\n",
        "import matplotlib.pyplot as plt"
      ]
    },
    {
      "cell_type": "markdown",
      "source": [
        "**Top 10 Most Popular Movies** [*](https://www.imdb.com/chart/moviemeter/?ref_=nv_mv_mpm)"
      ],
      "metadata": {
        "id": "6HjgmDc2nEUk"
      }
    },
    {
      "cell_type": "code",
      "source": [
        "top_100_popular_movies= requests.get('https://www.imdb.com/chart/moviemeter/?ref_=nv_mv_mpm') #Obtener el contenido web de la primera página web\n",
        "soup = BeautifulSoup(top_100_popular_movies.text) "
      ],
      "metadata": {
        "id": "L9fL-H1GpcH7"
      },
      "execution_count": 8,
      "outputs": []
    },
    {
      "cell_type": "code",
      "source": [
        "print(soup.title.text) #Titulo de la pagina Web"
      ],
      "metadata": {
        "colab": {
          "base_uri": "https://localhost:8080/"
        },
        "id": "iWHSN4nBpngJ",
        "outputId": "1dbf1a2a-6675-4c44-9ce3-ab041eff0260"
      },
      "execution_count": 9,
      "outputs": [
        {
          "output_type": "stream",
          "name": "stdout",
          "text": [
            "Most Popular Movies - IMDb\n"
          ]
        }
      ]
    },
    {
      "cell_type": "code",
      "source": [
        "rows = soup.find_all('tr')  #Filas de la tabla de la página\n",
        "print(len(rows))   #En total son 101 filas, la fila con los nombres de la columna y las 100 peliculas"
      ],
      "metadata": {
        "colab": {
          "base_uri": "https://localhost:8080/"
        },
        "id": "4v7h7KR_qAuX",
        "outputId": "6ef59e08-a006-461a-b637-483b0ff39baa"
      },
      "execution_count": 100,
      "outputs": [
        {
          "output_type": "stream",
          "name": "stdout",
          "text": [
            "101\n"
          ]
        }
      ]
    },
    {
      "cell_type": "code",
      "source": [
        "rows=soup.find_all('tr') #Filas de la página\n",
        "data = []  #Arreglo donde se creará el dataFrame\n",
        "\n",
        "for i in range(1,len(rows)):    #1-101 para tomar en cuenta todas las peliculas del listado\n",
        "\n",
        "  datos=[] #Lista que representa las filas del arreglo data. En ella se encuentra la información de las peliculas.\n",
        "\n",
        "  ranking=i   #El listado va en orden ascendente\n",
        "  datos.append(ranking) #Agregar rank de la pelicula\n",
        "\n",
        "  #Movie (Titulo)\n",
        "  a_movie= rows[i].find_all('a')\n",
        "  movie=a_movie[1].text \n",
        "  datos.append(movie) #Agregar nombre de la pelicula\n",
        "\n",
        "  #Year (Año está entre parentesis)\n",
        "  span_year= rows[i].find_all('span')\n",
        "  year=span_year[5].text\n",
        "  year=((year.split(\"(\")[1]).split(\")\")[0]) #Dividir texto del año entre los parentesis, tomar solo la posición con el año\n",
        "  datos.append(int(year))  #Convertir str a int, agregar a lista datos\n",
        "  \n",
        "  #Raking IMBd\n",
        "  rank_m=rows[i].find('strong')\n",
        "  if not rank_m:\n",
        "    datos.append(\"\")  #Algunas peliculas no cuentan con ranking, en esos casos se dejará campo vacio.\n",
        "  else:\n",
        "    ran=rank_m.text  #Ranking otorgado por la IMBd\n",
        "    datos.append(float(ran))  #Convertir str a float para agregarlo a la lista datos\n",
        "  \n",
        "  data.append(datos) #Incluir fila a arreglo\n",
        "  \n",
        "\n",
        "print(data)  #Arreglo creado"
      ],
      "metadata": {
        "colab": {
          "base_uri": "https://localhost:8080/"
        },
        "id": "yCh7Jxt8vfto",
        "outputId": "39f946bc-4ad3-4d1a-844d-eae2878a8ca6"
      },
      "execution_count": 171,
      "outputs": [
        {
          "output_type": "stream",
          "name": "stdout",
          "text": [
            "[[1, 'Day Shift', 2022, 6.1], [2, 'Prey', 2022, 7.2], [3, 'Bullet Train', 2022, 7.5], [4, 'Nope', 2022, 7.2], [5, 'Top Gun: Maverick', 2022, 8.5], [6, 'The Menu', 2022, ''], [7, 'Elvis', 2022, 7.6], [8, 'Thirteen Lives', 2022, 7.8], [9, 'The Gray Man', 2022, 6.5], [10, 'Orphan: First Kill', 2022, 6.0], [11, 'Purple Hearts', 2022, 6.7], [12, 'The Black Phone', 2021, 7.0], [13, 'Look Both Ways', 2022, 6.3], [14, 'Grease', 1978, 7.2], [15, 'Beast', 2022, 5.9], [16, 'Thor: Love and Thunder', 2022, 6.7], [17, 'Bodies Bodies Bodies', 2022, 6.7], [18, 'Vengeance', 2022, 6.9], [19, 'Uncharted', 2022, 6.4], [20, 'Secret Headquarters', 2022, 4.9], [21, 'Laal Singh Chaddha', 2022, 5.0], [22, 'Lightyear', 2022, 5.8], [23, 'Fall', 2022, 6.5], [24, 'Top Gun', 1986, 6.9], [25, 'Where the Crawdads Sing', 2022, 7.1], [26, 'Everything Everywhere All at Once', 2022, 8.2], [27, 'Jurassic World Dominion', 2022, 5.7], [28, 'X', 2022, 6.6], [29, 'Luck', 2022, 6.3], [30, 'Licorice Pizza', 2021, 7.2], [31, '365 Days', 2020, 3.3], [32, 'The Lost City', 2022, 6.1], [33, 'Dragon Ball Super: Super Hero', 2022, 7.3], [34, 'DC League of Super-Pets', 2022, 7.7], [35, 'Predator', 1987, 7.8], [36, 'The Batman', 2022, 7.9], [37, 'The Northman', 2022, 7.2], [38, 'Orphan', 2009, 7.0], [39, 'The Godfather', 1972, 9.2], [40, 'Six Days Seven Nights', 1998, 5.8], [41, 'Doctor Strange in the Multiverse of Madness', 2022, 7.0], [42, 'The Predator', 2018, 5.3], [43, 'Minions: The Rise of Gru', 2022, 6.6], [44, 'The Next 365 Days', 2022, 2.7], [45, 'Spider-Man: No Way Home', 2021, 8.3], [46, 'The Nice Guys', 2016, 7.3], [47, 'Glorious', 2022, 5.5], [48, 'A League of Their Own', 1992, 7.3], [49, 'Bones and All', 2022, ''], [50, 'Karthikeya 2', 2022, 8.5], [51, 'Rogue Agent', 2022, 6.3], [52, 'The Greatest Beer Run Ever', 2022, ''], [53, 'RRR', 2022, 8.0], [54, 'Spin Me Round', 2022, 5.1], [55, 'They/Them', 2022, 3.5], [56, 'Carter', 2022, 5.1], [57, 'Sing 2', 2021, 7.4], [58, 'Three Thousand Years of Longing', 2022, 6.6], [59, 'Samaritan', 2022, 5.9], [60, 'The Shawshank Redemption', 1994, 9.3], [61, \"Don't Worry Darling\", 2022, ''], [62, 'Once Upon a Time... In Hollywood', 2019, 7.6], [63, 'The Invitation', 2022, 5.4], [64, 'Emily the Criminal', 2022, 7.1], [65, 'Get Out', 2017, 7.7], [66, 'Dune', 2021, 8.0], [67, 'Barbie', 2023, ''], [68, 'Not Okay', 2022, 6.0], [69, 'Predators', 2010, 6.4], [70, 'Avatar: The Way of Water', 2022, ''], [71, 'Moonfall', 2022, 5.2], [72, '365 Days: This Day', 2022, 2.5], [73, 'Wifelike', 2022, 4.9], [74, \"Untold: The Girlfriend Who Didn't Exist\", 2022, 7.2], [75, 'House of Gucci', 2021, 6.6], [76, 'The Age of Adaline', 2015, 7.2], [77, 'The Informer', 2019, 6.6], [78, 'Predator 2', 1990, 6.3], [79, 'Wedding Season', 2022, 6.3], [80, 'Ghostbusters: Afterlife', 2021, 7.1], [81, 'Death on the Nile', 2022, 6.3], [82, 'Forrest Gump', 1994, 8.8], [83, 'Pulp Fiction', 1994, 8.9], [84, 'The Lord of the Rings: The Fellowship of the Ring', 2001, 8.8], [85, 'Happy Gilmore', 1996, 7.0], [86, 'Interstellar', 2014, 8.6], [87, 'The Unbearable Weight of Massive Talent', 2022, 7.0], [88, 'Fast Times at Ridgemont High', 1982, 7.1], [89, 'The Immaculate Room', 2022, 4.5], [90, 'Heat', 1995, 8.3], [91, 'Midsommar', 2019, 7.1], [92, 'The Sea Beast', 2022, 7.1], [93, 'The Guest', 2014, 6.7], [94, 'Decision to Leave', 2022, 7.4], [95, 'Event Horizon', 1997, 6.6], [96, 'Belfast', 2021, 7.3], [97, 'Código Emperador', 2022, 5.8], [98, 'The Wolf of Wall Street', 2013, 8.2], [99, 'Fantastic Beasts: The Secrets of Dumbledore', 2022, 6.2], [100, 'Crimes of the Future', 2022, 5.9]]\n"
          ]
        }
      ]
    },
    {
      "cell_type": "code",
      "source": [
        "data_movie_100=pd.DataFrame(data)\n",
        "data_movie_100.columns=['Ranking','Movie','Year','IMBd Ranking'] #Cambiar nombre a las columnas\n",
        "data_movie_100.head(20) #Mostrar los primeros 20 resultados"
      ],
      "metadata": {
        "id": "n2ml0Pkixf3O",
        "colab": {
          "base_uri": "https://localhost:8080/",
          "height": 676
        },
        "outputId": "2f25443c-eb08-4556-fcd7-0d71d40e4d62"
      },
      "execution_count": 104,
      "outputs": [
        {
          "output_type": "execute_result",
          "data": {
            "text/plain": [
              "    Ranking                   Movie  Year IMBd Ranking\n",
              "0         1               Day Shift  2022          6.1\n",
              "1         2                    Prey  2022          7.2\n",
              "2         3            Bullet Train  2022          7.5\n",
              "3         4                    Nope  2022          7.2\n",
              "4         5       Top Gun: Maverick  2022          8.5\n",
              "5         6                The Menu  2022             \n",
              "6         7                   Elvis  2022          7.6\n",
              "7         8          Thirteen Lives  2022          7.8\n",
              "8         9            The Gray Man  2022          6.5\n",
              "9        10      Orphan: First Kill  2022          6.0\n",
              "10       11           Purple Hearts  2022          6.7\n",
              "11       12         The Black Phone  2021          7.0\n",
              "12       13          Look Both Ways  2022          6.3\n",
              "13       14                  Grease  1978          7.2\n",
              "14       15                   Beast  2022          5.9\n",
              "15       16  Thor: Love and Thunder  2022          6.7\n",
              "16       17    Bodies Bodies Bodies  2022          6.7\n",
              "17       18               Vengeance  2022          6.9\n",
              "18       19               Uncharted  2022          6.4\n",
              "19       20     Secret Headquarters  2022          4.9"
            ],
            "text/html": [
              "\n",
              "  <div id=\"df-85873245-2803-4d5b-9d1e-3594533629f9\">\n",
              "    <div class=\"colab-df-container\">\n",
              "      <div>\n",
              "<style scoped>\n",
              "    .dataframe tbody tr th:only-of-type {\n",
              "        vertical-align: middle;\n",
              "    }\n",
              "\n",
              "    .dataframe tbody tr th {\n",
              "        vertical-align: top;\n",
              "    }\n",
              "\n",
              "    .dataframe thead th {\n",
              "        text-align: right;\n",
              "    }\n",
              "</style>\n",
              "<table border=\"1\" class=\"dataframe\">\n",
              "  <thead>\n",
              "    <tr style=\"text-align: right;\">\n",
              "      <th></th>\n",
              "      <th>Ranking</th>\n",
              "      <th>Movie</th>\n",
              "      <th>Year</th>\n",
              "      <th>IMBd Ranking</th>\n",
              "    </tr>\n",
              "  </thead>\n",
              "  <tbody>\n",
              "    <tr>\n",
              "      <th>0</th>\n",
              "      <td>1</td>\n",
              "      <td>Day Shift</td>\n",
              "      <td>2022</td>\n",
              "      <td>6.1</td>\n",
              "    </tr>\n",
              "    <tr>\n",
              "      <th>1</th>\n",
              "      <td>2</td>\n",
              "      <td>Prey</td>\n",
              "      <td>2022</td>\n",
              "      <td>7.2</td>\n",
              "    </tr>\n",
              "    <tr>\n",
              "      <th>2</th>\n",
              "      <td>3</td>\n",
              "      <td>Bullet Train</td>\n",
              "      <td>2022</td>\n",
              "      <td>7.5</td>\n",
              "    </tr>\n",
              "    <tr>\n",
              "      <th>3</th>\n",
              "      <td>4</td>\n",
              "      <td>Nope</td>\n",
              "      <td>2022</td>\n",
              "      <td>7.2</td>\n",
              "    </tr>\n",
              "    <tr>\n",
              "      <th>4</th>\n",
              "      <td>5</td>\n",
              "      <td>Top Gun: Maverick</td>\n",
              "      <td>2022</td>\n",
              "      <td>8.5</td>\n",
              "    </tr>\n",
              "    <tr>\n",
              "      <th>5</th>\n",
              "      <td>6</td>\n",
              "      <td>The Menu</td>\n",
              "      <td>2022</td>\n",
              "      <td></td>\n",
              "    </tr>\n",
              "    <tr>\n",
              "      <th>6</th>\n",
              "      <td>7</td>\n",
              "      <td>Elvis</td>\n",
              "      <td>2022</td>\n",
              "      <td>7.6</td>\n",
              "    </tr>\n",
              "    <tr>\n",
              "      <th>7</th>\n",
              "      <td>8</td>\n",
              "      <td>Thirteen Lives</td>\n",
              "      <td>2022</td>\n",
              "      <td>7.8</td>\n",
              "    </tr>\n",
              "    <tr>\n",
              "      <th>8</th>\n",
              "      <td>9</td>\n",
              "      <td>The Gray Man</td>\n",
              "      <td>2022</td>\n",
              "      <td>6.5</td>\n",
              "    </tr>\n",
              "    <tr>\n",
              "      <th>9</th>\n",
              "      <td>10</td>\n",
              "      <td>Orphan: First Kill</td>\n",
              "      <td>2022</td>\n",
              "      <td>6.0</td>\n",
              "    </tr>\n",
              "    <tr>\n",
              "      <th>10</th>\n",
              "      <td>11</td>\n",
              "      <td>Purple Hearts</td>\n",
              "      <td>2022</td>\n",
              "      <td>6.7</td>\n",
              "    </tr>\n",
              "    <tr>\n",
              "      <th>11</th>\n",
              "      <td>12</td>\n",
              "      <td>The Black Phone</td>\n",
              "      <td>2021</td>\n",
              "      <td>7.0</td>\n",
              "    </tr>\n",
              "    <tr>\n",
              "      <th>12</th>\n",
              "      <td>13</td>\n",
              "      <td>Look Both Ways</td>\n",
              "      <td>2022</td>\n",
              "      <td>6.3</td>\n",
              "    </tr>\n",
              "    <tr>\n",
              "      <th>13</th>\n",
              "      <td>14</td>\n",
              "      <td>Grease</td>\n",
              "      <td>1978</td>\n",
              "      <td>7.2</td>\n",
              "    </tr>\n",
              "    <tr>\n",
              "      <th>14</th>\n",
              "      <td>15</td>\n",
              "      <td>Beast</td>\n",
              "      <td>2022</td>\n",
              "      <td>5.9</td>\n",
              "    </tr>\n",
              "    <tr>\n",
              "      <th>15</th>\n",
              "      <td>16</td>\n",
              "      <td>Thor: Love and Thunder</td>\n",
              "      <td>2022</td>\n",
              "      <td>6.7</td>\n",
              "    </tr>\n",
              "    <tr>\n",
              "      <th>16</th>\n",
              "      <td>17</td>\n",
              "      <td>Bodies Bodies Bodies</td>\n",
              "      <td>2022</td>\n",
              "      <td>6.7</td>\n",
              "    </tr>\n",
              "    <tr>\n",
              "      <th>17</th>\n",
              "      <td>18</td>\n",
              "      <td>Vengeance</td>\n",
              "      <td>2022</td>\n",
              "      <td>6.9</td>\n",
              "    </tr>\n",
              "    <tr>\n",
              "      <th>18</th>\n",
              "      <td>19</td>\n",
              "      <td>Uncharted</td>\n",
              "      <td>2022</td>\n",
              "      <td>6.4</td>\n",
              "    </tr>\n",
              "    <tr>\n",
              "      <th>19</th>\n",
              "      <td>20</td>\n",
              "      <td>Secret Headquarters</td>\n",
              "      <td>2022</td>\n",
              "      <td>4.9</td>\n",
              "    </tr>\n",
              "  </tbody>\n",
              "</table>\n",
              "</div>\n",
              "      <button class=\"colab-df-convert\" onclick=\"convertToInteractive('df-85873245-2803-4d5b-9d1e-3594533629f9')\"\n",
              "              title=\"Convert this dataframe to an interactive table.\"\n",
              "              style=\"display:none;\">\n",
              "        \n",
              "  <svg xmlns=\"http://www.w3.org/2000/svg\" height=\"24px\"viewBox=\"0 0 24 24\"\n",
              "       width=\"24px\">\n",
              "    <path d=\"M0 0h24v24H0V0z\" fill=\"none\"/>\n",
              "    <path d=\"M18.56 5.44l.94 2.06.94-2.06 2.06-.94-2.06-.94-.94-2.06-.94 2.06-2.06.94zm-11 1L8.5 8.5l.94-2.06 2.06-.94-2.06-.94L8.5 2.5l-.94 2.06-2.06.94zm10 10l.94 2.06.94-2.06 2.06-.94-2.06-.94-.94-2.06-.94 2.06-2.06.94z\"/><path d=\"M17.41 7.96l-1.37-1.37c-.4-.4-.92-.59-1.43-.59-.52 0-1.04.2-1.43.59L10.3 9.45l-7.72 7.72c-.78.78-.78 2.05 0 2.83L4 21.41c.39.39.9.59 1.41.59.51 0 1.02-.2 1.41-.59l7.78-7.78 2.81-2.81c.8-.78.8-2.07 0-2.86zM5.41 20L4 18.59l7.72-7.72 1.47 1.35L5.41 20z\"/>\n",
              "  </svg>\n",
              "      </button>\n",
              "      \n",
              "  <style>\n",
              "    .colab-df-container {\n",
              "      display:flex;\n",
              "      flex-wrap:wrap;\n",
              "      gap: 12px;\n",
              "    }\n",
              "\n",
              "    .colab-df-convert {\n",
              "      background-color: #E8F0FE;\n",
              "      border: none;\n",
              "      border-radius: 50%;\n",
              "      cursor: pointer;\n",
              "      display: none;\n",
              "      fill: #1967D2;\n",
              "      height: 32px;\n",
              "      padding: 0 0 0 0;\n",
              "      width: 32px;\n",
              "    }\n",
              "\n",
              "    .colab-df-convert:hover {\n",
              "      background-color: #E2EBFA;\n",
              "      box-shadow: 0px 1px 2px rgba(60, 64, 67, 0.3), 0px 1px 3px 1px rgba(60, 64, 67, 0.15);\n",
              "      fill: #174EA6;\n",
              "    }\n",
              "\n",
              "    [theme=dark] .colab-df-convert {\n",
              "      background-color: #3B4455;\n",
              "      fill: #D2E3FC;\n",
              "    }\n",
              "\n",
              "    [theme=dark] .colab-df-convert:hover {\n",
              "      background-color: #434B5C;\n",
              "      box-shadow: 0px 1px 3px 1px rgba(0, 0, 0, 0.15);\n",
              "      filter: drop-shadow(0px 1px 2px rgba(0, 0, 0, 0.3));\n",
              "      fill: #FFFFFF;\n",
              "    }\n",
              "  </style>\n",
              "\n",
              "      <script>\n",
              "        const buttonEl =\n",
              "          document.querySelector('#df-85873245-2803-4d5b-9d1e-3594533629f9 button.colab-df-convert');\n",
              "        buttonEl.style.display =\n",
              "          google.colab.kernel.accessAllowed ? 'block' : 'none';\n",
              "\n",
              "        async function convertToInteractive(key) {\n",
              "          const element = document.querySelector('#df-85873245-2803-4d5b-9d1e-3594533629f9');\n",
              "          const dataTable =\n",
              "            await google.colab.kernel.invokeFunction('convertToInteractive',\n",
              "                                                     [key], {});\n",
              "          if (!dataTable) return;\n",
              "\n",
              "          const docLinkHtml = 'Like what you see? Visit the ' +\n",
              "            '<a target=\"_blank\" href=https://colab.research.google.com/notebooks/data_table.ipynb>data table notebook</a>'\n",
              "            + ' to learn more about interactive tables.';\n",
              "          element.innerHTML = '';\n",
              "          dataTable['output_type'] = 'display_data';\n",
              "          await google.colab.output.renderOutput(dataTable, element);\n",
              "          const docLink = document.createElement('div');\n",
              "          docLink.innerHTML = docLinkHtml;\n",
              "          element.appendChild(docLink);\n",
              "        }\n",
              "      </script>\n",
              "    </div>\n",
              "  </div>\n",
              "  "
            ]
          },
          "metadata": {},
          "execution_count": 104
        }
      ]
    },
    {
      "cell_type": "code",
      "source": [
        "#Creación de histograma para representar el número de peliculas por año\n",
        "sns.histplot(data_movie_100[\"Year\"], color='#be013c')\n",
        "plt.xlabel(\"Year\")\n",
        "plt.ylabel('Count of movies')\n",
        "plt.title('Most Popular Movies - Year')"
      ],
      "metadata": {
        "colab": {
          "base_uri": "https://localhost:8080/",
          "height": 312
        },
        "id": "1lgaVEm-QjfA",
        "outputId": "2c55cab5-88ac-49f8-dd53-19738ceb5159"
      },
      "execution_count": 140,
      "outputs": [
        {
          "output_type": "execute_result",
          "data": {
            "text/plain": [
              "Text(0.5, 1.0, 'Most Popular Movies - Year')"
            ]
          },
          "metadata": {},
          "execution_count": 140
        },
        {
          "output_type": "display_data",
          "data": {
            "text/plain": [
              "<Figure size 432x288 with 1 Axes>"
            ],
            "image/png": "[encoded data removed]"
          },
          "metadata": {
            "needs_background": "light"
          }
        }
      ]
    },
    {
      "cell_type": "code",
      "source": [
        "#Visualización de la distribución de ranking por peliculas\n",
        "sns.histplot(data_movie_100[\"IMBd Ranking\"],bins=10, color='#cb0162')\n",
        "plt.xlabel(\"IMBd Ranking\")\n",
        "plt.ylabel('Count')\n",
        "plt.title('Most Popular Movies - Ranking IMDb')"
      ],
      "metadata": {
        "colab": {
          "base_uri": "https://localhost:8080/",
          "height": 312
        },
        "id": "nJ2YlelbS2Pc",
        "outputId": "32e58248-cda6-449c-d189-2613a52708c3"
      },
      "execution_count": 152,
      "outputs": [
        {
          "output_type": "execute_result",
          "data": {
            "text/plain": [
              "Text(0.5, 1.0, 'Most Popular Movies - Ranking IMDb')"
            ]
          },
          "metadata": {},
          "execution_count": 152
        },
        {
          "output_type": "display_data",
          "data": {
            "text/plain": [
              "<Figure size 432x288 with 1 Axes>"
            ],
            "image/png": "[encoded data removed]"
          },
          "metadata": {
            "needs_background": "light"
          }
        }
      ]
    },
    {
      "cell_type": "markdown",
      "source": [
        "La mayoría de las peliculas cuenta con una calificación entre 7 a 8 de acuerdo a IMBd users."
      ],
      "metadata": {
        "id": "oDR1GINlWdqE"
      }
    },
    {
      "cell_type": "code",
      "source": [
        "#Convertir dataFrame a un archivo csv\n",
        "data_movie_100.to_csv(\"data_movie_100.csv\")\n"
      ],
      "metadata": {
        "id": "cNPfiEDUzUPD"
      },
      "execution_count": 133,
      "outputs": []
    },
    {
      "cell_type": "markdown",
      "source": [
        "**Top 10 de peliculas del 2021 al 2018**   [*](https://www.imdb.com/chart/top?sort=us,desc&mode=simple&page=1)"
      ],
      "metadata": {
        "id": "W5NNdBYkpW70"
      }
    },
    {
      "cell_type": "code",
      "source": [
        "top_movies_250 = requests.get('https://www.imdb.com/chart/top?sort=us,desc&mode=simple&page=1')\n",
        "soup_250 = BeautifulSoup(top_movies_250.text)  #Obtener el código de la página"
      ],
      "metadata": {
        "id": "Ndz52VtAy0B8"
      },
      "execution_count": 30,
      "outputs": []
    },
    {
      "cell_type": "code",
      "source": [
        "print(soup_250.title.text)  #Titulo de la página"
      ],
      "metadata": {
        "colab": {
          "base_uri": "https://localhost:8080/"
        },
        "id": "gDlGYyIEz767",
        "outputId": "c764d3bd-dca5-44ad-c0b0-ed103ea32781"
      },
      "execution_count": 31,
      "outputs": [
        {
          "output_type": "stream",
          "name": "stdout",
          "text": [
            "Top 250 Movies - IMDb\n"
          ]
        }
      ]
    },
    {
      "cell_type": "code",
      "source": [
        "rows_250 = soup_250.find_all('tr') #Numéro de filas de la página\n",
        "print(len(rows_250))  #251, 1 para el nombre de las columnas y 250 para las peliculas"
      ],
      "metadata": {
        "colab": {
          "base_uri": "https://localhost:8080/"
        },
        "id": "jPcLzXTi0ALX",
        "outputId": "ec0ab490-f425-42e1-9f94-c5bbfc004e44"
      },
      "execution_count": 173,
      "outputs": [
        {
          "output_type": "stream",
          "name": "stdout",
          "text": [
            "251\n"
          ]
        }
      ]
    },
    {
      "cell_type": "code",
      "source": [
        "rows_250 = soup_250.find_all('tr') #Filas\n",
        "data_250 = [] #Arreglo donde se guarda la información de las series\n",
        "\n",
        "for i in range(1,len(rows_250)):\n",
        "\n",
        "  movies=[] #Lista con la información de la pelicula\n",
        "\n",
        "  #Ranking\n",
        "  cd=rows_250[i].find_all('td')  \n",
        "  cd_ran=cd[1].text  #Texto donde está el ranking de la pelicula\n",
        "  ran=cd_ran.replace(\"\\n\",\"\").split(\"  \") #Quitar texto extra y separación del str en un listado\n",
        "  ranking=ran[3].replace(\".\",\"\") #Obtención del ranking en formato de texto\n",
        "  ranking=int(ranking)  #Convertir str a int\n",
        "  movies.append(ranking)\n",
        "\n",
        "  #Titulo\n",
        "  name=rows_250[i].find_all('a')\n",
        "  movie=name[1].text\n",
        "  movies.append(movie)  #Agregar nombre de la pelicula\n",
        "\n",
        "  #Year\n",
        "  year_250= rows_250[i].find_all('span')\n",
        "  year=year_250[5].text #Año entre parentesis en formato texto\n",
        "  year=((year.split(\"(\")[1]).split(\")\")[0]) #Dividir texto en una lista para obtener el año\n",
        "  movies.append(int(year))  #Agregar año en forma int \n",
        "\n",
        "  #IMBd Score\n",
        "  a=rows_250[i].find('strong')\n",
        "  if not a:       #Criterio para las peliculas que no tengan score\n",
        "    datos.append(\"\")  #Se pone celda vacia\n",
        "  else:\n",
        "    ran=a.text #Ranking de la IMBd users\n",
        "    movies.append(float(ran))  #Transformar ranking a float\n",
        "\n",
        "  data_250.append(movies) #Incluir fila a arreglo\n",
        "  \n",
        "print(data_250) #Arreglo creado"
      ],
      "metadata": {
        "colab": {
          "base_uri": "https://localhost:8080/"
        },
        "id": "wd2vbcjD0JUm",
        "outputId": "23e59d00-44bf-4cfe-f611-b5b0110ce935"
      },
      "execution_count": 174,
      "outputs": [
        {
          "output_type": "stream",
          "name": "stdout",
          "text": [
            "[[57, 'Top Gun: Maverick', 2022, 8.4], [179, 'Everything Everywhere All at Once', 2022, 8.1], [133, 'Spider-Man: No Way Home', 2021, 8.2], [246, 'Jai Bhim', 2021, 8.0], [121, 'Hamilton', 2020, 8.2], [131, 'The Father', 2020, 8.2], [122, '1917', 2019, 8.2], [197, 'Klaus', 2019, 8.1], [72, 'Joker', 2019, 8.3], [212, 'Ford v Ferrari', 2019, 8.0], [35, 'Parasite', 2019, 8.5], [80, 'Avengers: Endgame', 2019, 8.3], [69, 'Spider-Man: Into the Spider-Verse', 2018, 8.3], [132, 'Green Book', 2018, 8.2], [93, 'Capernaum', 2018, 8.3], [65, 'Avengers: Infinity War', 2018, 8.4], [76, 'Coco', 2017, 8.3], [166, 'Three Billboards Outside Ebbing, Missouri', 2017, 8.1], [219, 'Logan', 2017, 8.0], [127, 'Dangal', 2016, 8.2], [195, 'Hacksaw Ridge', 2016, 8.1], [83, 'Your Name.', 2016, 8.3], [245, 'The Handmaiden', 2016, 8.0], [200, 'Room', 2015, 8.1], [217, 'Spotlight', 2015, 8.0], [160, 'Inside Out', 2015, 8.1], [201, 'Mad Max: Fury Road', 2015, 8.1], [27, 'Interstellar', 2014, 8.6], [186, 'Gone Girl', 2014, 8.1], [198, 'Wild Tales', 2014, 8.1], [190, 'The Grand Budapest Hotel', 2014, 8.1], [43, 'Whiplash', 2014, 8.5], [134, 'The Wolf of Wall Street', 2013, 8.2], [218, 'Rush', 2013, 8.0], [171, 'Prisoners', 2013, 8.1], [183, '12 Years a Slave', 2013, 8.1], [56, 'Django Unchained', 2012, 8.4], [70, 'The Dark Knight Rises', 2012, 8.3], [96, 'The Hunt', 2012, 8.3], [44, 'The Intouchables', 2011, 8.5], [168, 'Warrior', 2011, 8.1], [249, 'The Help', 2011, 8.0], [187, 'Harry Potter and the Deathly Hallows: Part 2', 2011, 8.1], [116, 'A Separation', 2011, 8.2], [115, 'Incendies', 2010, 8.2], [13, 'Inception', 2010, 8.7], [85, 'Toy Story 3', 2010, 8.3], [202, 'How to Train Your Dragon', 2010, 8.1], [147, 'Shutter Island', 2010, 8.1], [87, '3 Idiots', 2009, 8.3], [163, 'The Secret in Their Eyes', 2009, 8.1], [233, \"Hachi: A Dog's Tale\", 2009, 8.0], [77, 'Inglourious Basterds', 2009, 8.3], [112, 'Up', 2009, 8.2], [204, 'Mary and Max', 2009, 8.1], [169, 'Gran Torino', 2008, 8.1], [3, 'The Dark Knight', 2008, 9.0], [58, 'WALL·E', 2008, 8.4], [123, 'Like Stars on Earth', 2007, 8.2], [140, 'There Will Be Blood', 2007, 8.2], [221, 'Into the Wild', 2007, 8.0], [222, 'Ratatouille', 2007, 8.0], [152, 'No Country for Old Men', 2007, 8.1], [41, 'The Prestige', 2006, 8.5], [39, 'The Departed', 2006, 8.5], [139, \"Pan's Labyrinth\", 2006, 8.2], [59, 'The Lives of Others', 2006, 8.4], [159, 'V for Vendetta', 2005, 8.1], [239, 'My Father and My Son', 2005, 8.0], [126, 'Batman Begins', 2005, 8.2], [173, 'Million Dollar Baby', 2004, 8.1], [228, 'The Incredibles', 2004, 8.0], [210, 'Hotel Rwanda', 2004, 8.1], [124, 'Downfall', 2004, 8.2], [164, \"Howl's Moving Castle\", 2004, 8.1], [91, 'Eternal Sunshine of the Spotless Mind', 2004, 8.3], [225, 'Before Sunset', 2004, 8.0], [7, 'The Lord of the Rings: The Return of the King', 2003, 8.9], [71, 'Oldboy', 2003, 8.3], [151, 'Kill Bill: Vol. 1', 2003, 8.1], [236, 'Pirates of the Caribbean: The Curse of the Black Pearl', 2003, 8.0], [153, 'Finding Nemo', 2003, 8.1], [196, 'Memories of Murder', 2003, 8.1], [174, 'Catch Me If You Can', 2002, 8.1], [14, 'The Lord of the Rings: The Two Towers', 2002, 8.7], [33, 'The Pianist', 2002, 8.5], [23, 'City of God', 2002, 8.6], [143, 'A Beautiful Mind', 2001, 8.2], [9, 'The Lord of the Rings: The Fellowship of the Ring', 2001, 8.8], [205, 'Monsters, Inc.', 2001, 8.1], [31, 'Spirited Away', 2001, 8.5], [101, 'Amélie', 2001, 8.2], [54, 'Memento', 2000, 8.4], [118, 'Snatch', 2000, 8.2], [84, 'Requiem for a Dream', 2000, 8.3], [235, 'Amores perros', 2000, 8.0], [37, 'Gladiator', 2000, 8.5], [26, 'The Green Mile', 1999, 8.6], [12, 'Fight Club', 1999, 8.7], [67, 'American Beauty', 1999, 8.3], [142, 'The Sixth Sense', 1999, 8.2], [250, 'The Iron Giant', 1999, 8.0], [16, 'The Matrix', 1999, 8.7], [161, 'Lock, Stock and Two Smoking Barrels', 1998, 8.1], [24, 'Saving Private Ryan', 1998, 8.6], [38, 'American History X', 1998, 8.5], [141, 'The Truman Show', 1998, 8.2], [203, 'The Big Lebowski', 1998, 8.1], [25, 'Life Is Beautiful', 1997, 8.6], [82, 'Good Will Hunting', 1997, 8.3], [79, 'Princess Mononoke', 1997, 8.3], [113, 'L.A. Confidential', 1997, 8.2], [178, 'Children of Heaven', 1997, 8.1], [170, 'Fargo', 1996, 8.1], [167, 'Trainspotting', 1996, 8.1], [111, 'Heat', 1995, 8.2], [75, 'Toy Story', 1995, 8.3], [137, 'Casino', 1995, 8.2], [19, 'Se7en', 1995, 8.6], [237, 'La Haine', 1995, 8.0], [74, 'Braveheart', 1995, 8.3], [40, 'The Usual Suspects', 1995, 8.5], [182, 'Before Sunrise', 1995, 8.1], [34, 'Léon: The Professional', 1994, 8.5], [1, 'The Shawshank Redemption', 1994, 9.2], [11, 'Forrest Gump', 1994, 8.8], [36, 'The Lion King', 1994, 8.5], [8, 'Pulp Fiction', 1994, 8.8], [189, 'In the Name of the Father', 1993, 8.1], [6, \"Schindler's List\", 1993, 8.9], [148, 'Jurassic Park', 1993, 8.1], [224, 'Groundhog Day', 1993, 8.0], [247, 'Aladdin', 1992, 8.0], [138, 'Unforgiven', 1992, 8.2], [92, 'Reservoir Dogs', 1992, 8.3], [29, 'Terminator 2: Judgment Day', 1991, 8.5], [22, 'The Silence of the Lambs', 1991, 8.6], [17, 'Goodfellas', 1990, 8.7], [207, 'Dead Poets Society', 1989, 8.1], [119, 'Indiana Jones and the Last Crusade', 1989, 8.2], [52, 'Cinema Paradiso', 1988, 8.4], [117, 'Die Hard', 1988, 8.2], [45, 'Grave of the Fireflies', 1988, 8.5], [172, 'My Neighbor Totoro', 1988, 8.1], [104, 'Full Metal Jacket', 1987, 8.2], [213, 'Platoon', 1986, 8.0], [215, 'Stand by Me', 1986, 8.0], [66, 'Aliens', 1986, 8.3], [99, 'Come and See', 1985, 8.2], [30, 'Back to the Future', 1985, 8.5], [136, 'Ran', 1985, 8.2], [216, 'The Terminator', 1984, 8.0], [73, 'Amadeus', 1984, 8.3], [81, 'Once Upon a Time in America', 1984, 8.3], [106, 'Scarface', 1983, 8.2], [88, 'Star Wars: Episode VI - Return of the Jedi', 1983, 8.3], [248, 'Gandhi', 1982, 8.0], [157, 'The Thing', 1982, 8.1], [176, 'Blade Runner', 1982, 8.1], [78, 'The Boat', 1981, 8.3], [55, 'Indiana Jones and the Raiders of the Lost Ark', 1981, 8.4], [156, 'Raging Bull', 1980, 8.1], [154, 'The Elephant Man', 1980, 8.1], [62, 'The Shining', 1980, 8.4], [15, 'Star Wars: Episode V - The Empire Strikes Back', 1980, 8.7], [243, 'Life of Brian', 1979, 8.0], [50, 'Alien', 1979, 8.4], [53, 'Apocalypse Now', 1979, 8.4], [188, 'The Deer Hunter', 1978, 8.1], [28, 'Star Wars', 1977, 8.6], [211, 'Rocky', 1976, 8.0], [220, 'Network', 1976, 8.0], [110, 'Taxi Driver', 1976, 8.2], [191, 'Barry Lyndon', 1975, 8.1], [18, \"One Flew Over the Cuckoo's Nest\", 1975, 8.6], [244, 'Dersu Uzala', 1975, 8.0], [206, 'Jaws', 1975, 8.1], [144, 'Monty Python and the Holy Grail', 1975, 8.2], [4, 'The Godfather Part II', 1974, 9.0], [155, 'Chinatown', 1974, 8.1], [226, 'The Exorcist', 1973, 8.0], [108, 'The Sting', 1973, 8.2], [2, 'The Godfather', 1972, 9.2], [102, 'A Clockwork Orange', 1971, 8.2], [48, 'Once Upon a Time in the West', 1968, 8.4], [90, '2001: A Space Odyssey', 1968, 8.3], [234, 'Cool Hand Luke', 1967, 8.0], [10, 'The Good, the Bad and the Ugly', 1966, 8.8], [240, 'Persona', 1966, 8.0], [231, 'The Battle of Algiers', 1966, 8.0], [125, 'For a Few Dollars More', 1965, 8.2], [242, 'The Sound of Music', 1965, 8.0], [68, 'Dr. Strangelove or: How I Learned to Stop Worrying and Love the Bomb', 1964, 8.3], [149, 'The Great Escape', 1963, 8.1], [89, 'High and Low', 1963, 8.3], [109, 'To Kill a Mockingbird', 1962, 8.2], [94, 'Lawrence of Arabia', 1962, 8.3], [46, 'Harakiri', 1962, 8.5], [135, 'Judgment at Nuremberg', 1961, 8.2], [145, 'Yojimbo', 1961, 8.1], [32, 'Psycho', 1960, 8.5], [105, 'The Apartment', 1960, 8.2], [181, 'Ben-Hur', 1959, 8.1], [98, 'North by Northwest', 1959, 8.3], [238, 'The 400 Blows', 1959, 8.0], [129, 'Some Like It Hot', 1959, 8.2], [100, 'Vertigo', 1958, 8.2], [184, 'Wild Strawberries', 1957, 8.1], [64, 'Witness for the Prosecution', 1957, 8.4], [61, 'Paths of Glory', 1957, 8.4], [165, 'The Bridge on the River Kwai', 1957, 8.1], [5, '12 Angry Men', 1957, 8.9], [199, 'The Seventh Seal', 1957, 8.1], [214, 'Pather Panchali', 1955, 8.0], [49, 'Rear Window', 1954, 8.4], [177, 'On the Waterfront', 1954, 8.1], [162, 'Dial M for Murder', 1954, 8.1], [20, 'Seven Samurai', 1954, 8.6], [209, 'Tokyo Story', 1953, 8.1], [193, 'The Wages of Fear', 1953, 8.1], [107, 'Ikiru', 1952, 8.2], [86, \"Singin' in the Rain\", 1952, 8.3], [130, 'All About Eve', 1950, 8.2], [150, 'Rashomon', 1950, 8.1], [60, 'Sunset Blvd.', 1950, 8.4], [180, 'The Third Man', 1949, 8.1], [120, 'Bicycle Thieves', 1948, 8.2], [146, 'The Treasure of the Sierra Madre', 1948, 8.1], [21, \"It's a Wonderful Life\", 1946, 8.6], [227, 'The Best Years of Our Lives', 1946, 8.0], [103, 'Double Indemnity', 1944, 8.2], [42, 'Casablanca', 1942, 8.5], [229, 'To Be or Not to Be', 1942, 8.0], [95, 'Citizen Kane', 1941, 8.3], [63, 'The Great Dictator', 1940, 8.4], [232, 'Rebecca', 1940, 8.0], [230, 'The Grapes of Wrath', 1940, 8.0], [158, 'Gone with the Wind', 1939, 8.1], [192, 'Mr. Smith Goes to Washington', 1939, 8.1], [223, 'The Wizard of Oz', 1939, 8.0], [47, 'Modern Times', 1936, 8.4], [241, 'It Happened One Night', 1934, 8.0], [97, 'M', 1931, 8.3], [51, 'City Lights', 1931, 8.4], [208, 'The Passion of Joan of Arc', 1928, 8.1], [114, 'Metropolis', 1927, 8.2], [185, 'The General', 1926, 8.1], [175, 'The Gold Rush', 1925, 8.1], [194, 'Sherlock Jr.', 1924, 8.1], [128, 'The Kid', 1921, 8.2]]\n"
          ]
        }
      ]
    },
    {
      "cell_type": "code",
      "source": [
        "data_movies_250=pd.DataFrame(data_250) #Convetir arreglo a dataFrame\n",
        "data_movies_250.columns=['Ranking','Movie','Year','IMBd Ranking'] #Cambiar nombre de las columnas\n",
        "data_movies_250.sort_values(['Ranking']).head(20) #Visualización de las primeras mejores 20 peliculas, basandonos en el ranking"
      ],
      "metadata": {
        "id": "lvv9B9xg0ZNX",
        "colab": {
          "base_uri": "https://localhost:8080/",
          "height": 676
        },
        "outputId": "e4f91076-b038-47a3-e344-1c3977811988"
      },
      "execution_count": 175,
      "outputs": [
        {
          "output_type": "execute_result",
          "data": {
            "text/plain": [
              "     Ranking                                              Movie  Year  \\\n",
              "124        1                           The Shawshank Redemption  1994   \n",
              "182        2                                      The Godfather  1972   \n",
              "56         3                                    The Dark Knight  2008   \n",
              "178        4                              The Godfather Part II  1974   \n",
              "211        5                                       12 Angry Men  1957   \n",
              "129        6                                   Schindler's List  1993   \n",
              "77         7      The Lord of the Rings: The Return of the King  2003   \n",
              "127        8                                       Pulp Fiction  1994   \n",
              "88         9  The Lord of the Rings: The Fellowship of the Ring  2001   \n",
              "187       10                     The Good, the Bad and the Ugly  1966   \n",
              "125       11                                       Forrest Gump  1994   \n",
              "98        12                                         Fight Club  1999   \n",
              "45        13                                          Inception  2010   \n",
              "84        14              The Lord of the Rings: The Two Towers  2002   \n",
              "164       15     Star Wars: Episode V - The Empire Strikes Back  1980   \n",
              "102       16                                         The Matrix  1999   \n",
              "137       17                                         Goodfellas  1990   \n",
              "174       18                    One Flew Over the Cuckoo's Nest  1975   \n",
              "118       19                                              Se7en  1995   \n",
              "217       20                                      Seven Samurai  1954   \n",
              "\n",
              "     IMBd Ranking  \n",
              "124           9.2  \n",
              "182           9.2  \n",
              "56            9.0  \n",
              "178           9.0  \n",
              "211           8.9  \n",
              "129           8.9  \n",
              "77            8.9  \n",
              "127           8.8  \n",
              "88            8.8  \n",
              "187           8.8  \n",
              "125           8.8  \n",
              "98            8.7  \n",
              "45            8.7  \n",
              "84            8.7  \n",
              "164           8.7  \n",
              "102           8.7  \n",
              "137           8.7  \n",
              "174           8.6  \n",
              "118           8.6  \n",
              "217           8.6  "
            ],
            "text/html": [
              "\n",
              "  <div id=\"df-b33c57b1-6dae-48a2-95fc-12371683e4ea\">\n",
              "    <div class=\"colab-df-container\">\n",
              "      <div>\n",
              "<style scoped>\n",
              "    .dataframe tbody tr th:only-of-type {\n",
              "        vertical-align: middle;\n",
              "    }\n",
              "\n",
              "    .dataframe tbody tr th {\n",
              "        vertical-align: top;\n",
              "    }\n",
              "\n",
              "    .dataframe thead th {\n",
              "        text-align: right;\n",
              "    }\n",
              "</style>\n",
              "<table border=\"1\" class=\"dataframe\">\n",
              "  <thead>\n",
              "    <tr style=\"text-align: right;\">\n",
              "      <th></th>\n",
              "      <th>Ranking</th>\n",
              "      <th>Movie</th>\n",
              "      <th>Year</th>\n",
              "      <th>IMBd Ranking</th>\n",
              "    </tr>\n",
              "  </thead>\n",
              "  <tbody>\n",
              "    <tr>\n",
              "      <th>124</th>\n",
              "      <td>1</td>\n",
              "      <td>The Shawshank Redemption</td>\n",
              "      <td>1994</td>\n",
              "      <td>9.2</td>\n",
              "    </tr>\n",
              "    <tr>\n",
              "      <th>182</th>\n",
              "      <td>2</td>\n",
              "      <td>The Godfather</td>\n",
              "      <td>1972</td>\n",
              "      <td>9.2</td>\n",
              "    </tr>\n",
              "    <tr>\n",
              "      <th>56</th>\n",
              "      <td>3</td>\n",
              "      <td>The Dark Knight</td>\n",
              "      <td>2008</td>\n",
              "      <td>9.0</td>\n",
              "    </tr>\n",
              "    <tr>\n",
              "      <th>178</th>\n",
              "      <td>4</td>\n",
              "      <td>The Godfather Part II</td>\n",
              "      <td>1974</td>\n",
              "      <td>9.0</td>\n",
              "    </tr>\n",
              "    <tr>\n",
              "      <th>211</th>\n",
              "      <td>5</td>\n",
              "      <td>12 Angry Men</td>\n",
              "      <td>1957</td>\n",
              "      <td>8.9</td>\n",
              "    </tr>\n",
              "    <tr>\n",
              "      <th>129</th>\n",
              "      <td>6</td>\n",
              "      <td>Schindler's List</td>\n",
              "      <td>1993</td>\n",
              "      <td>8.9</td>\n",
              "    </tr>\n",
              "    <tr>\n",
              "      <th>77</th>\n",
              "      <td>7</td>\n",
              "      <td>The Lord of the Rings: The Return of the King</td>\n",
              "      <td>2003</td>\n",
              "      <td>8.9</td>\n",
              "    </tr>\n",
              "    <tr>\n",
              "      <th>127</th>\n",
              "      <td>8</td>\n",
              "      <td>Pulp Fiction</td>\n",
              "      <td>1994</td>\n",
              "      <td>8.8</td>\n",
              "    </tr>\n",
              "    <tr>\n",
              "      <th>88</th>\n",
              "      <td>9</td>\n",
              "      <td>The Lord of the Rings: The Fellowship of the Ring</td>\n",
              "      <td>2001</td>\n",
              "      <td>8.8</td>\n",
              "    </tr>\n",
              "    <tr>\n",
              "      <th>187</th>\n",
              "      <td>10</td>\n",
              "      <td>The Good, the Bad and the Ugly</td>\n",
              "      <td>1966</td>\n",
              "      <td>8.8</td>\n",
              "    </tr>\n",
              "    <tr>\n",
              "      <th>125</th>\n",
              "      <td>11</td>\n",
              "      <td>Forrest Gump</td>\n",
              "      <td>1994</td>\n",
              "      <td>8.8</td>\n",
              "    </tr>\n",
              "    <tr>\n",
              "      <th>98</th>\n",
              "      <td>12</td>\n",
              "      <td>Fight Club</td>\n",
              "      <td>1999</td>\n",
              "      <td>8.7</td>\n",
              "    </tr>\n",
              "    <tr>\n",
              "      <th>45</th>\n",
              "      <td>13</td>\n",
              "      <td>Inception</td>\n",
              "      <td>2010</td>\n",
              "      <td>8.7</td>\n",
              "    </tr>\n",
              "    <tr>\n",
              "      <th>84</th>\n",
              "      <td>14</td>\n",
              "      <td>The Lord of the Rings: The Two Towers</td>\n",
              "      <td>2002</td>\n",
              "      <td>8.7</td>\n",
              "    </tr>\n",
              "    <tr>\n",
              "      <th>164</th>\n",
              "      <td>15</td>\n",
              "      <td>Star Wars: Episode V - The Empire Strikes Back</td>\n",
              "      <td>1980</td>\n",
              "      <td>8.7</td>\n",
              "    </tr>\n",
              "    <tr>\n",
              "      <th>102</th>\n",
              "      <td>16</td>\n",
              "      <td>The Matrix</td>\n",
              "      <td>1999</td>\n",
              "      <td>8.7</td>\n",
              "    </tr>\n",
              "    <tr>\n",
              "      <th>137</th>\n",
              "      <td>17</td>\n",
              "      <td>Goodfellas</td>\n",
              "      <td>1990</td>\n",
              "      <td>8.7</td>\n",
              "    </tr>\n",
              "    <tr>\n",
              "      <th>174</th>\n",
              "      <td>18</td>\n",
              "      <td>One Flew Over the Cuckoo's Nest</td>\n",
              "      <td>1975</td>\n",
              "      <td>8.6</td>\n",
              "    </tr>\n",
              "    <tr>\n",
              "      <th>118</th>\n",
              "      <td>19</td>\n",
              "      <td>Se7en</td>\n",
              "      <td>1995</td>\n",
              "      <td>8.6</td>\n",
              "    </tr>\n",
              "    <tr>\n",
              "      <th>217</th>\n",
              "      <td>20</td>\n",
              "      <td>Seven Samurai</td>\n",
              "      <td>1954</td>\n",
              "      <td>8.6</td>\n",
              "    </tr>\n",
              "  </tbody>\n",
              "</table>\n",
              "</div>\n",
              "      <button class=\"colab-df-convert\" onclick=\"convertToInteractive('df-b33c57b1-6dae-48a2-95fc-12371683e4ea')\"\n",
              "              title=\"Convert this dataframe to an interactive table.\"\n",
              "              style=\"display:none;\">\n",
              "        \n",
              "  <svg xmlns=\"http://www.w3.org/2000/svg\" height=\"24px\"viewBox=\"0 0 24 24\"\n",
              "       width=\"24px\">\n",
              "    <path d=\"M0 0h24v24H0V0z\" fill=\"none\"/>\n",
              "    <path d=\"M18.56 5.44l.94 2.06.94-2.06 2.06-.94-2.06-.94-.94-2.06-.94 2.06-2.06.94zm-11 1L8.5 8.5l.94-2.06 2.06-.94-2.06-.94L8.5 2.5l-.94 2.06-2.06.94zm10 10l.94 2.06.94-2.06 2.06-.94-2.06-.94-.94-2.06-.94 2.06-2.06.94z\"/><path d=\"M17.41 7.96l-1.37-1.37c-.4-.4-.92-.59-1.43-.59-.52 0-1.04.2-1.43.59L10.3 9.45l-7.72 7.72c-.78.78-.78 2.05 0 2.83L4 21.41c.39.39.9.59 1.41.59.51 0 1.02-.2 1.41-.59l7.78-7.78 2.81-2.81c.8-.78.8-2.07 0-2.86zM5.41 20L4 18.59l7.72-7.72 1.47 1.35L5.41 20z\"/>\n",
              "  </svg>\n",
              "      </button>\n",
              "      \n",
              "  <style>\n",
              "    .colab-df-container {\n",
              "      display:flex;\n",
              "      flex-wrap:wrap;\n",
              "      gap: 12px;\n",
              "    }\n",
              "\n",
              "    .colab-df-convert {\n",
              "      background-color: #E8F0FE;\n",
              "      border: none;\n",
              "      border-radius: 50%;\n",
              "      cursor: pointer;\n",
              "      display: none;\n",
              "      fill: #1967D2;\n",
              "      height: 32px;\n",
              "      padding: 0 0 0 0;\n",
              "      width: 32px;\n",
              "    }\n",
              "\n",
              "    .colab-df-convert:hover {\n",
              "      background-color: #E2EBFA;\n",
              "      box-shadow: 0px 1px 2px rgba(60, 64, 67, 0.3), 0px 1px 3px 1px rgba(60, 64, 67, 0.15);\n",
              "      fill: #174EA6;\n",
              "    }\n",
              "\n",
              "    [theme=dark] .colab-df-convert {\n",
              "      background-color: #3B4455;\n",
              "      fill: #D2E3FC;\n",
              "    }\n",
              "\n",
              "    [theme=dark] .colab-df-convert:hover {\n",
              "      background-color: #434B5C;\n",
              "      box-shadow: 0px 1px 3px 1px rgba(0, 0, 0, 0.15);\n",
              "      filter: drop-shadow(0px 1px 2px rgba(0, 0, 0, 0.3));\n",
              "      fill: #FFFFFF;\n",
              "    }\n",
              "  </style>\n",
              "\n",
              "      <script>\n",
              "        const buttonEl =\n",
              "          document.querySelector('#df-b33c57b1-6dae-48a2-95fc-12371683e4ea button.colab-df-convert');\n",
              "        buttonEl.style.display =\n",
              "          google.colab.kernel.accessAllowed ? 'block' : 'none';\n",
              "\n",
              "        async function convertToInteractive(key) {\n",
              "          const element = document.querySelector('#df-b33c57b1-6dae-48a2-95fc-12371683e4ea');\n",
              "          const dataTable =\n",
              "            await google.colab.kernel.invokeFunction('convertToInteractive',\n",
              "                                                     [key], {});\n",
              "          if (!dataTable) return;\n",
              "\n",
              "          const docLinkHtml = 'Like what you see? Visit the ' +\n",
              "            '<a target=\"_blank\" href=https://colab.research.google.com/notebooks/data_table.ipynb>data table notebook</a>'\n",
              "            + ' to learn more about interactive tables.';\n",
              "          element.innerHTML = '';\n",
              "          dataTable['output_type'] = 'display_data';\n",
              "          await google.colab.output.renderOutput(dataTable, element);\n",
              "          const docLink = document.createElement('div');\n",
              "          docLink.innerHTML = docLinkHtml;\n",
              "          element.appendChild(docLink);\n",
              "        }\n",
              "      </script>\n",
              "    </div>\n",
              "  </div>\n",
              "  "
            ]
          },
          "metadata": {},
          "execution_count": 175
        }
      ]
    },
    {
      "cell_type": "code",
      "source": [
        "#Creación de histograma para representar el número de peliculas por año\n",
        "sns.histplot(data_movies_250[\"Year\"], color='#24bca8')\n",
        "plt.xlabel(\"Year\")\n",
        "plt.ylabel('Count of movies')\n",
        "plt.title('Top 250 Movies - Year')"
      ],
      "metadata": {
        "colab": {
          "base_uri": "https://localhost:8080/",
          "height": 312
        },
        "id": "qcvnGCMDTwI1",
        "outputId": "5d777109-b88f-4f71-d3eb-db1b60d0ed3d"
      },
      "execution_count": 146,
      "outputs": [
        {
          "output_type": "execute_result",
          "data": {
            "text/plain": [
              "Text(0.5, 1.0, 'Top 250 Movies - Year')"
            ]
          },
          "metadata": {},
          "execution_count": 146
        },
        {
          "output_type": "display_data",
          "data": {
            "text/plain": [
              "<Figure size 432x288 with 1 Axes>"
            ],
            "image/png": "[encoded data removed]"
          },
          "metadata": {
            "needs_background": "light"
          }
        }
      ]
    },
    {
      "cell_type": "code",
      "source": [
        "#Distribución de ranking por peliculas\n",
        "sns.histplot(data_movies_250[\"IMBd Ranking\"],bins=10, color='#017a79')\n",
        "plt.xlabel(\"IMBd Ranking\")\n",
        "plt.ylabel('Count')\n",
        "plt.title('Top 250 Movies - Ranking IMDb')"
      ],
      "metadata": {
        "colab": {
          "base_uri": "https://localhost:8080/",
          "height": 312
        },
        "id": "WSzhkBBmUevC",
        "outputId": "f7e1769a-e8e7-4f5a-9027-2671bdff7fb3"
      },
      "execution_count": 153,
      "outputs": [
        {
          "output_type": "execute_result",
          "data": {
            "text/plain": [
              "Text(0.5, 1.0, 'Top 250 Movies - Ranking IMDb')"
            ]
          },
          "metadata": {},
          "execution_count": 153
        },
        {
          "output_type": "display_data",
          "data": {
            "text/plain": [
              "<Figure size 432x288 with 1 Axes>"
            ],
            "image/png": "[encoded data removed]"
          },
          "metadata": {
            "needs_background": "light"
          }
        }
      ]
    },
    {
      "cell_type": "markdown",
      "source": [
        "Del anterior histograma se puede ver que las calificaciones varían entre el 8 a 9.2. La mayor cantidad de peliculas, más de 100, cuentan con una calificación de 8 a 8.1"
      ],
      "metadata": {
        "id": "gIodRM2bV_Fx"
      }
    },
    {
      "cell_type": "code",
      "source": [
        "#Convertir dataFrame a un archivo csv\n",
        "data_movies_250.to_csv(\"data_movies_250.csv\")"
      ],
      "metadata": {
        "id": "fg3grLNX_9Ct"
      },
      "execution_count": 99,
      "outputs": []
    },
    {
      "cell_type": "markdown",
      "source": [
        "**IMDb Top 250 TV - IMDb**   [*](https://www.imdb.com/chart/toptv/?sort=us,desc&mode=simple&page=1)"
      ],
      "metadata": {
        "id": "gQ7lJ2gwWxrl"
      }
    },
    {
      "cell_type": "code",
      "source": [
        "top_series_250 = requests.get('https://www.imdb.com/chart/toptv/?sort=us,desc&mode=simple&page=1')\n",
        "soup_series = BeautifulSoup(top_series_250.text)"
      ],
      "metadata": {
        "id": "noRBFCf2W4xh"
      },
      "execution_count": 154,
      "outputs": []
    },
    {
      "cell_type": "code",
      "source": [
        "print(soup_series.title.text) #Titulo de la pagina Web"
      ],
      "metadata": {
        "colab": {
          "base_uri": "https://localhost:8080/"
        },
        "id": "0PKLXbp5XF8A",
        "outputId": "24ab6c64-b38b-4b07-af31-341064a46605"
      },
      "execution_count": 155,
      "outputs": [
        {
          "output_type": "stream",
          "name": "stdout",
          "text": [
            "IMDb Top 250 TV - IMDb\n"
          ]
        }
      ]
    },
    {
      "cell_type": "code",
      "source": [
        "rows_series=soup_series.find_all('tr') #Filas de la página\n",
        "print(len(rows_series))  #250 filas correspondientes al nombre de las columnas y las 250 series enlistadas"
      ],
      "metadata": {
        "colab": {
          "base_uri": "https://localhost:8080/"
        },
        "id": "-YWr4cZfXd0a",
        "outputId": "a8e01a4f-6c95-434b-b44f-1b8785a2e41f"
      },
      "execution_count": 157,
      "outputs": [
        {
          "output_type": "stream",
          "name": "stdout",
          "text": [
            "251\n"
          ]
        }
      ]
    },
    {
      "cell_type": "code",
      "source": [
        "rows_series[0] #La primera fila de la página tiene el nombre de las columnas"
      ],
      "metadata": {
        "colab": {
          "base_uri": "https://localhost:8080/"
        },
        "id": "Gu08OCOgZNl2",
        "outputId": "aa545f22-64bb-4f27-b84e-e5870be3183b"
      },
      "execution_count": 158,
      "outputs": [
        {
          "output_type": "execute_result",
          "data": {
            "text/plain": [
              "<tr>\n",
              "<th></th>\n",
              "<th>Rank &amp; Title</th>\n",
              "<th>IMDb Rating</th>\n",
              "<th>Your Rating</th>\n",
              "<th></th>\n",
              "</tr>"
            ]
          },
          "metadata": {},
          "execution_count": 158
        }
      ]
    },
    {
      "cell_type": "code",
      "source": [
        "rows_series=soup_series.find_all('tr') #Filas de la página\n",
        "series_tv =[]  #Arreglo a partir del cual se crea el dataFrame\n",
        "\n",
        "for i in range(1,len(rows_series)):    #No se toma en cuenta la primera fila\n",
        "\n",
        "  serie=[] #Lista que representa las filas del arreglo data. En ella se encuentra la información de las peliculas.\n",
        "\n",
        "  #Ranking\n",
        "  rank_tv=rows_series[i].find_all('td')  \n",
        "  r_tv=rank_tv[1].text  #Texto donde está el ranking \n",
        "  ran=r_tv.replace(\"\\n\",\"\").split(\"  \") #Quitar texto extra y separación del str en un listado\n",
        "  ranking=ran[3].replace(\".\",\"\") #Obtención del ranking en formato de texto\n",
        "  ranking=int(ranking)  #Convertir str a int\n",
        "  serie.append(ranking) #Agregar rank de la pelicula\n",
        "\n",
        "  #TV (Titulo)\n",
        "  name_tv= rows_series[i].find_all('a')\n",
        "  tv=name_tv[1].text \n",
        "  serie.append(tv) #Agregar nombre de la pelicula\n",
        "\n",
        "  #Year (Año está entre parentesis)\n",
        "  span_year= rows_series[i].find_all('span')\n",
        "  year=span_year[5].text\n",
        "  year=((year.split(\"(\")[1]).split(\")\")[0]) #Dividir texto del año entre los parentesis, tomar solo la posición con el año\n",
        "  serie.append(int(year))  #Convertir str a int, agregar a lista datos\n",
        "  \n",
        "  #Raking IMBd\n",
        "  rank_imbd=rows_series[i].find('strong')\n",
        "  if not rank_imbd:  #Criterio para las peliculas que no tengan score\n",
        "    serie.append(\"\") #Se pone celda vacia\n",
        "  else:\n",
        "    ran=rank_imbd.text  #Ranking otorgado por la IMBd\n",
        "    serie.append(float(ran))  #Convertir str a float para agregarlo a la lista datos\n",
        "  \n",
        "  series_tv.append(serie) #Incluir fila a arreglo\n",
        "  \n",
        "\n",
        "print(series_tv)  #Arreglo creado"
      ],
      "metadata": {
        "colab": {
          "base_uri": "https://localhost:8080/"
        },
        "id": "8tIQPT3rYoNI",
        "outputId": "4a420e8d-4d94-462e-b3e8-aacfa7b19131"
      },
      "execution_count": 183,
      "outputs": [
        {
          "output_type": "stream",
          "name": "stdout",
          "text": [
            "[[181, 'The Offer', 2022, 8.5], [132, 'Heartstopper', 2022, 8.6], [225, 'SPY×FAMILY', 2022, 8.4], [106, 'Severance', 2022, 8.6], [246, 'Rocket Boys', 2022, 8.4], [112, '1883', 2021, 8.6], [36, 'The Beatles: Get Back', 2021, 8.9], [24, 'Arcane', 2021, 8.9], [151, 'Dopesick', 2021, 8.5], [41, \"Clarkson's Farm\", 2021, 8.9], [242, 'Mare of Easttown', 2021, 8.4], [125, 'Aspirants', 2021, 8.6], [95, 'Invincible', 2021, 8.6], [134, \"It's a Sin\", 2021, 8.6], [84, 'As If', 2021, 8.7], [160, \"The Queen's Gambit\", 2020, 8.5], [23, 'Scam 1992: The Harshad Mehta Story', 2020, 9.0], [198, 'Jujutsu Kaisen', 2020, 8.5], [75, 'Ted Lasso', 2020, 8.7], [17, 'The Last Dance', 2020, 9.0], [108, 'Panchayat', 2020, 8.6], [171, 'Crash Landing on You', 2019, 8.5], [82, 'The Mandalorian', 2019, 8.7], [144, 'Primal', 2019, 8.5], [183, 'The Family Man', 2019, 8.5], [87, 'The Boys', 2019, 8.7], [97, 'Vinland Saga', 2019, 8.6], [102, 'Gullak', 2019, 8.6], [47, 'When They See Us', 2019, 8.8], [5, 'Chernobyl', 2019, 9.3], [80, 'Kota Factory', 2019, 8.7], [127, 'Demon Slayer: Kimetsu no Yaiba', 2019, 8.6], [12, 'Our Planet', 2019, 9.2], [180, 'What We Do in the Shadows', 2019, 8.5], [162, 'Formula 1: Drive to Survive', 2019, 8.5], [157, 'The Haunting of Hill House', 2018, 8.5], [230, 'Mr Inbetween', 2018, 8.4], [233, 'My Brilliant Friend', 2018, 8.4], [154, 'Yeh Meri Family', 2018, 8.5], [143, 'Yellowstone', 2018, 8.5], [191, 'Pose', 2018, 8.5], [195, 'Cobra Kai', 2018, 8.5], [68, 'Succession', 2018, 8.7], [38, 'Persona', 2018, 8.9], [238, 'The Punisher', 2017, 8.4], [7, 'Blue Planet II', 2017, 9.2], [141, 'Mindhunter', 2017, 8.5], [21, 'The Vietnam War', 2017, 9.0], [81, 'Dark', 2017, 8.7], [189, 'Black Sun', 2017, 8.5], [249, 'Ozark', 2017, 8.4], [239, 'The Defiant Ones', 2017, 8.4], [152, 'Anne with an E', 2017, 8.5], [101, 'The Marvelous Mrs. Maisel', 2017, 8.6], [215, 'Twin Peaks', 2017, 8.5], [229, 'Big Little Lies', 2017, 8.4], [111, 'The Grand Tour', 2016, 8.6], [1, 'Planet Earth II', 2016, 9.4], [174, 'Westworld', 2016, 8.5], [124, 'This Is Us', 2016, 8.6], [131, 'Atlanta', 2016, 8.6], [93, 'Fleabag', 2016, 8.6], [214, 'Mob Psycho 100', 2016, 8.5], [90, 'Stranger Things', 2016, 8.7], [224, 'The Night Of', 2016, 8.4], [193, 'Letterkenny', 2016, 8.5], [100, 'The Crown', 2016, 8.6], [245, 'Erased', 2016, 8.4], [150, 'Making a Murderer', 2015, 8.5], [243, 'Content Cop', 2015, 8.4], [86, 'One Punch Man', 2015, 8.7], [201, 'Skam', 2015, 8.5], [220, 'The Expanse', 2015, 8.4], [65, 'Narcos', 2015, 8.7], [54, 'Taskmaster', 2015, 8.8], [52, 'TVF Pitchers', 2015, 8.8], [178, 'The Bureau', 2015, 8.5], [128, 'Daredevil', 2015, 8.6], [186, 'Mr. Robot', 2015, 8.5], [223, \"Chef's Table\", 2015, 8.4], [43, 'Better Call Saul', 2015, 8.8], [120, 'The Jinx: The Life and Deaths of Robert Durst', 2015, 8.6], [221, \"Schitt's Creek\", 2015, 8.4], [219, 'Umbre', 2014, 8.4], [79, 'Over the Garden Wall', 2014, 8.7], [232, 'Your Lie in April', 2014, 8.4], [66, 'BoJack Horseman', 2014, 8.7], [231, 'The Knick', 2014, 8.4], [142, 'Gomorrah', 2014, 8.5], [49, 'Last Week Tonight with John Oliver', 2014, 8.8], [39, 'Fargo', 2014, 8.9], [205, 'Silicon Valley', 2014, 8.5], [146, 'Haikyu!!', 2014, 8.5], [9, 'Cosmos: A Spacetime Odyssey', 2014, 9.2], [212, 'Detectorists', 2014, 8.5], [33, 'True Detective', 2014, 8.9], [14, 'Rick and Morty', 2013, 9.1], [74, 'Peaky Blinders', 2013, 8.7], [235, 'Wentworth', 2013, 8.4], [26, 'Attack on Titan', 2013, 8.9], [217, 'Hannibal', 2013, 8.5], [44, 'Nathan for You', 2013, 8.8], [98, 'House of Cards', 2013, 8.6], [48, 'Africa', 2013, 8.8], [114, 'Line of Duty', 2012, 8.6], [164, 'The Newsroom', 2012, 8.5], [45, 'Gravity Falls', 2012, 8.8], [163, 'The Eric Andre Show', 2012, 8.5], [210, 'Endeavour', 2012, 8.5], [167, 'Impractical Jokers', 2011, 8.5], [64, 'Black Mirror', 2011, 8.7], [30, 'Frozen Planet', 2011, 8.9], [34, 'Hunter x Hunter', 2011, 8.9], [126, 'The Bridge', 2011, 8.6], [13, 'Game of Thrones', 2011, 9.1], [85, 'Steins;Gate', 2011, 8.7], [62, 'Leyla and Mecnun', 2011, 8.7], [204, 'Spartacus: Gods of the Arena', 2011, 8.5], [29, 'Human Planet', 2011, 8.9], [194, 'Shameless', 2011, 8.5], [139, 'Young Justice', 2010, 8.6], [94, 'Downton Abbey', 2010, 8.6], [133, 'Behzat Ç.: Bir Ankara Polisiyesi', 2010, 8.6], [156, 'Boardwalk Empire', 2010, 8.5], [19, 'Sherlock', 2010, 9.0], [185, 'Louie', 2010, 8.5], [192, 'Through the Wormhole', 2010, 8.5], [145, 'Adventure Time', 2010, 8.5], [155, 'Justified', 2010, 8.5], [196, 'Spartacus', 2010, 8.5], [18, 'Life', 2009, 9.0], [208, 'Ezel', 2009, 8.5], [130, 'Archer', 2009, 8.6], [218, 'Community', 2009, 8.4], [50, 'Apocalypse: The Second World War', 2009, 8.8], [228, 'Regular Show', 2009, 8.4], [119, 'Parks and Recreation', 2009, 8.6], [241, 'Southland', 2009, 8.4], [16, 'Fullmetal Alchemist: Brotherhood', 2009, 9.1], [248, 'Clannad: After Story', 2008, 8.4], [200, 'Sons of Anarchy', 2008, 8.5], [222, 'Generation Kill', 2008, 8.4], [234, 'John Adams', 2008, 8.4], [2, 'Breaking Bad', 2008, 9.4], [96, 'Mad Men', 2007, 8.6], [165, 'Flight of the Conchords', 2007, 8.5], [123, 'Naruto: Shippûden', 2007, 8.6], [129, 'Code Geass', 2006, 8.6], [31, 'Death Note', 2006, 8.9], [104, 'Friday Night Lights', 2006, 8.6], [117, 'Dexter', 2006, 8.6], [3, 'Planet Earth', 2006, 9.4], [179, 'The IT Crowd', 2006, 8.5], [247, 'Gintama', 2005, 8.4], [73, 'Rome', 2005, 8.7], [53, \"It's Always Sunny in Philadelphia\", 2005, 8.8], [113, 'The Thick of It', 2005, 8.6], [213, 'Doctor Who', 2005, 8.5], [27, 'The Office', 2005, 8.9], [8, 'Avatar: The Last Airbender', 2005, 9.2], [89, 'House M.D.', 2004, 8.7], [202, 'North & South', 2004, 8.5], [103, 'Sarabhai V/S Sarabhai', 2004, 8.6], [92, 'Battlestar Galactica', 2004, 8.6], [177, 'Long Way Round', 2004, 8.5], [115, 'Justice League Unlimited', 2004, 8.6], [226, 'The Angry Video Game Nerd', 2004, 8.4], [184, 'Samurai Champloo', 2004, 8.5], [148, 'Monster', 2004, 8.5], [116, 'Deadwood', 2004, 8.6], [240, 'Avrupa Yakasi', 2004, 8.4], [244, \"Garth Marenghi's Darkplace\", 2004, 8.4], [173, 'Battlestar Galactica', 2003, 8.5], [83, 'Arrested Development', 2003, 8.7], [199, 'Fullmetal Alchemist', 2003, 8.5], [105, 'Peep Show', 2003, 8.6], [147, 'QI', 2003, 8.5], [176, 'The Venture Bros.', 2003, 8.5], [67, \"Chappelle's Show\", 2003, 8.7], [109, 'Top Gear', 2002, 8.6], [28, 'Firefly', 2002, 8.9], [6, 'The Wire', 2002, 9.3], [91, 'The Shield', 2002, 8.7], [168, 'Justice League', 2001, 8.5], [25, 'The Blue Planet', 2001, 8.9], [4, 'Band of Brothers', 2001, 9.4], [197, 'Samurai Jack', 2001, 8.5], [182, 'The Office', 2001, 8.5], [77, 'Six Feet Under', 2001, 8.7], [207, 'Trailer Park Boys', 2001, 8.5], [56, 'Curb Your Enthusiasm', 2000, 8.8], [236, 'Black Books', 2000, 8.4], [170, 'Coupling', 2000, 8.5], [78, 'One Piece', 1999, 8.7], [60, 'Freaks and Geeks', 1999, 8.8], [169, 'Spaced', 1999, 8.5], [59, 'The West Wing', 1999, 8.8], [211, 'Futurama', 1999, 8.5], [216, 'Rurouni Kenshin: Trust and Betrayal', 1999, 8.5], [10, 'The Sopranos', 1999, 9.2], [190, 'Whose Line Is It Anyway?', 1998, 8.5], [209, 'From the Earth to the Moon', 1998, 8.5], [42, 'Cowboy Bebop', 1998, 8.9], [187, \"I'm Alan Partridge\", 1997, 8.5], [110, 'Berserk', 1997, 8.6], [72, 'South Park', 1997, 8.7], [76, 'Oz', 1997, 8.7], [203, 'Brass Eye', 1997, 8.5], [206, 'Neon Genesis Evangelion', 1995, 8.5], [57, 'Pride and Prejudice', 1995, 8.8], [172, 'Dragon Ball', 1995, 8.5], [121, 'Father Ted', 1995, 8.6], [46, 'Friends', 1994, 8.8], [118, 'The X-Files', 1993, 8.6], [175, 'Homicide: Life on the Street', 1993, 8.5], [237, 'X-Men: The Animated Series', 1992, 8.4], [22, 'Batman: The Animated Series', 1992, 9.0], [35, 'The Civil War', 1990, 8.9], [149, 'Mr. Bean', 1990, 8.5], [69, 'Dragon Ball Z', 1989, 8.7], [88, 'The Simpsons', 1989, 8.7], [61, 'Blackadder Goes Forth', 1989, 8.7], [63, 'Twin Peaks', 1990, 8.7], [40, 'Dekalog', 1989, 8.9], [37, 'Seinfeld', 1989, 8.9], [70, 'Dragon Ball Z', 1989, 8.7], [138, 'Lonesome Dove', 1989, 8.6], [153, 'Poirot', 1989, 8.5], [135, 'Mahabharat', 1988, 8.6], [137, 'Mystery Science Theater 3000', 1988, 8.6], [99, 'Star Trek: The Next Generation', 1987, 8.6], [136, 'Blackadder the Third', 1987, 8.6], [161, 'Ramayan', 1987, 8.5], [140, 'The Return of Sherlock Holmes', 1986, 8.5], [166, 'Dragon Ball', 1986, 8.5], [122, 'Blackadder II', 1986, 8.6], [188, 'Yes, Prime Minister', 1986, 8.5], [55, 'Das Boot', 1985, 8.8], [107, 'The Adventures of Sherlock Holmes', 1984, 8.6], [32, 'Only Fools and Horses', 1981, 8.9], [11, 'Cosmos', 1980, 9.2], [158, 'Yes Minister', 1980, 8.5], [71, 'I, Claudius', 1976, 8.7], [58, 'Fawlty Towers', 1975, 8.8], [15, 'The World at War', 1973, 9.1], [51, \"Monty Python's Flying Circus\", 1969, 8.8], [159, 'The Bugs Bunny Show', 1960, 8.5], [20, 'The Twilight Zone', 1959, 9.0], [227, 'Alfred Hitchcock Presents', 1955, 8.4], [250, 'I Love Lucy', 1951, 8.4]]\n"
          ]
        }
      ]
    },
    {
      "cell_type": "code",
      "source": [
        "data_tvs=pd.DataFrame(series_tv) #Convetir arreglo a dataFrame\n",
        "data_tvs.columns=['Ranking','TV','Year','IMBd Ranking'] #Cambiar nombre de las columnas\n",
        "data_tvs.sort_values(['Ranking']).head(20) #Visualización de las primeras mejores 20 peliculas, basandonos en el ranking"
      ],
      "metadata": {
        "colab": {
          "base_uri": "https://localhost:8080/",
          "height": 676
        },
        "id": "GkcE33TEiPKs",
        "outputId": "20a0a137-10dc-40e2-d0f7-a4f2377c79cb"
      },
      "execution_count": 184,
      "outputs": [
        {
          "output_type": "execute_result",
          "data": {
            "text/plain": [
              "     Ranking                                TV  Year  IMBd Ranking\n",
              "57         1                   Planet Earth II  2016           9.4\n",
              "143        2                      Breaking Bad  2008           9.4\n",
              "151        3                      Planet Earth  2006           9.4\n",
              "185        4                  Band of Brothers  2001           9.4\n",
              "29         5                         Chernobyl  2019           9.3\n",
              "181        6                          The Wire  2002           9.3\n",
              "45         7                    Blue Planet II  2017           9.2\n",
              "159        8        Avatar: The Last Airbender  2005           9.2\n",
              "93         9       Cosmos: A Spacetime Odyssey  2014           9.2\n",
              "199       10                      The Sopranos  1999           9.2\n",
              "240       11                            Cosmos  1980           9.2\n",
              "32        12                        Our Planet  2019           9.2\n",
              "114       13                   Game of Thrones  2011           9.1\n",
              "96        14                    Rick and Morty  2013           9.1\n",
              "244       15                  The World at War  1973           9.1\n",
              "138       16  Fullmetal Alchemist: Brotherhood  2009           9.1\n",
              "19        17                    The Last Dance  2020           9.0\n",
              "130       18                              Life  2009           9.0\n",
              "124       19                          Sherlock  2010           9.0\n",
              "247       20                 The Twilight Zone  1959           9.0"
            ],
            "text/html": [
              "\n",
              "  <div id=\"df-6fd0abf8-ce08-4d73-9b69-b6c5ffd3af99\">\n",
              "    <div class=\"colab-df-container\">\n",
              "      <div>\n",
              "<style scoped>\n",
              "    .dataframe tbody tr th:only-of-type {\n",
              "        vertical-align: middle;\n",
              "    }\n",
              "\n",
              "    .dataframe tbody tr th {\n",
              "        vertical-align: top;\n",
              "    }\n",
              "\n",
              "    .dataframe thead th {\n",
              "        text-align: right;\n",
              "    }\n",
              "</style>\n",
              "<table border=\"1\" class=\"dataframe\">\n",
              "  <thead>\n",
              "    <tr style=\"text-align: right;\">\n",
              "      <th></th>\n",
              "      <th>Ranking</th>\n",
              "      <th>TV</th>\n",
              "      <th>Year</th>\n",
              "      <th>IMBd Ranking</th>\n",
              "    </tr>\n",
              "  </thead>\n",
              "  <tbody>\n",
              "    <tr>\n",
              "      <th>57</th>\n",
              "      <td>1</td>\n",
              "      <td>Planet Earth II</td>\n",
              "      <td>2016</td>\n",
              "      <td>9.4</td>\n",
              "    </tr>\n",
              "    <tr>\n",
              "      <th>143</th>\n",
              "      <td>2</td>\n",
              "      <td>Breaking Bad</td>\n",
              "      <td>2008</td>\n",
              "      <td>9.4</td>\n",
              "    </tr>\n",
              "    <tr>\n",
              "      <th>151</th>\n",
              "      <td>3</td>\n",
              "      <td>Planet Earth</td>\n",
              "      <td>2006</td>\n",
              "      <td>9.4</td>\n",
              "    </tr>\n",
              "    <tr>\n",
              "      <th>185</th>\n",
              "      <td>4</td>\n",
              "      <td>Band of Brothers</td>\n",
              "      <td>2001</td>\n",
              "      <td>9.4</td>\n",
              "    </tr>\n",
              "    <tr>\n",
              "      <th>29</th>\n",
              "      <td>5</td>\n",
              "      <td>Chernobyl</td>\n",
              "      <td>2019</td>\n",
              "      <td>9.3</td>\n",
              "    </tr>\n",
              "    <tr>\n",
              "      <th>181</th>\n",
              "      <td>6</td>\n",
              "      <td>The Wire</td>\n",
              "      <td>2002</td>\n",
              "      <td>9.3</td>\n",
              "    </tr>\n",
              "    <tr>\n",
              "      <th>45</th>\n",
              "      <td>7</td>\n",
              "      <td>Blue Planet II</td>\n",
              "      <td>2017</td>\n",
              "      <td>9.2</td>\n",
              "    </tr>\n",
              "    <tr>\n",
              "      <th>159</th>\n",
              "      <td>8</td>\n",
              "      <td>Avatar: The Last Airbender</td>\n",
              "      <td>2005</td>\n",
              "      <td>9.2</td>\n",
              "    </tr>\n",
              "    <tr>\n",
              "      <th>93</th>\n",
              "      <td>9</td>\n",
              "      <td>Cosmos: A Spacetime Odyssey</td>\n",
              "      <td>2014</td>\n",
              "      <td>9.2</td>\n",
              "    </tr>\n",
              "    <tr>\n",
              "      <th>199</th>\n",
              "      <td>10</td>\n",
              "      <td>The Sopranos</td>\n",
              "      <td>1999</td>\n",
              "      <td>9.2</td>\n",
              "    </tr>\n",
              "    <tr>\n",
              "      <th>240</th>\n",
              "      <td>11</td>\n",
              "      <td>Cosmos</td>\n",
              "      <td>1980</td>\n",
              "      <td>9.2</td>\n",
              "    </tr>\n",
              "    <tr>\n",
              "      <th>32</th>\n",
              "      <td>12</td>\n",
              "      <td>Our Planet</td>\n",
              "      <td>2019</td>\n",
              "      <td>9.2</td>\n",
              "    </tr>\n",
              "    <tr>\n",
              "      <th>114</th>\n",
              "      <td>13</td>\n",
              "      <td>Game of Thrones</td>\n",
              "      <td>2011</td>\n",
              "      <td>9.1</td>\n",
              "    </tr>\n",
              "    <tr>\n",
              "      <th>96</th>\n",
              "      <td>14</td>\n",
              "      <td>Rick and Morty</td>\n",
              "      <td>2013</td>\n",
              "      <td>9.1</td>\n",
              "    </tr>\n",
              "    <tr>\n",
              "      <th>244</th>\n",
              "      <td>15</td>\n",
              "      <td>The World at War</td>\n",
              "      <td>1973</td>\n",
              "      <td>9.1</td>\n",
              "    </tr>\n",
              "    <tr>\n",
              "      <th>138</th>\n",
              "      <td>16</td>\n",
              "      <td>Fullmetal Alchemist: Brotherhood</td>\n",
              "      <td>2009</td>\n",
              "      <td>9.1</td>\n",
              "    </tr>\n",
              "    <tr>\n",
              "      <th>19</th>\n",
              "      <td>17</td>\n",
              "      <td>The Last Dance</td>\n",
              "      <td>2020</td>\n",
              "      <td>9.0</td>\n",
              "    </tr>\n",
              "    <tr>\n",
              "      <th>130</th>\n",
              "      <td>18</td>\n",
              "      <td>Life</td>\n",
              "      <td>2009</td>\n",
              "      <td>9.0</td>\n",
              "    </tr>\n",
              "    <tr>\n",
              "      <th>124</th>\n",
              "      <td>19</td>\n",
              "      <td>Sherlock</td>\n",
              "      <td>2010</td>\n",
              "      <td>9.0</td>\n",
              "    </tr>\n",
              "    <tr>\n",
              "      <th>247</th>\n",
              "      <td>20</td>\n",
              "      <td>The Twilight Zone</td>\n",
              "      <td>1959</td>\n",
              "      <td>9.0</td>\n",
              "    </tr>\n",
              "  </tbody>\n",
              "</table>\n",
              "</div>\n",
              "      <button class=\"colab-df-convert\" onclick=\"convertToInteractive('df-6fd0abf8-ce08-4d73-9b69-b6c5ffd3af99')\"\n",
              "              title=\"Convert this dataframe to an interactive table.\"\n",
              "              style=\"display:none;\">\n",
              "        \n",
              "  <svg xmlns=\"http://www.w3.org/2000/svg\" height=\"24px\"viewBox=\"0 0 24 24\"\n",
              "       width=\"24px\">\n",
              "    <path d=\"M0 0h24v24H0V0z\" fill=\"none\"/>\n",
              "    <path d=\"M18.56 5.44l.94 2.06.94-2.06 2.06-.94-2.06-.94-.94-2.06-.94 2.06-2.06.94zm-11 1L8.5 8.5l.94-2.06 2.06-.94-2.06-.94L8.5 2.5l-.94 2.06-2.06.94zm10 10l.94 2.06.94-2.06 2.06-.94-2.06-.94-.94-2.06-.94 2.06-2.06.94z\"/><path d=\"M17.41 7.96l-1.37-1.37c-.4-.4-.92-.59-1.43-.59-.52 0-1.04.2-1.43.59L10.3 9.45l-7.72 7.72c-.78.78-.78 2.05 0 2.83L4 21.41c.39.39.9.59 1.41.59.51 0 1.02-.2 1.41-.59l7.78-7.78 2.81-2.81c.8-.78.8-2.07 0-2.86zM5.41 20L4 18.59l7.72-7.72 1.47 1.35L5.41 20z\"/>\n",
              "  </svg>\n",
              "      </button>\n",
              "      \n",
              "  <style>\n",
              "    .colab-df-container {\n",
              "      display:flex;\n",
              "      flex-wrap:wrap;\n",
              "      gap: 12px;\n",
              "    }\n",
              "\n",
              "    .colab-df-convert {\n",
              "      background-color: #E8F0FE;\n",
              "      border: none;\n",
              "      border-radius: 50%;\n",
              "      cursor: pointer;\n",
              "      display: none;\n",
              "      fill: #1967D2;\n",
              "      height: 32px;\n",
              "      padding: 0 0 0 0;\n",
              "      width: 32px;\n",
              "    }\n",
              "\n",
              "    .colab-df-convert:hover {\n",
              "      background-color: #E2EBFA;\n",
              "      box-shadow: 0px 1px 2px rgba(60, 64, 67, 0.3), 0px 1px 3px 1px rgba(60, 64, 67, 0.15);\n",
              "      fill: #174EA6;\n",
              "    }\n",
              "\n",
              "    [theme=dark] .colab-df-convert {\n",
              "      background-color: #3B4455;\n",
              "      fill: #D2E3FC;\n",
              "    }\n",
              "\n",
              "    [theme=dark] .colab-df-convert:hover {\n",
              "      background-color: #434B5C;\n",
              "      box-shadow: 0px 1px 3px 1px rgba(0, 0, 0, 0.15);\n",
              "      filter: drop-shadow(0px 1px 2px rgba(0, 0, 0, 0.3));\n",
              "      fill: #FFFFFF;\n",
              "    }\n",
              "  </style>\n",
              "\n",
              "      <script>\n",
              "        const buttonEl =\n",
              "          document.querySelector('#df-6fd0abf8-ce08-4d73-9b69-b6c5ffd3af99 button.colab-df-convert');\n",
              "        buttonEl.style.display =\n",
              "          google.colab.kernel.accessAllowed ? 'block' : 'none';\n",
              "\n",
              "        async function convertToInteractive(key) {\n",
              "          const element = document.querySelector('#df-6fd0abf8-ce08-4d73-9b69-b6c5ffd3af99');\n",
              "          const dataTable =\n",
              "            await google.colab.kernel.invokeFunction('convertToInteractive',\n",
              "                                                     [key], {});\n",
              "          if (!dataTable) return;\n",
              "\n",
              "          const docLinkHtml = 'Like what you see? Visit the ' +\n",
              "            '<a target=\"_blank\" href=https://colab.research.google.com/notebooks/data_table.ipynb>data table notebook</a>'\n",
              "            + ' to learn more about interactive tables.';\n",
              "          element.innerHTML = '';\n",
              "          dataTable['output_type'] = 'display_data';\n",
              "          await google.colab.output.renderOutput(dataTable, element);\n",
              "          const docLink = document.createElement('div');\n",
              "          docLink.innerHTML = docLinkHtml;\n",
              "          element.appendChild(docLink);\n",
              "        }\n",
              "      </script>\n",
              "    </div>\n",
              "  </div>\n",
              "  "
            ]
          },
          "metadata": {},
          "execution_count": 184
        }
      ]
    },
    {
      "cell_type": "code",
      "source": [
        "#Creación de histograma para representar el número de peliculas por año\n",
        "sns.histplot(data_tvs[\"Year\"], color='#fedf08', bins=8)\n",
        "plt.xlabel(\"Year\")\n",
        "plt.ylabel('Count of TVs')\n",
        "plt.title('IMDb Top 250 TV - Year')"
      ],
      "metadata": {
        "colab": {
          "base_uri": "https://localhost:8080/",
          "height": 312
        },
        "id": "WBGlC5emjCCf",
        "outputId": "f6aad718-d6ab-461b-b370-eb730aeb7243"
      },
      "execution_count": 194,
      "outputs": [
        {
          "output_type": "execute_result",
          "data": {
            "text/plain": [
              "Text(0.5, 1.0, 'IMDb Top 250 TV - Year')"
            ]
          },
          "metadata": {},
          "execution_count": 194
        },
        {
          "output_type": "display_data",
          "data": {
            "text/plain": [
              "<Figure size 432x288 with 1 Axes>"
            ],
            "image/png": "[encoded data removed]"
          },
          "metadata": {
            "needs_background": "light"
          }
        }
      ]
    },
    {
      "cell_type": "code",
      "source": [
        "#Distribución de ranking por peliculas\n",
        "sns.histplot(data_tvs[\"IMBd Ranking\"],bins=10, color='#f5bf03')\n",
        "plt.xlabel(\"IMBd Ranking\")\n",
        "plt.ylabel('Count')\n",
        "plt.title('IMDb Top 250 TV - Ranking IMDb')"
      ],
      "metadata": {
        "colab": {
          "base_uri": "https://localhost:8080/",
          "height": 312
        },
        "id": "wE55hl6bjJfE",
        "outputId": "ef15f6ed-9d78-49fc-8007-1226c2e2f9ad"
      },
      "execution_count": 198,
      "outputs": [
        {
          "output_type": "execute_result",
          "data": {
            "text/plain": [
              "Text(0.5, 1.0, 'IMDb Top 250 TV - Ranking IMDb')"
            ]
          },
          "metadata": {},
          "execution_count": 198
        },
        {
          "output_type": "display_data",
          "data": {
            "text/plain": [
              "<Figure size 432x288 with 1 Axes>"
            ],
            "image/png": "[encoded data removed]"
          },
          "metadata": {
            "needs_background": "light"
          }
        }
      ]
    },
    {
      "cell_type": "markdown",
      "source": [
        "El ranking de peliculas varía del 8.4 a 9.4, la myor cantidad de tvs cuentan con una califiación de 8.4 a 8.7"
      ],
      "metadata": {
        "id": "qkbKO-hNk0ZM"
      }
    }
  ]
}