{
  "cells": [
    {
      "cell_type": "markdown",
      "metadata": {
        "id": "kb6EQ22sRMgO"
      },
      "source": [
        "# Ex2 - Getting and Knowing your Data"
      ]
    },
    {
      "cell_type": "markdown",
      "metadata": {
        "id": "6aIoP9XGRMgZ"
      },
      "source": [
        "This time we are going to pull data directly from the internet.\n",
        "Special thanks to: https://github.com/justmarkham for sharing the dataset and materials.\n",
        "\n",
        "### Step 1. Import the necessary libraries"
      ]
    },
    {
      "cell_type": "code",
      "execution_count": 132,
      "metadata": {
        "id": "clA4fzclRMga"
      },
      "outputs": [],
      "source": [
        "import pandas as pd\n",
        "import numpy as np"
      ]
    },
    {
      "cell_type": "markdown",
      "metadata": {
        "id": "A20aU74zRMgd"
      },
      "source": [
        "### Step 2. Import the dataset from this [address](https://raw.githubusercontent.com/justmarkham/DAT8/master/data/chipotle.tsv). "
      ]
    },
    {
      "cell_type": "markdown",
      "metadata": {
        "id": "5QHyfNdDRMgf"
      },
      "source": [
        "### Step 3. Assign it to a variable called chipo."
      ]
    },
    {
      "cell_type": "code",
      "execution_count": 133,
      "metadata": {
        "id": "A0VdRNKeRMgg"
      },
      "outputs": [],
      "source": [
        "chipo=pd.read_csv('https://raw.githubusercontent.com/justmarkham/DAT8/master/data/chipotle.tsv',sep='\\t')"
      ]
    },
    {
      "cell_type": "markdown",
      "metadata": {
        "id": "vw32_IaZRMgh"
      },
      "source": [
        "### Step 4. See the first 10 entries"
      ]
    },
    {
      "cell_type": "code",
      "execution_count": 134,
      "metadata": {
        "colab": {
          "base_uri": "https://localhost:8080/",
          "height": 363
        },
        "id": "9cyFd4hVRMgj",
        "outputId": "a36ef5ec-d9d4-4ae9-e895-ceb4ab0af5b0",
        "scrolled": false
      },
      "outputs": [
        {
          "data": {
            "text/html": [
              "<div>\n",
              "<style scoped>\n",
              "    .dataframe tbody tr th:only-of-type {\n",
              "        vertical-align: middle;\n",
              "    }\n",
              "\n",
              "    .dataframe tbody tr th {\n",
              "        vertical-align: top;\n",
              "    }\n",
              "\n",
              "    .dataframe thead th {\n",
              "        text-align: right;\n",
              "    }\n",
              "</style>\n",
              "<table border=\"1\" class=\"dataframe\">\n",
              "  <thead>\n",
              "    <tr style=\"text-align: right;\">\n",
              "      <th></th>\n",
              "      <th>order_id</th>\n",
              "      <th>quantity</th>\n",
              "      <th>item_name</th>\n",
              "      <th>choice_description</th>\n",
              "      <th>item_price</th>\n",
              "    </tr>\n",
              "  </thead>\n",
              "  <tbody>\n",
              "    <tr>\n",
              "      <th>0</th>\n",
              "      <td>1</td>\n",
              "      <td>1</td>\n",
              "      <td>Chips and Fresh Tomato Salsa</td>\n",
              "      <td>NaN</td>\n",
              "      <td>$2.39</td>\n",
              "    </tr>\n",
              "    <tr>\n",
              "      <th>1</th>\n",
              "      <td>1</td>\n",
              "      <td>1</td>\n",
              "      <td>Izze</td>\n",
              "      <td>[Clementine]</td>\n",
              "      <td>$3.39</td>\n",
              "    </tr>\n",
              "    <tr>\n",
              "      <th>2</th>\n",
              "      <td>1</td>\n",
              "      <td>1</td>\n",
              "      <td>Nantucket Nectar</td>\n",
              "      <td>[Apple]</td>\n",
              "      <td>$3.39</td>\n",
              "    </tr>\n",
              "    <tr>\n",
              "      <th>3</th>\n",
              "      <td>1</td>\n",
              "      <td>1</td>\n",
              "      <td>Chips and Tomatillo-Green Chili Salsa</td>\n",
              "      <td>NaN</td>\n",
              "      <td>$2.39</td>\n",
              "    </tr>\n",
              "    <tr>\n",
              "      <th>4</th>\n",
              "      <td>2</td>\n",
              "      <td>2</td>\n",
              "      <td>Chicken Bowl</td>\n",
              "      <td>[Tomatillo-Red Chili Salsa (Hot), [Black Beans...</td>\n",
              "      <td>$16.98</td>\n",
              "    </tr>\n",
              "    <tr>\n",
              "      <th>5</th>\n",
              "      <td>3</td>\n",
              "      <td>1</td>\n",
              "      <td>Chicken Bowl</td>\n",
              "      <td>[Fresh Tomato Salsa (Mild), [Rice, Cheese, Sou...</td>\n",
              "      <td>$10.98</td>\n",
              "    </tr>\n",
              "    <tr>\n",
              "      <th>6</th>\n",
              "      <td>3</td>\n",
              "      <td>1</td>\n",
              "      <td>Side of Chips</td>\n",
              "      <td>NaN</td>\n",
              "      <td>$1.69</td>\n",
              "    </tr>\n",
              "    <tr>\n",
              "      <th>7</th>\n",
              "      <td>4</td>\n",
              "      <td>1</td>\n",
              "      <td>Steak Burrito</td>\n",
              "      <td>[Tomatillo Red Chili Salsa, [Fajita Vegetables...</td>\n",
              "      <td>$11.75</td>\n",
              "    </tr>\n",
              "    <tr>\n",
              "      <th>8</th>\n",
              "      <td>4</td>\n",
              "      <td>1</td>\n",
              "      <td>Steak Soft Tacos</td>\n",
              "      <td>[Tomatillo Green Chili Salsa, [Pinto Beans, Ch...</td>\n",
              "      <td>$9.25</td>\n",
              "    </tr>\n",
              "    <tr>\n",
              "      <th>9</th>\n",
              "      <td>5</td>\n",
              "      <td>1</td>\n",
              "      <td>Steak Burrito</td>\n",
              "      <td>[Fresh Tomato Salsa, [Rice, Black Beans, Pinto...</td>\n",
              "      <td>$9.25</td>\n",
              "    </tr>\n",
              "  </tbody>\n",
              "</table>\n",
              "</div>"
            ],
            "text/plain": [
              "   order_id  quantity                              item_name  \\\n",
              "0         1         1           Chips and Fresh Tomato Salsa   \n",
              "1         1         1                                   Izze   \n",
              "2         1         1                       Nantucket Nectar   \n",
              "3         1         1  Chips and Tomatillo-Green Chili Salsa   \n",
              "4         2         2                           Chicken Bowl   \n",
              "5         3         1                           Chicken Bowl   \n",
              "6         3         1                          Side of Chips   \n",
              "7         4         1                          Steak Burrito   \n",
              "8         4         1                       Steak Soft Tacos   \n",
              "9         5         1                          Steak Burrito   \n",
              "\n",
              "                                  choice_description item_price  \n",
              "0                                                NaN     $2.39   \n",
              "1                                       [Clementine]     $3.39   \n",
              "2                                            [Apple]     $3.39   \n",
              "3                                                NaN     $2.39   \n",
              "4  [Tomatillo-Red Chili Salsa (Hot), [Black Beans...    $16.98   \n",
              "5  [Fresh Tomato Salsa (Mild), [Rice, Cheese, Sou...    $10.98   \n",
              "6                                                NaN     $1.69   \n",
              "7  [Tomatillo Red Chili Salsa, [Fajita Vegetables...    $11.75   \n",
              "8  [Tomatillo Green Chili Salsa, [Pinto Beans, Ch...     $9.25   \n",
              "9  [Fresh Tomato Salsa, [Rice, Black Beans, Pinto...     $9.25   "
            ]
          },
          "execution_count": 134,
          "metadata": {},
          "output_type": "execute_result"
        }
      ],
      "source": [
        "chipo.head(10)"
      ]
    },
    {
      "cell_type": "markdown",
      "metadata": {
        "id": "lbll6qzyRMgk"
      },
      "source": [
        "### Step 5. What is the number of observations in the dataset?"
      ]
    },
    {
      "cell_type": "code",
      "execution_count": 135,
      "metadata": {
        "colab": {
          "background_save": true,
          "base_uri": "https://localhost:8080/"
        },
        "id": "DQTt5p-WRMgm",
        "outputId": "7691a3db-8d95-4b7b-b14f-228d69a3d7c1"
      },
      "outputs": [
        {
          "data": {
            "text/plain": [
              "4622"
            ]
          },
          "execution_count": 135,
          "metadata": {},
          "output_type": "execute_result"
        }
      ],
      "source": [
        "# Solution 1, con esta solución tenemos el número de filas y columnas\n",
        "filas, columnas= chipo.shape\n",
        "filas"
      ]
    },
    {
      "cell_type": "code",
      "execution_count": 136,
      "metadata": {
        "colab": {
          "base_uri": "https://localhost:8080/"
        },
        "id": "XyufJZRNRMgo",
        "outputId": "975d1771-7c91-4efb-ca95-532d398831f8"
      },
      "outputs": [
        {
          "data": {
            "text/plain": [
              "4622"
            ]
          },
          "execution_count": 136,
          "metadata": {},
          "output_type": "execute_result"
        }
      ],
      "source": [
        "# Solution 2, con está solución tenemos solamente el número de filas(observaciones).\n",
        "chipo.shape[0]\n"
      ]
    },
    {
      "cell_type": "markdown",
      "metadata": {
        "id": "idI6sFv4RMgo"
      },
      "source": [
        "### Step 6. What is the number of columns in the dataset?"
      ]
    },
    {
      "cell_type": "code",
      "execution_count": 137,
      "metadata": {},
      "outputs": [
        {
          "data": {
            "text/plain": [
              "5"
            ]
          },
          "execution_count": 137,
          "metadata": {},
          "output_type": "execute_result"
        }
      ],
      "source": [
        "#Solution 1, de la variable anteriormente definida se determina el valor de columnas\n",
        "columnas"
      ]
    },
    {
      "cell_type": "code",
      "execution_count": 138,
      "metadata": {},
      "outputs": [
        {
          "data": {
            "text/plain": [
              "5"
            ]
          },
          "execution_count": 138,
          "metadata": {},
          "output_type": "execute_result"
        }
      ],
      "source": [
        "#Solution 2\n",
        "len(chipo.columns)"
      ]
    },
    {
      "cell_type": "code",
      "execution_count": 139,
      "metadata": {
        "colab": {
          "base_uri": "https://localhost:8080/"
        },
        "id": "-lCD3d5GRMgq",
        "outputId": "e43cd9fe-2e75-41c6-a82d-f2a5278c455d"
      },
      "outputs": [
        {
          "data": {
            "text/plain": [
              "5"
            ]
          },
          "execution_count": 139,
          "metadata": {},
          "output_type": "execute_result"
        }
      ],
      "source": [
        "chipo.shape[1]  #Se indica solo el número de columnas"
      ]
    },
    {
      "cell_type": "code",
      "execution_count": 140,
      "metadata": {
        "colab": {
          "base_uri": "https://localhost:8080/"
        },
        "id": "jgsw2Kkm02gq",
        "outputId": "c005493f-5c1b-4d24-8c87-fb12f45bacb6"
      },
      "outputs": [
        {
          "name": "stdout",
          "output_type": "stream",
          "text": [
            "<class 'pandas.core.frame.DataFrame'>\n",
            "RangeIndex: 4622 entries, 0 to 4621\n",
            "Data columns (total 5 columns):\n",
            " #   Column              Non-Null Count  Dtype \n",
            "---  ------              --------------  ----- \n",
            " 0   order_id            4622 non-null   int64 \n",
            " 1   quantity            4622 non-null   int64 \n",
            " 2   item_name           4622 non-null   object\n",
            " 3   choice_description  3376 non-null   object\n",
            " 4   item_price          4622 non-null   object\n",
            "dtypes: int64(2), object(3)\n",
            "memory usage: 180.7+ KB\n"
          ]
        }
      ],
      "source": [
        "chipo.info() #Da información acerca del dataset"
      ]
    },
    {
      "cell_type": "code",
      "execution_count": 141,
      "metadata": {
        "id": "CmP8iBNG1BTj"
      },
      "outputs": [],
      "source": [
        "#De la solución anterior se puede ver el total de columnas entre parentesis, se indican que son 5."
      ]
    },
    {
      "cell_type": "markdown",
      "metadata": {
        "id": "5kaoMZPiRMgq"
      },
      "source": [
        "### Step 7. Print the name of all the columns."
      ]
    },
    {
      "cell_type": "code",
      "execution_count": 142,
      "metadata": {
        "colab": {
          "base_uri": "https://localhost:8080/"
        },
        "id": "f2mLZ6RjRMgr",
        "outputId": "4f5958fc-81f4-4155-9cc8-36cb03a89d96"
      },
      "outputs": [
        {
          "data": {
            "text/plain": [
              "\"El nombre de las columnas es: Index(['order_id', 'quantity', 'item_name', 'choice_description',\\n       'item_price'],\\n      dtype='object') .\""
            ]
          },
          "execution_count": 142,
          "metadata": {},
          "output_type": "execute_result"
        }
      ],
      "source": [
        "f'El nombre de las columnas es: {chipo.columns} .'"
      ]
    },
    {
      "cell_type": "markdown",
      "metadata": {
        "id": "mQtcpirtRMgr"
      },
      "source": [
        "### Step 8. How is the dataset indexed?"
      ]
    },
    {
      "cell_type": "code",
      "execution_count": 143,
      "metadata": {
        "colab": {
          "base_uri": "https://localhost:8080/"
        },
        "id": "OizfOL90RMgs",
        "outputId": "321d30a5-4d4c-4eec-8acb-5e2f298fb647"
      },
      "outputs": [
        {
          "data": {
            "text/plain": [
              "RangeIndex(start=0, stop=4622, step=1)"
            ]
          },
          "execution_count": 143,
          "metadata": {},
          "output_type": "execute_result"
        }
      ],
      "source": [
        "chipo.index"
      ]
    },
    {
      "cell_type": "markdown",
      "metadata": {
        "id": "qxyzF0yyRMgs"
      },
      "source": [
        "### Step 9. Which was the most-ordered item? "
      ]
    },
    {
      "cell_type": "code",
      "execution_count": 144,
      "metadata": {},
      "outputs": [
        {
          "data": {
            "text/html": [
              "<div>\n",
              "<style scoped>\n",
              "    .dataframe tbody tr th:only-of-type {\n",
              "        vertical-align: middle;\n",
              "    }\n",
              "\n",
              "    .dataframe tbody tr th {\n",
              "        vertical-align: top;\n",
              "    }\n",
              "\n",
              "    .dataframe thead th {\n",
              "        text-align: right;\n",
              "    }\n",
              "</style>\n",
              "<table border=\"1\" class=\"dataframe\">\n",
              "  <thead>\n",
              "    <tr style=\"text-align: right;\">\n",
              "      <th></th>\n",
              "      <th>quantity</th>\n",
              "    </tr>\n",
              "    <tr>\n",
              "      <th>item_name</th>\n",
              "      <th></th>\n",
              "    </tr>\n",
              "  </thead>\n",
              "  <tbody>\n",
              "    <tr>\n",
              "      <th>Chicken Bowl</th>\n",
              "      <td>761</td>\n",
              "    </tr>\n",
              "  </tbody>\n",
              "</table>\n",
              "</div>"
            ],
            "text/plain": [
              "              quantity\n",
              "item_name             \n",
              "Chicken Bowl       761"
            ]
          },
          "execution_count": 144,
          "metadata": {},
          "output_type": "execute_result"
        }
      ],
      "source": [
        "#Solution1, se agrupan las filas de la columna en función de los items que vende la empresa, para identificar el árticulo que se vende más\n",
        "#solo se debe hacer una suma de las cantidades vendidas por producto. La mayor cantidad se obtiene al acomodar la suma de 'quantity'\n",
        "#de mayor a menor y obtener el primer item del data frame.\n",
        "\n",
        "chipo.groupby(by='item_name')[['quantity']].sum().sort_values(by='quantity', ascending=False).head(1)"
      ]
    },
    {
      "cell_type": "code",
      "execution_count": 145,
      "metadata": {
        "id": "zoKiPXosRMgs"
      },
      "outputs": [
        {
          "data": {
            "text/html": [
              "<div>\n",
              "<style scoped>\n",
              "    .dataframe tbody tr th:only-of-type {\n",
              "        vertical-align: middle;\n",
              "    }\n",
              "\n",
              "    .dataframe tbody tr th {\n",
              "        vertical-align: top;\n",
              "    }\n",
              "\n",
              "    .dataframe thead th {\n",
              "        text-align: right;\n",
              "    }\n",
              "</style>\n",
              "<table border=\"1\" class=\"dataframe\">\n",
              "  <thead>\n",
              "    <tr style=\"text-align: right;\">\n",
              "      <th></th>\n",
              "      <th>quantity</th>\n",
              "    </tr>\n",
              "    <tr>\n",
              "      <th>item_name</th>\n",
              "      <th></th>\n",
              "    </tr>\n",
              "  </thead>\n",
              "  <tbody>\n",
              "    <tr>\n",
              "      <th>Chicken Bowl</th>\n",
              "      <td>761</td>\n",
              "    </tr>\n",
              "  </tbody>\n",
              "</table>\n",
              "</div>"
            ],
            "text/plain": [
              "              quantity\n",
              "item_name             \n",
              "Chicken Bowl       761"
            ]
          },
          "execution_count": 145,
          "metadata": {},
          "output_type": "execute_result"
        }
      ],
      "source": [
        "#Solution 2, se ordena la tabla 'chipo' en función de los 'ítem names'al mismo tiempo que se realiza una suma, como función de agregación\"\n",
        "# a las demás columnas. El item más vendido, es el que el valor más grande en la columna 'quantity'.\n",
        "\n",
        "chipo.pivot_table(index='item_name', aggfunc='sum')[['quantity']].sort_values(by='quantity',ascending=False).head(1)"
      ]
    },
    {
      "cell_type": "code",
      "execution_count": 146,
      "metadata": {},
      "outputs": [],
      "source": [
        "#El item más vendido es Chicken Bowl."
      ]
    },
    {
      "cell_type": "markdown",
      "metadata": {
        "id": "T6bQ-kzKRMgt"
      },
      "source": [
        "### Step 10. For the most-ordered item, how many items were ordered?"
      ]
    },
    {
      "cell_type": "code",
      "execution_count": 147,
      "metadata": {
        "id": "U6V8kgyzRMgu"
      },
      "outputs": [
        {
          "data": {
            "text/plain": [
              "761"
            ]
          },
          "execution_count": 147,
          "metadata": {},
          "output_type": "execute_result"
        }
      ],
      "source": [
        "#Del item obtenido en la respuesta anterior, se extrae solo la cantidad vendida.\n",
        "chipo.groupby(by='item_name')['quantity'].sum().max()"
      ]
    },
    {
      "cell_type": "markdown",
      "metadata": {
        "id": "RK4aTOaURMgu"
      },
      "source": [
        "### Step 11. What was the most ordered item in the choice_description column?"
      ]
    },
    {
      "cell_type": "code",
      "execution_count": 148,
      "metadata": {},
      "outputs": [
        {
          "data": {
            "text/html": [
              "<div>\n",
              "<style scoped>\n",
              "    .dataframe tbody tr th:only-of-type {\n",
              "        vertical-align: middle;\n",
              "    }\n",
              "\n",
              "    .dataframe tbody tr th {\n",
              "        vertical-align: top;\n",
              "    }\n",
              "\n",
              "    .dataframe thead th {\n",
              "        text-align: right;\n",
              "    }\n",
              "</style>\n",
              "<table border=\"1\" class=\"dataframe\">\n",
              "  <thead>\n",
              "    <tr style=\"text-align: right;\">\n",
              "      <th></th>\n",
              "      <th>quantity</th>\n",
              "      <th>choice_description</th>\n",
              "    </tr>\n",
              "  </thead>\n",
              "  <tbody>\n",
              "    <tr>\n",
              "      <th>0</th>\n",
              "      <td>1</td>\n",
              "      <td>NaN</td>\n",
              "    </tr>\n",
              "    <tr>\n",
              "      <th>1</th>\n",
              "      <td>1</td>\n",
              "      <td>[Clementine]</td>\n",
              "    </tr>\n",
              "    <tr>\n",
              "      <th>2</th>\n",
              "      <td>1</td>\n",
              "      <td>[Apple]</td>\n",
              "    </tr>\n",
              "    <tr>\n",
              "      <th>3</th>\n",
              "      <td>1</td>\n",
              "      <td>NaN</td>\n",
              "    </tr>\n",
              "    <tr>\n",
              "      <th>4</th>\n",
              "      <td>2</td>\n",
              "      <td>[Tomatillo-Red Chili Salsa (Hot), [Black Beans...</td>\n",
              "    </tr>\n",
              "    <tr>\n",
              "      <th>...</th>\n",
              "      <td>...</td>\n",
              "      <td>...</td>\n",
              "    </tr>\n",
              "    <tr>\n",
              "      <th>4617</th>\n",
              "      <td>1</td>\n",
              "      <td>[Fresh Tomato Salsa, [Rice, Black Beans, Sour ...</td>\n",
              "    </tr>\n",
              "    <tr>\n",
              "      <th>4618</th>\n",
              "      <td>1</td>\n",
              "      <td>[Fresh Tomato Salsa, [Rice, Sour Cream, Cheese...</td>\n",
              "    </tr>\n",
              "    <tr>\n",
              "      <th>4619</th>\n",
              "      <td>1</td>\n",
              "      <td>[Fresh Tomato Salsa, [Fajita Vegetables, Pinto...</td>\n",
              "    </tr>\n",
              "    <tr>\n",
              "      <th>4620</th>\n",
              "      <td>1</td>\n",
              "      <td>[Fresh Tomato Salsa, [Fajita Vegetables, Lettu...</td>\n",
              "    </tr>\n",
              "    <tr>\n",
              "      <th>4621</th>\n",
              "      <td>1</td>\n",
              "      <td>[Fresh Tomato Salsa, [Fajita Vegetables, Pinto...</td>\n",
              "    </tr>\n",
              "  </tbody>\n",
              "</table>\n",
              "<p>4622 rows × 2 columns</p>\n",
              "</div>"
            ],
            "text/plain": [
              "      quantity                                 choice_description\n",
              "0            1                                                NaN\n",
              "1            1                                       [Clementine]\n",
              "2            1                                            [Apple]\n",
              "3            1                                                NaN\n",
              "4            2  [Tomatillo-Red Chili Salsa (Hot), [Black Beans...\n",
              "...        ...                                                ...\n",
              "4617         1  [Fresh Tomato Salsa, [Rice, Black Beans, Sour ...\n",
              "4618         1  [Fresh Tomato Salsa, [Rice, Sour Cream, Cheese...\n",
              "4619         1  [Fresh Tomato Salsa, [Fajita Vegetables, Pinto...\n",
              "4620         1  [Fresh Tomato Salsa, [Fajita Vegetables, Lettu...\n",
              "4621         1  [Fresh Tomato Salsa, [Fajita Vegetables, Pinto...\n",
              "\n",
              "[4622 rows x 2 columns]"
            ]
          },
          "execution_count": 148,
          "metadata": {},
          "output_type": "execute_result"
        }
      ],
      "source": [
        "#Para obtener el item más ordenado en el dataframe de acuerdo con la columna 'choice_description', solo se deben de tomar en cuenta las columnas\n",
        "#'quantity' y la de 'choice_description'. Para ello se formo un nuevo dataset el cual podamos editar para obtener la respuesta.\n",
        "limpio=chipo[['quantity','choice_description']]\n",
        "limpio"
      ]
    },
    {
      "cell_type": "code",
      "execution_count": 149,
      "metadata": {},
      "outputs": [
        {
          "name": "stderr",
          "output_type": "stream",
          "text": [
            "C:\\Users\\sabri\\AppData\\Local\\Temp\\ipykernel_4892\\111127216.py:4: SettingWithCopyWarning: \n",
            "A value is trying to be set on a copy of a slice from a DataFrame.\n",
            "Try using .loc[row_indexer,col_indexer] = value instead\n",
            "\n",
            "See the caveats in the documentation: https://pandas.pydata.org/pandas-docs/stable/user_guide/indexing.html#returning-a-view-versus-a-copy\n",
            "  limpio.loc[:,'choice_description']=limpio['choice_description'].str.split(\",\",expand=True)[0]\n",
            "C:\\Users\\sabri\\AppData\\Local\\Temp\\ipykernel_4892\\111127216.py:5: SettingWithCopyWarning: \n",
            "A value is trying to be set on a copy of a slice from a DataFrame.\n",
            "Try using .loc[row_indexer,col_indexer] = value instead\n",
            "\n",
            "See the caveats in the documentation: https://pandas.pydata.org/pandas-docs/stable/user_guide/indexing.html#returning-a-view-versus-a-copy\n",
            "  limpio.loc[:,'choice_description']=limpio['choice_description'].str.split(\"(\",expand=True)[0]\n"
          ]
        }
      ],
      "source": [
        "#Al hacer un analisis visual dela columna 'choice_description' se puede ver que hay celda vacias y que hay una elaborada descripción de los\n",
        "#ingredientes a emplear en los platillo y la temperatura del mismo. Para quitar lo anterior se separo el texto y se sobreescribio el mismo \n",
        "#en la columna mencionada para quedarnos simplemente con la descripción general del 'item'\n",
        "limpio.loc[:,'choice_description']=limpio['choice_description'].str.split(\",\",expand=True)[0]\n",
        "limpio.loc[:,'choice_description']=limpio['choice_description'].str.split(\"(\",expand=True)[0]"
      ]
    },
    {
      "cell_type": "code",
      "execution_count": 150,
      "metadata": {},
      "outputs": [
        {
          "data": {
            "text/html": [
              "<div>\n",
              "<style scoped>\n",
              "    .dataframe tbody tr th:only-of-type {\n",
              "        vertical-align: middle;\n",
              "    }\n",
              "\n",
              "    .dataframe tbody tr th {\n",
              "        vertical-align: top;\n",
              "    }\n",
              "\n",
              "    .dataframe thead th {\n",
              "        text-align: right;\n",
              "    }\n",
              "</style>\n",
              "<table border=\"1\" class=\"dataframe\">\n",
              "  <thead>\n",
              "    <tr style=\"text-align: right;\">\n",
              "      <th></th>\n",
              "      <th>quantity</th>\n",
              "    </tr>\n",
              "    <tr>\n",
              "      <th>choice_description</th>\n",
              "      <th></th>\n",
              "    </tr>\n",
              "  </thead>\n",
              "  <tbody>\n",
              "    <tr>\n",
              "      <th>[Fresh Tomato Salsa</th>\n",
              "      <td>1099</td>\n",
              "    </tr>\n",
              "  </tbody>\n",
              "</table>\n",
              "</div>"
            ],
            "text/plain": [
              "                     quantity\n",
              "choice_description           \n",
              "[Fresh Tomato Salsa      1099"
            ]
          },
          "execution_count": 150,
          "metadata": {},
          "output_type": "execute_result"
        }
      ],
      "source": [
        "#Usando la agrupación de 'quantity' en base 'choice_description', se obtiene el producto más pedido.\n",
        "limpio.groupby(by='choice_description')[['quantity']].sum().sort_values(by='quantity', ascending=False).head(1)"
      ]
    },
    {
      "cell_type": "code",
      "execution_count": 151,
      "metadata": {},
      "outputs": [],
      "source": [
        "#El producto más ordenado de acuerdo con la columna 'choice_descritpion' es el Fresh Tomato Salsa."
      ]
    },
    {
      "cell_type": "markdown",
      "metadata": {
        "id": "KpxshXtTRMgv"
      },
      "source": [
        "### Step 12. How many items were orderd in total?"
      ]
    },
    {
      "cell_type": "code",
      "execution_count": 152,
      "metadata": {
        "id": "Z6um4jeBRMgw"
      },
      "outputs": [
        {
          "data": {
            "text/plain": [
              "4972"
            ]
          },
          "execution_count": 152,
          "metadata": {},
          "output_type": "execute_result"
        }
      ],
      "source": [
        "chipo['quantity'].sum()  #Suma la cantidad de productois ordenados"
      ]
    },
    {
      "cell_type": "markdown",
      "metadata": {
        "id": "s0gqKC8wRMgw"
      },
      "source": [
        "### Step 13. Turn the item price into a float"
      ]
    },
    {
      "cell_type": "markdown",
      "metadata": {
        "id": "MziL5nW7RMgx"
      },
      "source": [
        "#### Step 13.a. Check the item price type"
      ]
    },
    {
      "cell_type": "code",
      "execution_count": 153,
      "metadata": {
        "id": "U-SDteT9RMgx"
      },
      "outputs": [
        {
          "data": {
            "text/plain": [
              "dtype('O')"
            ]
          },
          "execution_count": 153,
          "metadata": {},
          "output_type": "execute_result"
        }
      ],
      "source": [
        "chipo.dtypes['item_price']  #Obtenemos el tipo de item en la columna 'item_price'"
      ]
    },
    {
      "cell_type": "markdown",
      "metadata": {
        "id": "4Y2RINPhRMgx"
      },
      "source": [
        "#### Step 13.b. Create a lambda function and change the type of item price"
      ]
    },
    {
      "cell_type": "code",
      "execution_count": 154,
      "metadata": {},
      "outputs": [],
      "source": [
        "#Primero eliminamos el signo de $ de la columna\n",
        "chipo['item_price']=chipo['item_price'].str.replace('$','', regex=True)"
      ]
    },
    {
      "cell_type": "code",
      "execution_count": 155,
      "metadata": {
        "collapsed": true,
        "id": "KkrF4Or_RMgy"
      },
      "outputs": [],
      "source": [
        "chipo['item_price']=[float(chipo['item_price'][i]) for i in range(len(chipo['item_price']))] #Con la función se transforma los el tipo de valor en cada variable del dataframe."
      ]
    },
    {
      "cell_type": "markdown",
      "metadata": {
        "id": "rIBpn5oaRMgy"
      },
      "source": [
        "#### Step 13.c. Check the item price type"
      ]
    },
    {
      "cell_type": "code",
      "execution_count": 156,
      "metadata": {
        "id": "z6JJ7RF1RMgz"
      },
      "outputs": [
        {
          "data": {
            "text/plain": [
              "dtype('float64')"
            ]
          },
          "execution_count": 156,
          "metadata": {},
          "output_type": "execute_result"
        }
      ],
      "source": [
        "chipo.dtypes['item_price']   #Se checa el tipo de variable de la columna (Solution 1)"
      ]
    },
    {
      "cell_type": "code",
      "execution_count": 157,
      "metadata": {},
      "outputs": [
        {
          "data": {
            "text/plain": [
              "numpy.float64"
            ]
          },
          "execution_count": 157,
          "metadata": {},
          "output_type": "execute_result"
        }
      ],
      "source": [
        "type(chipo['item_price'][0]) #Se checa el tipo de variable de la columna (Solution 2)"
      ]
    },
    {
      "cell_type": "markdown",
      "metadata": {
        "id": "X03Rhn_LRMgz"
      },
      "source": [
        "### Step 14. How much was the revenue for the period in the dataset?"
      ]
    },
    {
      "cell_type": "code",
      "execution_count": 158,
      "metadata": {
        "id": "c1CZpSnORMg0"
      },
      "outputs": [],
      "source": [
        "def ganancia():\n",
        "    '''Función en la cual se obtiene la ganacia de las ventas registradas en el dataset,\n",
        "     teniendo en cuenta el precio del item y la cantidad ordenada del mismo.'''\n",
        "    count=0\n",
        "    for i in range(len(chipo)):\n",
        "        gan=chipo['quantity'][i]*chipo['item_price'][i]\n",
        "        count+=gan\n",
        "    return count"
      ]
    },
    {
      "cell_type": "code",
      "execution_count": 159,
      "metadata": {},
      "outputs": [
        {
          "data": {
            "text/plain": [
              "'La ganancia de la empresa en base a las ventas es de: $ 39237.02'"
            ]
          },
          "execution_count": 159,
          "metadata": {},
          "output_type": "execute_result"
        }
      ],
      "source": [
        "f'La ganancia de la empresa en base a las ventas es de: $ {ganancia().round(2)}'"
      ]
    },
    {
      "cell_type": "markdown",
      "metadata": {
        "id": "eda01ES-RMg0"
      },
      "source": [
        "### Step 15. How many orders were made in the period?"
      ]
    },
    {
      "cell_type": "code",
      "execution_count": 160,
      "metadata": {
        "id": "Nr5fr6glRMg1"
      },
      "outputs": [
        {
          "data": {
            "text/plain": [
              "1834"
            ]
          },
          "execution_count": 160,
          "metadata": {},
          "output_type": "execute_result"
        }
      ],
      "source": [
        "chipo['order_id'].nunique() #Solution 1,se enumera la cantidad de elementos únicos en la columna 'order_id'."
      ]
    },
    {
      "cell_type": "code",
      "execution_count": 161,
      "metadata": {},
      "outputs": [
        {
          "data": {
            "text/plain": [
              "1834"
            ]
          },
          "execution_count": 161,
          "metadata": {},
          "output_type": "execute_result"
        }
      ],
      "source": [
        "chipo['order_id'].max() #Solution 2,como los id_items están enumerados ascendentemente para obtener el número de ordenes solo se \n",
        "#debe de obtner el valor de la última venta. Este valor identifica la cantidad de ventas realizadas en la tienda."
      ]
    },
    {
      "cell_type": "markdown",
      "metadata": {
        "id": "jJd5rr8oRMg3"
      },
      "source": [
        "### Step 16. What is the average revenue amount per order?"
      ]
    },
    {
      "cell_type": "code",
      "execution_count": 162,
      "metadata": {
        "id": "Kl0BRpo5RMg3"
      },
      "outputs": [
        {
          "data": {
            "text/html": [
              "<div>\n",
              "<style scoped>\n",
              "    .dataframe tbody tr th:only-of-type {\n",
              "        vertical-align: middle;\n",
              "    }\n",
              "\n",
              "    .dataframe tbody tr th {\n",
              "        vertical-align: top;\n",
              "    }\n",
              "\n",
              "    .dataframe thead th {\n",
              "        text-align: right;\n",
              "    }\n",
              "</style>\n",
              "<table border=\"1\" class=\"dataframe\">\n",
              "  <thead>\n",
              "    <tr style=\"text-align: right;\">\n",
              "      <th></th>\n",
              "      <th>order_id</th>\n",
              "      <th>quantity</th>\n",
              "      <th>item_name</th>\n",
              "      <th>choice_description</th>\n",
              "      <th>item_price</th>\n",
              "      <th>gasto</th>\n",
              "    </tr>\n",
              "  </thead>\n",
              "  <tbody>\n",
              "    <tr>\n",
              "      <th>0</th>\n",
              "      <td>1</td>\n",
              "      <td>1</td>\n",
              "      <td>Chips and Fresh Tomato Salsa</td>\n",
              "      <td>NaN</td>\n",
              "      <td>2.39</td>\n",
              "      <td>2.39</td>\n",
              "    </tr>\n",
              "    <tr>\n",
              "      <th>1</th>\n",
              "      <td>1</td>\n",
              "      <td>1</td>\n",
              "      <td>Izze</td>\n",
              "      <td>[Clementine]</td>\n",
              "      <td>3.39</td>\n",
              "      <td>3.39</td>\n",
              "    </tr>\n",
              "    <tr>\n",
              "      <th>2</th>\n",
              "      <td>1</td>\n",
              "      <td>1</td>\n",
              "      <td>Nantucket Nectar</td>\n",
              "      <td>[Apple]</td>\n",
              "      <td>3.39</td>\n",
              "      <td>3.39</td>\n",
              "    </tr>\n",
              "    <tr>\n",
              "      <th>3</th>\n",
              "      <td>1</td>\n",
              "      <td>1</td>\n",
              "      <td>Chips and Tomatillo-Green Chili Salsa</td>\n",
              "      <td>NaN</td>\n",
              "      <td>2.39</td>\n",
              "      <td>2.39</td>\n",
              "    </tr>\n",
              "    <tr>\n",
              "      <th>4</th>\n",
              "      <td>2</td>\n",
              "      <td>2</td>\n",
              "      <td>Chicken Bowl</td>\n",
              "      <td>[Tomatillo-Red Chili Salsa (Hot), [Black Beans...</td>\n",
              "      <td>16.98</td>\n",
              "      <td>33.96</td>\n",
              "    </tr>\n",
              "    <tr>\n",
              "      <th>...</th>\n",
              "      <td>...</td>\n",
              "      <td>...</td>\n",
              "      <td>...</td>\n",
              "      <td>...</td>\n",
              "      <td>...</td>\n",
              "      <td>...</td>\n",
              "    </tr>\n",
              "    <tr>\n",
              "      <th>4617</th>\n",
              "      <td>1833</td>\n",
              "      <td>1</td>\n",
              "      <td>Steak Burrito</td>\n",
              "      <td>[Fresh Tomato Salsa, [Rice, Black Beans, Sour ...</td>\n",
              "      <td>11.75</td>\n",
              "      <td>11.75</td>\n",
              "    </tr>\n",
              "    <tr>\n",
              "      <th>4618</th>\n",
              "      <td>1833</td>\n",
              "      <td>1</td>\n",
              "      <td>Steak Burrito</td>\n",
              "      <td>[Fresh Tomato Salsa, [Rice, Sour Cream, Cheese...</td>\n",
              "      <td>11.75</td>\n",
              "      <td>11.75</td>\n",
              "    </tr>\n",
              "    <tr>\n",
              "      <th>4619</th>\n",
              "      <td>1834</td>\n",
              "      <td>1</td>\n",
              "      <td>Chicken Salad Bowl</td>\n",
              "      <td>[Fresh Tomato Salsa, [Fajita Vegetables, Pinto...</td>\n",
              "      <td>11.25</td>\n",
              "      <td>11.25</td>\n",
              "    </tr>\n",
              "    <tr>\n",
              "      <th>4620</th>\n",
              "      <td>1834</td>\n",
              "      <td>1</td>\n",
              "      <td>Chicken Salad Bowl</td>\n",
              "      <td>[Fresh Tomato Salsa, [Fajita Vegetables, Lettu...</td>\n",
              "      <td>8.75</td>\n",
              "      <td>8.75</td>\n",
              "    </tr>\n",
              "    <tr>\n",
              "      <th>4621</th>\n",
              "      <td>1834</td>\n",
              "      <td>1</td>\n",
              "      <td>Chicken Salad Bowl</td>\n",
              "      <td>[Fresh Tomato Salsa, [Fajita Vegetables, Pinto...</td>\n",
              "      <td>8.75</td>\n",
              "      <td>8.75</td>\n",
              "    </tr>\n",
              "  </tbody>\n",
              "</table>\n",
              "<p>4622 rows × 6 columns</p>\n",
              "</div>"
            ],
            "text/plain": [
              "      order_id  quantity                              item_name  \\\n",
              "0            1         1           Chips and Fresh Tomato Salsa   \n",
              "1            1         1                                   Izze   \n",
              "2            1         1                       Nantucket Nectar   \n",
              "3            1         1  Chips and Tomatillo-Green Chili Salsa   \n",
              "4            2         2                           Chicken Bowl   \n",
              "...        ...       ...                                    ...   \n",
              "4617      1833         1                          Steak Burrito   \n",
              "4618      1833         1                          Steak Burrito   \n",
              "4619      1834         1                     Chicken Salad Bowl   \n",
              "4620      1834         1                     Chicken Salad Bowl   \n",
              "4621      1834         1                     Chicken Salad Bowl   \n",
              "\n",
              "                                     choice_description  item_price  gasto  \n",
              "0                                                   NaN        2.39   2.39  \n",
              "1                                          [Clementine]        3.39   3.39  \n",
              "2                                               [Apple]        3.39   3.39  \n",
              "3                                                   NaN        2.39   2.39  \n",
              "4     [Tomatillo-Red Chili Salsa (Hot), [Black Beans...       16.98  33.96  \n",
              "...                                                 ...         ...    ...  \n",
              "4617  [Fresh Tomato Salsa, [Rice, Black Beans, Sour ...       11.75  11.75  \n",
              "4618  [Fresh Tomato Salsa, [Rice, Sour Cream, Cheese...       11.75  11.75  \n",
              "4619  [Fresh Tomato Salsa, [Fajita Vegetables, Pinto...       11.25  11.25  \n",
              "4620  [Fresh Tomato Salsa, [Fajita Vegetables, Lettu...        8.75   8.75  \n",
              "4621  [Fresh Tomato Salsa, [Fajita Vegetables, Pinto...        8.75   8.75  \n",
              "\n",
              "[4622 rows x 6 columns]"
            ]
          },
          "execution_count": 162,
          "metadata": {},
          "output_type": "execute_result"
        }
      ],
      "source": [
        "# Solution 1, se crea una nueva columna en el dataset en la cual se obtiene el gasto por item en función de la cantidad comprada y su precio.\n",
        "chipo['gasto']=chipo['quantity']*chipo['item_price']\n",
        "chipo"
      ]
    },
    {
      "cell_type": "code",
      "execution_count": 163,
      "metadata": {},
      "outputs": [
        {
          "data": {
            "text/plain": [
              "gasto    21.394231\n",
              "dtype: float64"
            ]
          },
          "execution_count": 163,
          "metadata": {},
          "output_type": "execute_result"
        }
      ],
      "source": [
        "#Posteriormente se agrupa la suma de los valores de la columna gasto en función del 'order_id'.\n",
        "# Y se obtiene el promedio de la ganancia por venta ('order_id').\n",
        "(chipo.groupby('order_id')[['gasto']].sum()).mean()"
      ]
    },
    {
      "cell_type": "code",
      "execution_count": 164,
      "metadata": {},
      "outputs": [
        {
          "name": "stdout",
          "output_type": "stream",
          "text": [
            "En promedio en cada venta se gasta $21.39\n"
          ]
        }
      ],
      "source": [
        "print('En promedio en cada venta se gasta $21.39')"
      ]
    },
    {
      "cell_type": "markdown",
      "metadata": {
        "id": "2HLBKYgURMg4"
      },
      "source": [
        "### Step 17. How many different items are sold?"
      ]
    },
    {
      "cell_type": "code",
      "execution_count": 165,
      "metadata": {
        "id": "kY_ns201RMg4"
      },
      "outputs": [
        {
          "data": {
            "text/plain": [
              "array(['6 Pack Soft Drink', 'Barbacoa Bowl', 'Barbacoa Burrito',\n",
              "       'Barbacoa Crispy Tacos', 'Barbacoa Salad Bowl',\n",
              "       'Barbacoa Soft Tacos', 'Bottled Water', 'Bowl', 'Burrito',\n",
              "       'Canned Soda', 'Canned Soft Drink', 'Carnitas Bowl',\n",
              "       'Carnitas Burrito', 'Carnitas Crispy Tacos', 'Carnitas Salad',\n",
              "       'Carnitas Salad Bowl', 'Carnitas Soft Tacos', 'Chicken Bowl',\n",
              "       'Chicken Burrito', 'Chicken Crispy Tacos', 'Chicken Salad',\n",
              "       'Chicken Salad Bowl', 'Chicken Soft Tacos', 'Chips',\n",
              "       'Chips and Fresh Tomato Salsa', 'Chips and Guacamole',\n",
              "       'Chips and Mild Fresh Tomato Salsa',\n",
              "       'Chips and Roasted Chili Corn Salsa',\n",
              "       'Chips and Roasted Chili-Corn Salsa',\n",
              "       'Chips and Tomatillo Green Chili Salsa',\n",
              "       'Chips and Tomatillo Red Chili Salsa',\n",
              "       'Chips and Tomatillo-Green Chili Salsa',\n",
              "       'Chips and Tomatillo-Red Chili Salsa', 'Crispy Tacos', 'Izze',\n",
              "       'Nantucket Nectar', 'Salad', 'Side of Chips', 'Steak Bowl',\n",
              "       'Steak Burrito', 'Steak Crispy Tacos', 'Steak Salad',\n",
              "       'Steak Salad Bowl', 'Steak Soft Tacos', 'Veggie Bowl',\n",
              "       'Veggie Burrito', 'Veggie Crispy Tacos', 'Veggie Salad',\n",
              "       'Veggie Salad Bowl', 'Veggie Soft Tacos'], dtype=object)"
            ]
          },
          "execution_count": 165,
          "metadata": {},
          "output_type": "execute_result"
        }
      ],
      "source": [
        "items=chipo['item_name'].unique() #Visualización de todos los items que se venden\n",
        "items.sort()\n",
        "items"
      ]
    },
    {
      "cell_type": "code",
      "execution_count": 166,
      "metadata": {},
      "outputs": [
        {
          "data": {
            "text/html": [
              "<div>\n",
              "<style scoped>\n",
              "    .dataframe tbody tr th:only-of-type {\n",
              "        vertical-align: middle;\n",
              "    }\n",
              "\n",
              "    .dataframe tbody tr th {\n",
              "        vertical-align: top;\n",
              "    }\n",
              "\n",
              "    .dataframe thead th {\n",
              "        text-align: right;\n",
              "    }\n",
              "</style>\n",
              "<table border=\"1\" class=\"dataframe\">\n",
              "  <thead>\n",
              "    <tr style=\"text-align: right;\">\n",
              "      <th></th>\n",
              "      <th>0</th>\n",
              "    </tr>\n",
              "  </thead>\n",
              "  <tbody>\n",
              "    <tr>\n",
              "      <th>0</th>\n",
              "      <td>6 Pack Soft Drink</td>\n",
              "    </tr>\n",
              "    <tr>\n",
              "      <th>1</th>\n",
              "      <td>Barbacoa Bowl</td>\n",
              "    </tr>\n",
              "    <tr>\n",
              "      <th>2</th>\n",
              "      <td>Barbacoa Burrito</td>\n",
              "    </tr>\n",
              "    <tr>\n",
              "      <th>3</th>\n",
              "      <td>Barbacoa Crispy Tacos</td>\n",
              "    </tr>\n",
              "    <tr>\n",
              "      <th>4</th>\n",
              "      <td>Barbacoa Salad Bowl</td>\n",
              "    </tr>\n",
              "    <tr>\n",
              "      <th>5</th>\n",
              "      <td>Barbacoa Soft Tacos</td>\n",
              "    </tr>\n",
              "    <tr>\n",
              "      <th>6</th>\n",
              "      <td>Bottled Water</td>\n",
              "    </tr>\n",
              "    <tr>\n",
              "      <th>7</th>\n",
              "      <td>Bowl</td>\n",
              "    </tr>\n",
              "    <tr>\n",
              "      <th>8</th>\n",
              "      <td>Burrito</td>\n",
              "    </tr>\n",
              "    <tr>\n",
              "      <th>9</th>\n",
              "      <td>Canned Soda</td>\n",
              "    </tr>\n",
              "    <tr>\n",
              "      <th>10</th>\n",
              "      <td>Canned Soft Drink</td>\n",
              "    </tr>\n",
              "    <tr>\n",
              "      <th>11</th>\n",
              "      <td>Carnitas Bowl</td>\n",
              "    </tr>\n",
              "    <tr>\n",
              "      <th>12</th>\n",
              "      <td>Carnitas Burrito</td>\n",
              "    </tr>\n",
              "    <tr>\n",
              "      <th>13</th>\n",
              "      <td>Carnitas Crispy Tacos</td>\n",
              "    </tr>\n",
              "    <tr>\n",
              "      <th>14</th>\n",
              "      <td>Carnitas Salad</td>\n",
              "    </tr>\n",
              "    <tr>\n",
              "      <th>15</th>\n",
              "      <td>Carnitas Salad Bowl</td>\n",
              "    </tr>\n",
              "    <tr>\n",
              "      <th>16</th>\n",
              "      <td>Carnitas Soft Tacos</td>\n",
              "    </tr>\n",
              "    <tr>\n",
              "      <th>17</th>\n",
              "      <td>Chicken Bowl</td>\n",
              "    </tr>\n",
              "    <tr>\n",
              "      <th>18</th>\n",
              "      <td>Chicken Burrito</td>\n",
              "    </tr>\n",
              "    <tr>\n",
              "      <th>19</th>\n",
              "      <td>Chicken Crispy Tacos</td>\n",
              "    </tr>\n",
              "    <tr>\n",
              "      <th>20</th>\n",
              "      <td>Chicken Salad</td>\n",
              "    </tr>\n",
              "    <tr>\n",
              "      <th>21</th>\n",
              "      <td>Chicken Salad Bowl</td>\n",
              "    </tr>\n",
              "    <tr>\n",
              "      <th>22</th>\n",
              "      <td>Chicken Soft Tacos</td>\n",
              "    </tr>\n",
              "    <tr>\n",
              "      <th>23</th>\n",
              "      <td>Chips</td>\n",
              "    </tr>\n",
              "    <tr>\n",
              "      <th>24</th>\n",
              "      <td>Chips and Fresh Tomato Salsa</td>\n",
              "    </tr>\n",
              "    <tr>\n",
              "      <th>25</th>\n",
              "      <td>Chips and Guacamole</td>\n",
              "    </tr>\n",
              "    <tr>\n",
              "      <th>26</th>\n",
              "      <td>Chips and Mild Fresh Tomato Salsa</td>\n",
              "    </tr>\n",
              "    <tr>\n",
              "      <th>27</th>\n",
              "      <td>Chips and Roasted Chili Corn Salsa</td>\n",
              "    </tr>\n",
              "    <tr>\n",
              "      <th>28</th>\n",
              "      <td>Chips and Roasted Chili-Corn Salsa</td>\n",
              "    </tr>\n",
              "    <tr>\n",
              "      <th>29</th>\n",
              "      <td>Chips and Tomatillo Green Chili Salsa</td>\n",
              "    </tr>\n",
              "    <tr>\n",
              "      <th>30</th>\n",
              "      <td>Chips and Tomatillo Red Chili Salsa</td>\n",
              "    </tr>\n",
              "    <tr>\n",
              "      <th>31</th>\n",
              "      <td>Chips and Tomatillo-Green Chili Salsa</td>\n",
              "    </tr>\n",
              "    <tr>\n",
              "      <th>32</th>\n",
              "      <td>Chips and Tomatillo-Red Chili Salsa</td>\n",
              "    </tr>\n",
              "    <tr>\n",
              "      <th>33</th>\n",
              "      <td>Crispy Tacos</td>\n",
              "    </tr>\n",
              "    <tr>\n",
              "      <th>34</th>\n",
              "      <td>Izze</td>\n",
              "    </tr>\n",
              "    <tr>\n",
              "      <th>35</th>\n",
              "      <td>Nantucket Nectar</td>\n",
              "    </tr>\n",
              "    <tr>\n",
              "      <th>36</th>\n",
              "      <td>Salad</td>\n",
              "    </tr>\n",
              "    <tr>\n",
              "      <th>37</th>\n",
              "      <td>Side of Chips</td>\n",
              "    </tr>\n",
              "    <tr>\n",
              "      <th>38</th>\n",
              "      <td>Steak Bowl</td>\n",
              "    </tr>\n",
              "    <tr>\n",
              "      <th>39</th>\n",
              "      <td>Steak Burrito</td>\n",
              "    </tr>\n",
              "    <tr>\n",
              "      <th>40</th>\n",
              "      <td>Steak Crispy Tacos</td>\n",
              "    </tr>\n",
              "    <tr>\n",
              "      <th>41</th>\n",
              "      <td>Steak Salad</td>\n",
              "    </tr>\n",
              "    <tr>\n",
              "      <th>42</th>\n",
              "      <td>Steak Salad Bowl</td>\n",
              "    </tr>\n",
              "    <tr>\n",
              "      <th>43</th>\n",
              "      <td>Steak Soft Tacos</td>\n",
              "    </tr>\n",
              "    <tr>\n",
              "      <th>44</th>\n",
              "      <td>Veggie Bowl</td>\n",
              "    </tr>\n",
              "    <tr>\n",
              "      <th>45</th>\n",
              "      <td>Veggie Burrito</td>\n",
              "    </tr>\n",
              "    <tr>\n",
              "      <th>46</th>\n",
              "      <td>Veggie Crispy Tacos</td>\n",
              "    </tr>\n",
              "    <tr>\n",
              "      <th>47</th>\n",
              "      <td>Veggie Salad</td>\n",
              "    </tr>\n",
              "    <tr>\n",
              "      <th>48</th>\n",
              "      <td>Veggie Salad Bowl</td>\n",
              "    </tr>\n",
              "    <tr>\n",
              "      <th>49</th>\n",
              "      <td>Veggie Soft Tacos</td>\n",
              "    </tr>\n",
              "  </tbody>\n",
              "</table>\n",
              "</div>"
            ],
            "text/plain": [
              "                                        0\n",
              "0                       6 Pack Soft Drink\n",
              "1                           Barbacoa Bowl\n",
              "2                        Barbacoa Burrito\n",
              "3                   Barbacoa Crispy Tacos\n",
              "4                     Barbacoa Salad Bowl\n",
              "5                     Barbacoa Soft Tacos\n",
              "6                           Bottled Water\n",
              "7                                    Bowl\n",
              "8                                 Burrito\n",
              "9                             Canned Soda\n",
              "10                      Canned Soft Drink\n",
              "11                          Carnitas Bowl\n",
              "12                       Carnitas Burrito\n",
              "13                  Carnitas Crispy Tacos\n",
              "14                         Carnitas Salad\n",
              "15                    Carnitas Salad Bowl\n",
              "16                    Carnitas Soft Tacos\n",
              "17                           Chicken Bowl\n",
              "18                        Chicken Burrito\n",
              "19                   Chicken Crispy Tacos\n",
              "20                          Chicken Salad\n",
              "21                     Chicken Salad Bowl\n",
              "22                     Chicken Soft Tacos\n",
              "23                                  Chips\n",
              "24           Chips and Fresh Tomato Salsa\n",
              "25                    Chips and Guacamole\n",
              "26      Chips and Mild Fresh Tomato Salsa\n",
              "27     Chips and Roasted Chili Corn Salsa\n",
              "28     Chips and Roasted Chili-Corn Salsa\n",
              "29  Chips and Tomatillo Green Chili Salsa\n",
              "30    Chips and Tomatillo Red Chili Salsa\n",
              "31  Chips and Tomatillo-Green Chili Salsa\n",
              "32    Chips and Tomatillo-Red Chili Salsa\n",
              "33                           Crispy Tacos\n",
              "34                                   Izze\n",
              "35                       Nantucket Nectar\n",
              "36                                  Salad\n",
              "37                          Side of Chips\n",
              "38                             Steak Bowl\n",
              "39                          Steak Burrito\n",
              "40                     Steak Crispy Tacos\n",
              "41                            Steak Salad\n",
              "42                       Steak Salad Bowl\n",
              "43                       Steak Soft Tacos\n",
              "44                            Veggie Bowl\n",
              "45                         Veggie Burrito\n",
              "46                    Veggie Crispy Tacos\n",
              "47                           Veggie Salad\n",
              "48                      Veggie Salad Bowl\n",
              "49                      Veggie Soft Tacos"
            ]
          },
          "execution_count": 166,
          "metadata": {},
          "output_type": "execute_result"
        }
      ],
      "source": [
        "#De lo anterior se puede visualizar que se repiten platillos como el: 'Chips and Tomatillo Green Chili Salsa', 'Chips and Tomatillo-Green Chili Salsa', \n",
        "# y Chips and Roasted Chili-Corn Salsa', 'Chips and Roasted Chili Corn Salsa'.\n",
        "#Por ello se debe se realizar una limpieza del array obtenido, para ello se transforma el array a un dataset el cual se pueda editar.\n",
        "items_df=pd.DataFrame(items)\n",
        "items_df"
      ]
    },
    {
      "cell_type": "code",
      "execution_count": 167,
      "metadata": {},
      "outputs": [
        {
          "data": {
            "text/html": [
              "<div>\n",
              "<style scoped>\n",
              "    .dataframe tbody tr th:only-of-type {\n",
              "        vertical-align: middle;\n",
              "    }\n",
              "\n",
              "    .dataframe tbody tr th {\n",
              "        vertical-align: top;\n",
              "    }\n",
              "\n",
              "    .dataframe thead th {\n",
              "        text-align: right;\n",
              "    }\n",
              "</style>\n",
              "<table border=\"1\" class=\"dataframe\">\n",
              "  <thead>\n",
              "    <tr style=\"text-align: right;\">\n",
              "      <th></th>\n",
              "      <th>0</th>\n",
              "    </tr>\n",
              "  </thead>\n",
              "  <tbody>\n",
              "    <tr>\n",
              "      <th>0</th>\n",
              "      <td>Soda</td>\n",
              "    </tr>\n",
              "    <tr>\n",
              "      <th>1</th>\n",
              "      <td>Barbacoa Bowl</td>\n",
              "    </tr>\n",
              "    <tr>\n",
              "      <th>2</th>\n",
              "      <td>Barbacoa Burrito</td>\n",
              "    </tr>\n",
              "    <tr>\n",
              "      <th>3</th>\n",
              "      <td>Barbacoa Crispy Tacos</td>\n",
              "    </tr>\n",
              "    <tr>\n",
              "      <th>4</th>\n",
              "      <td>Barbacoa Salad Bowl</td>\n",
              "    </tr>\n",
              "    <tr>\n",
              "      <th>5</th>\n",
              "      <td>Barbacoa Soft Tacos</td>\n",
              "    </tr>\n",
              "    <tr>\n",
              "      <th>6</th>\n",
              "      <td>Bottled Water</td>\n",
              "    </tr>\n",
              "    <tr>\n",
              "      <th>7</th>\n",
              "      <td>Bowl</td>\n",
              "    </tr>\n",
              "    <tr>\n",
              "      <th>8</th>\n",
              "      <td>Burrito</td>\n",
              "    </tr>\n",
              "    <tr>\n",
              "      <th>9</th>\n",
              "      <td>Soda</td>\n",
              "    </tr>\n",
              "    <tr>\n",
              "      <th>10</th>\n",
              "      <td>Soda</td>\n",
              "    </tr>\n",
              "    <tr>\n",
              "      <th>11</th>\n",
              "      <td>Carnitas Bowl</td>\n",
              "    </tr>\n",
              "    <tr>\n",
              "      <th>12</th>\n",
              "      <td>Carnitas Burrito</td>\n",
              "    </tr>\n",
              "    <tr>\n",
              "      <th>13</th>\n",
              "      <td>Carnitas Crispy Tacos</td>\n",
              "    </tr>\n",
              "    <tr>\n",
              "      <th>14</th>\n",
              "      <td>Carnitas Salad</td>\n",
              "    </tr>\n",
              "    <tr>\n",
              "      <th>15</th>\n",
              "      <td>Carnitas Salad Bowl</td>\n",
              "    </tr>\n",
              "    <tr>\n",
              "      <th>16</th>\n",
              "      <td>Carnitas Soft Tacos</td>\n",
              "    </tr>\n",
              "    <tr>\n",
              "      <th>17</th>\n",
              "      <td>Chicken Bowl</td>\n",
              "    </tr>\n",
              "    <tr>\n",
              "      <th>18</th>\n",
              "      <td>Chicken Burrito</td>\n",
              "    </tr>\n",
              "    <tr>\n",
              "      <th>19</th>\n",
              "      <td>Chicken Crispy Tacos</td>\n",
              "    </tr>\n",
              "    <tr>\n",
              "      <th>20</th>\n",
              "      <td>Chicken Salad</td>\n",
              "    </tr>\n",
              "    <tr>\n",
              "      <th>21</th>\n",
              "      <td>Chicken Salad Bowl</td>\n",
              "    </tr>\n",
              "    <tr>\n",
              "      <th>22</th>\n",
              "      <td>Chicken Soft Tacos</td>\n",
              "    </tr>\n",
              "    <tr>\n",
              "      <th>23</th>\n",
              "      <td>Chips</td>\n",
              "    </tr>\n",
              "    <tr>\n",
              "      <th>24</th>\n",
              "      <td>Chips and Fresh Tomato Salsa</td>\n",
              "    </tr>\n",
              "    <tr>\n",
              "      <th>25</th>\n",
              "      <td>Chips and Guacamole</td>\n",
              "    </tr>\n",
              "    <tr>\n",
              "      <th>26</th>\n",
              "      <td>Chips and Mild Fresh Tomato Salsa</td>\n",
              "    </tr>\n",
              "    <tr>\n",
              "      <th>27</th>\n",
              "      <td>Chips and Roasted Chili Corn Salsa</td>\n",
              "    </tr>\n",
              "    <tr>\n",
              "      <th>28</th>\n",
              "      <td>Chips and Roasted Chili Corn Salsa</td>\n",
              "    </tr>\n",
              "    <tr>\n",
              "      <th>29</th>\n",
              "      <td>Chips and Tomatillo Green Chili Salsa</td>\n",
              "    </tr>\n",
              "    <tr>\n",
              "      <th>30</th>\n",
              "      <td>Chips and Tomatillo Red Chili Salsa</td>\n",
              "    </tr>\n",
              "    <tr>\n",
              "      <th>31</th>\n",
              "      <td>Chips and Tomatillo Green Chili Salsa</td>\n",
              "    </tr>\n",
              "    <tr>\n",
              "      <th>32</th>\n",
              "      <td>Chips and Tomatillo Red Chili Salsa</td>\n",
              "    </tr>\n",
              "    <tr>\n",
              "      <th>33</th>\n",
              "      <td>Crispy Tacos</td>\n",
              "    </tr>\n",
              "    <tr>\n",
              "      <th>34</th>\n",
              "      <td>Izze</td>\n",
              "    </tr>\n",
              "    <tr>\n",
              "      <th>35</th>\n",
              "      <td>Nantucket Nectar</td>\n",
              "    </tr>\n",
              "    <tr>\n",
              "      <th>36</th>\n",
              "      <td>Salad</td>\n",
              "    </tr>\n",
              "    <tr>\n",
              "      <th>37</th>\n",
              "      <td>Side of Chips</td>\n",
              "    </tr>\n",
              "    <tr>\n",
              "      <th>38</th>\n",
              "      <td>Steak Bowl</td>\n",
              "    </tr>\n",
              "    <tr>\n",
              "      <th>39</th>\n",
              "      <td>Steak Burrito</td>\n",
              "    </tr>\n",
              "    <tr>\n",
              "      <th>40</th>\n",
              "      <td>Steak Crispy Tacos</td>\n",
              "    </tr>\n",
              "    <tr>\n",
              "      <th>41</th>\n",
              "      <td>Steak Salad</td>\n",
              "    </tr>\n",
              "    <tr>\n",
              "      <th>42</th>\n",
              "      <td>Steak Salad Bowl</td>\n",
              "    </tr>\n",
              "    <tr>\n",
              "      <th>43</th>\n",
              "      <td>Steak Soft Tacos</td>\n",
              "    </tr>\n",
              "    <tr>\n",
              "      <th>44</th>\n",
              "      <td>Veggie Bowl</td>\n",
              "    </tr>\n",
              "    <tr>\n",
              "      <th>45</th>\n",
              "      <td>Veggie Burrito</td>\n",
              "    </tr>\n",
              "    <tr>\n",
              "      <th>46</th>\n",
              "      <td>Veggie Crispy Tacos</td>\n",
              "    </tr>\n",
              "    <tr>\n",
              "      <th>47</th>\n",
              "      <td>Veggie Salad</td>\n",
              "    </tr>\n",
              "    <tr>\n",
              "      <th>48</th>\n",
              "      <td>Veggie Salad Bowl</td>\n",
              "    </tr>\n",
              "    <tr>\n",
              "      <th>49</th>\n",
              "      <td>Veggie Soft Tacos</td>\n",
              "    </tr>\n",
              "  </tbody>\n",
              "</table>\n",
              "</div>"
            ],
            "text/plain": [
              "                                        0\n",
              "0                                    Soda\n",
              "1                           Barbacoa Bowl\n",
              "2                        Barbacoa Burrito\n",
              "3                   Barbacoa Crispy Tacos\n",
              "4                     Barbacoa Salad Bowl\n",
              "5                     Barbacoa Soft Tacos\n",
              "6                           Bottled Water\n",
              "7                                    Bowl\n",
              "8                                 Burrito\n",
              "9                                    Soda\n",
              "10                                   Soda\n",
              "11                          Carnitas Bowl\n",
              "12                       Carnitas Burrito\n",
              "13                  Carnitas Crispy Tacos\n",
              "14                         Carnitas Salad\n",
              "15                    Carnitas Salad Bowl\n",
              "16                    Carnitas Soft Tacos\n",
              "17                           Chicken Bowl\n",
              "18                        Chicken Burrito\n",
              "19                   Chicken Crispy Tacos\n",
              "20                          Chicken Salad\n",
              "21                     Chicken Salad Bowl\n",
              "22                     Chicken Soft Tacos\n",
              "23                                  Chips\n",
              "24           Chips and Fresh Tomato Salsa\n",
              "25                    Chips and Guacamole\n",
              "26      Chips and Mild Fresh Tomato Salsa\n",
              "27     Chips and Roasted Chili Corn Salsa\n",
              "28     Chips and Roasted Chili Corn Salsa\n",
              "29  Chips and Tomatillo Green Chili Salsa\n",
              "30    Chips and Tomatillo Red Chili Salsa\n",
              "31  Chips and Tomatillo Green Chili Salsa\n",
              "32    Chips and Tomatillo Red Chili Salsa\n",
              "33                           Crispy Tacos\n",
              "34                                   Izze\n",
              "35                       Nantucket Nectar\n",
              "36                                  Salad\n",
              "37                          Side of Chips\n",
              "38                             Steak Bowl\n",
              "39                          Steak Burrito\n",
              "40                     Steak Crispy Tacos\n",
              "41                            Steak Salad\n",
              "42                       Steak Salad Bowl\n",
              "43                       Steak Soft Tacos\n",
              "44                            Veggie Bowl\n",
              "45                         Veggie Burrito\n",
              "46                    Veggie Crispy Tacos\n",
              "47                           Veggie Salad\n",
              "48                      Veggie Salad Bowl\n",
              "49                      Veggie Soft Tacos"
            ]
          },
          "execution_count": 167,
          "metadata": {},
          "output_type": "execute_result"
        }
      ],
      "source": [
        "#A partir del dataframe obtenido se utiliza el método replace para cambiar los items antes mencionados, tambien se agrupa las bebidas por la opción soda.\n",
        "items_df=pd.DataFrame(items)\n",
        "items_df[0]=items_df[0].replace({'Chips and Tomatillo-Green Chili Salsa':'Chips and Tomatillo Green Chili Salsa',\n",
        "'Chips and Roasted Chili-Corn Salsa':'Chips and Roasted Chili Corn Salsa',\n",
        "'Chips and Tomatillo-Red Chili Salsa':'Chips and Tomatillo Red Chili Salsa',\n",
        " '6 Pack Soft Drink':'Soda','Canned Soda':'Soda','Canned Soft Drink':'Soda'})\n",
        "items_df #Visualización de los cambios\n"
      ]
    },
    {
      "cell_type": "code",
      "execution_count": 168,
      "metadata": {},
      "outputs": [
        {
          "data": {
            "text/plain": [
              "array(['Soda', 'Barbacoa Bowl', 'Barbacoa Burrito',\n",
              "       'Barbacoa Crispy Tacos', 'Barbacoa Salad Bowl',\n",
              "       'Barbacoa Soft Tacos', 'Bottled Water', 'Bowl', 'Burrito',\n",
              "       'Carnitas Bowl', 'Carnitas Burrito', 'Carnitas Crispy Tacos',\n",
              "       'Carnitas Salad', 'Carnitas Salad Bowl', 'Carnitas Soft Tacos',\n",
              "       'Chicken Bowl', 'Chicken Burrito', 'Chicken Crispy Tacos',\n",
              "       'Chicken Salad', 'Chicken Salad Bowl', 'Chicken Soft Tacos',\n",
              "       'Chips', 'Chips and Fresh Tomato Salsa', 'Chips and Guacamole',\n",
              "       'Chips and Mild Fresh Tomato Salsa',\n",
              "       'Chips and Roasted Chili Corn Salsa',\n",
              "       'Chips and Tomatillo Green Chili Salsa',\n",
              "       'Chips and Tomatillo Red Chili Salsa', 'Crispy Tacos', 'Izze',\n",
              "       'Nantucket Nectar', 'Salad', 'Side of Chips', 'Steak Bowl',\n",
              "       'Steak Burrito', 'Steak Crispy Tacos', 'Steak Salad',\n",
              "       'Steak Salad Bowl', 'Steak Soft Tacos', 'Veggie Bowl',\n",
              "       'Veggie Burrito', 'Veggie Crispy Tacos', 'Veggie Salad',\n",
              "       'Veggie Salad Bowl', 'Veggie Soft Tacos'], dtype=object)"
            ]
          },
          "execution_count": 168,
          "metadata": {},
          "output_type": "execute_result"
        }
      ],
      "source": [
        "items_df[0].unique()  #Array que muestra solo los valores únicos de data set."
      ]
    },
    {
      "cell_type": "code",
      "execution_count": 169,
      "metadata": {
        "id": "YzQMhDIM3tkg"
      },
      "outputs": [
        {
          "data": {
            "text/plain": [
              "45"
            ]
          },
          "execution_count": 169,
          "metadata": {},
          "output_type": "execute_result"
        }
      ],
      "source": [
        "items_df[0].nunique() #Se indica la cantidad de platillos, sin repetir, que se vendieron en el dataset"
      ]
    }
  ],
  "metadata": {
    "anaconda-cloud": {},
    "colab": {
      "collapsed_sections": [],
      "name": "Copia de Exercises.ipynb",
      "provenance": []
    },
    "kernelspec": {
      "display_name": "Python 3.10.4 64-bit",
      "language": "python",
      "name": "python3"
    },
    "language_info": {
      "codemirror_mode": {
        "name": "ipython",
        "version": 3
      },
      "file_extension": ".py",
      "mimetype": "text/x-python",
      "name": "python",
      "nbconvert_exporter": "python",
      "pygments_lexer": "ipython3",
      "version": "3.10.4"
    },
    "vscode": {
      "interpreter": {
        "hash": "6483d42e64b705807ee7ab627fc5c3df04fe935c6b01693ce46ae2d688d3de35"
      }
    }
  },
  "nbformat": 4,
  "nbformat_minor": 0
}
